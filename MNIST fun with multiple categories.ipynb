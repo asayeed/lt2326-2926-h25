{
 "cells": [
  {
   "cell_type": "code",
   "execution_count": 1,
   "id": "89c32562-7fe4-44d3-88ee-fe1a7325c247",
   "metadata": {},
   "outputs": [],
   "source": [
    "from mnistfun_multicat import MNISTDataset, train"
   ]
  },
  {
   "cell_type": "code",
   "execution_count": 2,
   "id": "e22ec12c-49a6-4992-95e4-b6b6a33e9557",
   "metadata": {},
   "outputs": [],
   "source": [
    "dataset = MNISTDataset(\"/scratch/lt2326-2926-h25/mnist-pngs/train\", list(range(10)), device=\"cuda:2\")"
   ]
  },
  {
   "cell_type": "code",
   "execution_count": 3,
   "id": "828ab795-22c9-40ce-bb07-4a7ea6304bae",
   "metadata": {},
   "outputs": [
    {
     "name": "stderr",
     "output_type": "stream",
     "text": [
      "  0%|                                                  | 0/2400 [00:00<?, ?it/s]/usr/local/lib64/python3.12/site-packages/torch/nn/modules/conv.py:454: UserWarning: Using padding='same' with even kernel lengths and odd dilation may require a zero-padded copy of the input be created (Triggered internally at ../aten/src/ATen/native/Convolution.cpp:1031.)\n",
      "  return F.conv2d(input, weight, bias, self.stride,\n",
      "/usr/local/lib64/python3.12/site-packages/torch/nn/modules/module.py:1553: UserWarning: Implicit dimension choice for log_softmax has been deprecated. Change the call to include dim=X as an argument.\n",
      "  return self._call_impl(*args, **kwargs)\n",
      "100%|██████████████████████████████████████| 2400/2400 [00:03<00:00, 609.64it/s]\n"
     ]
    },
    {
     "name": "stdout",
     "output_type": "stream",
     "text": [
      "Total loss = 3944.920097351074 at epoch 0.\n"
     ]
    },
    {
     "name": "stderr",
     "output_type": "stream",
     "text": [
      "100%|██████████████████████████████████████| 2400/2400 [00:03<00:00, 646.38it/s]\n"
     ]
    },
    {
     "name": "stdout",
     "output_type": "stream",
     "text": [
      "Total loss = 3747.1954593658447 at epoch 1.\n"
     ]
    },
    {
     "name": "stderr",
     "output_type": "stream",
     "text": [
      "100%|██████████████████████████████████████| 2400/2400 [00:03<00:00, 641.70it/s]\n"
     ]
    },
    {
     "name": "stdout",
     "output_type": "stream",
     "text": [
      "Total loss = 3732.3212728500366 at epoch 2.\n"
     ]
    },
    {
     "name": "stderr",
     "output_type": "stream",
     "text": [
      "100%|██████████████████████████████████████| 2400/2400 [00:03<00:00, 645.17it/s]\n"
     ]
    },
    {
     "name": "stdout",
     "output_type": "stream",
     "text": [
      "Total loss = 3709.6890407800674 at epoch 3.\n"
     ]
    },
    {
     "name": "stderr",
     "output_type": "stream",
     "text": [
      "100%|██████████████████████████████████████| 2400/2400 [00:03<00:00, 638.33it/s]\n"
     ]
    },
    {
     "name": "stdout",
     "output_type": "stream",
     "text": [
      "Total loss = 3705.5944151878357 at epoch 4.\n"
     ]
    },
    {
     "name": "stderr",
     "output_type": "stream",
     "text": [
      "100%|██████████████████████████████████████| 2400/2400 [00:03<00:00, 643.21it/s]\n"
     ]
    },
    {
     "name": "stdout",
     "output_type": "stream",
     "text": [
      "Total loss = 3706.610731124878 at epoch 5.\n"
     ]
    },
    {
     "name": "stderr",
     "output_type": "stream",
     "text": [
      "100%|██████████████████████████████████████| 2400/2400 [00:03<00:00, 646.65it/s]\n"
     ]
    },
    {
     "name": "stdout",
     "output_type": "stream",
     "text": [
      "Total loss = 3684.774714946747 at epoch 6.\n"
     ]
    },
    {
     "name": "stderr",
     "output_type": "stream",
     "text": [
      "100%|██████████████████████████████████████| 2400/2400 [00:03<00:00, 647.45it/s]\n"
     ]
    },
    {
     "name": "stdout",
     "output_type": "stream",
     "text": [
      "Total loss = 3683.375094294548 at epoch 7.\n"
     ]
    },
    {
     "name": "stderr",
     "output_type": "stream",
     "text": [
      "100%|██████████████████████████████████████| 2400/2400 [00:03<00:00, 646.26it/s]\n"
     ]
    },
    {
     "name": "stdout",
     "output_type": "stream",
     "text": [
      "Total loss = 3683.597659111023 at epoch 8.\n"
     ]
    },
    {
     "name": "stderr",
     "output_type": "stream",
     "text": [
      "100%|██████████████████████████████████████| 2400/2400 [00:03<00:00, 646.56it/s]\n"
     ]
    },
    {
     "name": "stdout",
     "output_type": "stream",
     "text": [
      "Total loss = 3682.858850836754 at epoch 9.\n"
     ]
    },
    {
     "name": "stderr",
     "output_type": "stream",
     "text": [
      "100%|██████████████████████████████████████| 2400/2400 [00:03<00:00, 645.81it/s]\n"
     ]
    },
    {
     "name": "stdout",
     "output_type": "stream",
     "text": [
      "Total loss = 3677.3827633857727 at epoch 10.\n"
     ]
    },
    {
     "name": "stderr",
     "output_type": "stream",
     "text": [
      "100%|██████████████████████████████████████| 2400/2400 [00:03<00:00, 646.54it/s]\n"
     ]
    },
    {
     "name": "stdout",
     "output_type": "stream",
     "text": [
      "Total loss = 3677.4200872182846 at epoch 11.\n"
     ]
    },
    {
     "name": "stderr",
     "output_type": "stream",
     "text": [
      "100%|██████████████████████████████████████| 2400/2400 [00:03<00:00, 646.95it/s]\n"
     ]
    },
    {
     "name": "stdout",
     "output_type": "stream",
     "text": [
      "Total loss = 3674.2193813323975 at epoch 12.\n"
     ]
    },
    {
     "name": "stderr",
     "output_type": "stream",
     "text": [
      "100%|██████████████████████████████████████| 2400/2400 [00:03<00:00, 642.20it/s]\n"
     ]
    },
    {
     "name": "stdout",
     "output_type": "stream",
     "text": [
      "Total loss = 3677.070336699486 at epoch 13.\n"
     ]
    },
    {
     "name": "stderr",
     "output_type": "stream",
     "text": [
      "100%|██████████████████████████████████████| 2400/2400 [00:03<00:00, 647.27it/s]\n"
     ]
    },
    {
     "name": "stdout",
     "output_type": "stream",
     "text": [
      "Total loss = 3675.0549305677414 at epoch 14.\n"
     ]
    },
    {
     "name": "stderr",
     "output_type": "stream",
     "text": [
      "100%|██████████████████████████████████████| 2400/2400 [00:03<00:00, 646.55it/s]\n"
     ]
    },
    {
     "name": "stdout",
     "output_type": "stream",
     "text": [
      "Total loss = 3676.146289229393 at epoch 15.\n"
     ]
    },
    {
     "name": "stderr",
     "output_type": "stream",
     "text": [
      "100%|██████████████████████████████████████| 2400/2400 [00:03<00:00, 646.70it/s]\n"
     ]
    },
    {
     "name": "stdout",
     "output_type": "stream",
     "text": [
      "Total loss = 3670.103402376175 at epoch 16.\n"
     ]
    },
    {
     "name": "stderr",
     "output_type": "stream",
     "text": [
      "100%|██████████████████████████████████████| 2400/2400 [00:03<00:00, 646.88it/s]\n"
     ]
    },
    {
     "name": "stdout",
     "output_type": "stream",
     "text": [
      "Total loss = 3671.800724387169 at epoch 17.\n"
     ]
    },
    {
     "name": "stderr",
     "output_type": "stream",
     "text": [
      "100%|██████████████████████████████████████| 2400/2400 [00:03<00:00, 646.29it/s]\n"
     ]
    },
    {
     "name": "stdout",
     "output_type": "stream",
     "text": [
      "Total loss = 3673.1085724830627 at epoch 18.\n"
     ]
    },
    {
     "name": "stderr",
     "output_type": "stream",
     "text": [
      "100%|██████████████████████████████████████| 2400/2400 [00:03<00:00, 646.64it/s]\n"
     ]
    },
    {
     "name": "stdout",
     "output_type": "stream",
     "text": [
      "Total loss = 3670.262478351593 at epoch 19.\n"
     ]
    },
    {
     "name": "stderr",
     "output_type": "stream",
     "text": [
      "100%|██████████████████████████████████████| 2400/2400 [00:03<00:00, 645.57it/s]\n"
     ]
    },
    {
     "name": "stdout",
     "output_type": "stream",
     "text": [
      "Total loss = 3663.391942381859 at epoch 20.\n"
     ]
    },
    {
     "name": "stderr",
     "output_type": "stream",
     "text": [
      "100%|██████████████████████████████████████| 2400/2400 [00:03<00:00, 646.07it/s]\n"
     ]
    },
    {
     "name": "stdout",
     "output_type": "stream",
     "text": [
      "Total loss = 3664.145684838295 at epoch 21.\n"
     ]
    },
    {
     "name": "stderr",
     "output_type": "stream",
     "text": [
      "100%|██████████████████████████████████████| 2400/2400 [00:03<00:00, 644.76it/s]\n"
     ]
    },
    {
     "name": "stdout",
     "output_type": "stream",
     "text": [
      "Total loss = 3668.14679813385 at epoch 22.\n"
     ]
    },
    {
     "name": "stderr",
     "output_type": "stream",
     "text": [
      "100%|██████████████████████████████████████| 2400/2400 [00:03<00:00, 644.49it/s]\n"
     ]
    },
    {
     "name": "stdout",
     "output_type": "stream",
     "text": [
      "Total loss = 3662.7890903949738 at epoch 23.\n"
     ]
    },
    {
     "name": "stderr",
     "output_type": "stream",
     "text": [
      "100%|██████████████████████████████████████| 2400/2400 [00:03<00:00, 644.72it/s]"
     ]
    },
    {
     "name": "stdout",
     "output_type": "stream",
     "text": [
      "Total loss = 3669.569784283638 at epoch 24.\n"
     ]
    },
    {
     "name": "stderr",
     "output_type": "stream",
     "text": [
      "\n"
     ]
    }
   ],
   "source": [
    "model = train(dataset, 10, epochs=25, device=\"cuda:2\")"
   ]
  },
  {
   "cell_type": "code",
   "execution_count": 4,
   "id": "88333f91-ae55-43f3-9580-2f1f6ac7bd6b",
   "metadata": {},
   "outputs": [],
   "source": [
    "test_dataset = MNISTDataset(\"/scratch/lt2326-2926-h25/mnist-pngs/test\", list(range(10)), device=\"cuda:2\")"
   ]
  },
  {
   "cell_type": "code",
   "execution_count": 5,
   "id": "e1279f36-2457-49c4-97d8-eb3f781e314d",
   "metadata": {},
   "outputs": [],
   "source": [
    "from torcheval.metrics import MulticlassF1Score, MulticlassConfusionMatrix"
   ]
  },
  {
   "cell_type": "code",
   "execution_count": 6,
   "id": "8b9bd9a6-1b22-441f-bde0-0b6398b7d400",
   "metadata": {},
   "outputs": [],
   "source": [
    "import torch"
   ]
  },
  {
   "cell_type": "code",
   "execution_count": 7,
   "id": "7bbfc978-a1dd-44a6-9b95-e78af7a41b50",
   "metadata": {},
   "outputs": [],
   "source": [
    "testX, testy = zip(*test_dataset.imagetensors)"
   ]
  },
  {
   "cell_type": "code",
   "execution_count": 8,
   "id": "5ee34c8d-5d62-4968-80c3-673290bce3ad",
   "metadata": {},
   "outputs": [],
   "source": [
    "testX = torch.concat(testX)"
   ]
  },
  {
   "cell_type": "code",
   "execution_count": 9,
   "id": "902af8c4-0a96-4839-8694-67db2afe377c",
   "metadata": {},
   "outputs": [
    {
     "data": {
      "text/plain": [
       "DigitClassificationModel(\n",
       "  (conv2d): Conv2d(1, 1, kernel_size=(2, 2), stride=(1, 1), padding=same)\n",
       "  (flatten): Flatten(start_dim=2, end_dim=3)\n",
       "  (tanh): Tanh()\n",
       "  (linear): Linear(in_features=784, out_features=10, bias=True)\n",
       "  (logsoftmax): LogSoftmax(dim=None)\n",
       ")"
      ]
     },
     "execution_count": 9,
     "metadata": {},
     "output_type": "execute_result"
    }
   ],
   "source": [
    "model.eval()"
   ]
  },
  {
   "cell_type": "code",
   "execution_count": 10,
   "id": "880a1236-ddfc-48f7-8fce-9a544500aff5",
   "metadata": {},
   "outputs": [
    {
     "data": {
      "text/plain": [
       "torch.Size([10000, 1, 28, 28])"
      ]
     },
     "execution_count": 10,
     "metadata": {},
     "output_type": "execute_result"
    }
   ],
   "source": [
    "testX.unsqueeze(1).size()"
   ]
  },
  {
   "cell_type": "code",
   "execution_count": 11,
   "id": "42e99609-1ca4-4db7-9613-b62d61df42ec",
   "metadata": {},
   "outputs": [],
   "source": [
    "testy = torch.Tensor(testy).to('cuda:2')"
   ]
  },
  {
   "cell_type": "code",
   "execution_count": 12,
   "id": "26d2c5e2-8266-4a4a-baac-52eb9da11bd6",
   "metadata": {},
   "outputs": [
    {
     "data": {
      "text/plain": [
       "tensor([0., 0., 0.,  ..., 9., 9., 9.], device='cuda:2')"
      ]
     },
     "execution_count": 12,
     "metadata": {},
     "output_type": "execute_result"
    }
   ],
   "source": [
    "testy"
   ]
  },
  {
   "cell_type": "code",
   "execution_count": 13,
   "id": "e167bdfa-ce32-4369-8c73-1380a8920709",
   "metadata": {},
   "outputs": [],
   "source": [
    "with torch.no_grad():\n",
    "    testoutput = model(testX.unsqueeze(1))"
   ]
  },
  {
   "cell_type": "code",
   "execution_count": 14,
   "id": "53b01f0c-9fed-4d76-9be3-f1775dbf05b2",
   "metadata": {},
   "outputs": [],
   "source": [
    "metric = MulticlassF1Score()"
   ]
  },
  {
   "cell_type": "code",
   "execution_count": 15,
   "id": "eac806c9-5b31-4655-b419-9dc7fd033d13",
   "metadata": {},
   "outputs": [
    {
     "data": {
      "text/plain": [
       "<torcheval.metrics.classification.f1_score.MulticlassF1Score at 0x7f068d7dde80>"
      ]
     },
     "execution_count": 15,
     "metadata": {},
     "output_type": "execute_result"
    }
   ],
   "source": [
    "metric.update(testoutput.squeeze(), testy)"
   ]
  },
  {
   "cell_type": "code",
   "execution_count": 16,
   "id": "9d60259c-365a-4eb4-9d8a-c32889cfa4d7",
   "metadata": {},
   "outputs": [
    {
     "data": {
      "text/plain": [
       "tensor(0.9154)"
      ]
     },
     "execution_count": 16,
     "metadata": {},
     "output_type": "execute_result"
    }
   ],
   "source": [
    "metric.compute()"
   ]
  },
  {
   "cell_type": "code",
   "execution_count": 23,
   "id": "32b73a13-44fa-4eda-8fd8-76b1efd12ed2",
   "metadata": {},
   "outputs": [],
   "source": [
    "confusion = MulticlassConfusionMatrix(10)"
   ]
  },
  {
   "cell_type": "code",
   "execution_count": 24,
   "id": "8e0f1516-20dd-4f85-a915-cb1f11cdcd93",
   "metadata": {},
   "outputs": [
    {
     "data": {
      "text/plain": [
       "tensor([[[ -6.5142, -22.7144, -11.5024,  ..., -15.2427, -12.4318, -13.1559]],\n",
       "\n",
       "        [[ -7.1397, -15.5642, -12.4730,  ..., -13.4029, -11.3138, -11.7477]],\n",
       "\n",
       "        [[ -7.0919, -21.1675, -12.8472,  ..., -15.6151, -12.0428, -17.7071]],\n",
       "\n",
       "        ...,\n",
       "\n",
       "        [[-24.3742, -19.2718, -23.2053,  ..., -10.0925, -11.7292,  -7.3396]],\n",
       "\n",
       "        [[-22.6282, -20.5260, -22.5609,  ...,  -9.8105, -14.0996,  -6.9191]],\n",
       "\n",
       "        [[-13.4972, -14.1579, -14.0939,  ..., -10.5523,  -8.9072,  -6.9416]]],\n",
       "       device='cuda:2')"
      ]
     },
     "execution_count": 24,
     "metadata": {},
     "output_type": "execute_result"
    }
   ],
   "source": [
    "testoutput"
   ]
  },
  {
   "cell_type": "code",
   "execution_count": 25,
   "id": "362b2ce5-0ee2-4c34-a1a2-0b3e08923f60",
   "metadata": {},
   "outputs": [
    {
     "data": {
      "text/plain": [
       "torch.Size([10000, 1, 10])"
      ]
     },
     "execution_count": 25,
     "metadata": {},
     "output_type": "execute_result"
    }
   ],
   "source": [
    "testoutput.size()"
   ]
  },
  {
   "cell_type": "code",
   "execution_count": 26,
   "id": "c4094439-2a0f-4b59-9512-cb36a3648050",
   "metadata": {},
   "outputs": [],
   "source": [
    "testargmax = torch.argmax(testoutput, dim=2)"
   ]
  },
  {
   "cell_type": "code",
   "execution_count": 27,
   "id": "bb4ccd37-cf39-4d13-8a34-8305a3808b2d",
   "metadata": {},
   "outputs": [
    {
     "data": {
      "text/plain": [
       "(torch.int64, torch.float32)"
      ]
     },
     "execution_count": 27,
     "metadata": {},
     "output_type": "execute_result"
    }
   ],
   "source": [
    "testargmax.dtype, testy.dtype"
   ]
  },
  {
   "cell_type": "code",
   "execution_count": 28,
   "id": "df54ae93-7854-454b-963a-6263431a36a7",
   "metadata": {},
   "outputs": [
    {
     "data": {
      "text/plain": [
       "<torcheval.metrics.classification.confusion_matrix.MulticlassConfusionMatrix at 0x7f068d2529c0>"
      ]
     },
     "execution_count": 28,
     "metadata": {},
     "output_type": "execute_result"
    }
   ],
   "source": [
    "confusion.update(testargmax.squeeze(1), testy.long())"
   ]
  },
  {
   "cell_type": "code",
   "execution_count": 31,
   "id": "7afc2fd4-ee2d-41bc-9f16-17368fcf0db2",
   "metadata": {},
   "outputs": [
    {
     "data": {
      "text/plain": [
       "tensor([[9.5500e+02, 0.0000e+00, 0.0000e+00, 1.0000e+00, 1.0000e+00, 8.0000e+00,\n",
       "         6.0000e+00, 1.0000e+00, 7.0000e+00, 1.0000e+00],\n",
       "        [0.0000e+00, 1.1070e+03, 3.0000e+00, 2.0000e+00, 0.0000e+00, 3.0000e+00,\n",
       "         4.0000e+00, 0.0000e+00, 1.6000e+01, 0.0000e+00],\n",
       "        [8.0000e+00, 7.0000e+00, 8.8600e+02, 3.5000e+01, 1.8000e+01, 4.0000e+00,\n",
       "         1.4000e+01, 1.0000e+01, 4.6000e+01, 4.0000e+00],\n",
       "        [4.0000e+00, 0.0000e+00, 1.4000e+01, 9.0800e+02, 3.0000e+00, 2.6000e+01,\n",
       "         9.0000e+00, 1.0000e+01, 2.5000e+01, 1.1000e+01],\n",
       "        [1.0000e+00, 2.0000e+00, 5.0000e+00, 2.0000e+00, 9.0300e+02, 2.0000e+00,\n",
       "         6.0000e+00, 5.0000e+00, 8.0000e+00, 4.8000e+01],\n",
       "        [9.0000e+00, 2.0000e+00, 0.0000e+00, 4.0000e+01, 1.4000e+01, 7.6100e+02,\n",
       "         2.5000e+01, 5.0000e+00, 2.9000e+01, 7.0000e+00],\n",
       "        [1.2000e+01, 3.0000e+00, 5.0000e+00, 0.0000e+00, 1.1000e+01, 1.4000e+01,\n",
       "         9.0700e+02, 0.0000e+00, 6.0000e+00, 0.0000e+00],\n",
       "        [0.0000e+00, 5.0000e+00, 1.6000e+01, 1.3000e+01, 1.3000e+01, 2.0000e+00,\n",
       "         0.0000e+00, 9.4300e+02, 2.0000e+00, 3.4000e+01],\n",
       "        [4.0000e+00, 7.0000e+00, 7.0000e+00, 2.9000e+01, 9.0000e+00, 2.1000e+01,\n",
       "         7.0000e+00, 6.0000e+00, 8.6600e+02, 1.8000e+01],\n",
       "        [7.0000e+00, 5.0000e+00, 2.0000e+00, 1.7000e+01, 3.0000e+01, 8.0000e+00,\n",
       "         0.0000e+00, 1.7000e+01, 5.0000e+00, 9.1800e+02]])"
      ]
     },
     "execution_count": 31,
     "metadata": {},
     "output_type": "execute_result"
    }
   ],
   "source": [
    "conmatrix = confusion.compute()\n",
    "conmatrix"
   ]
  },
  {
   "cell_type": "code",
   "execution_count": 30,
   "id": "71f8f2cd-2cd1-4191-b843-9c25f2ef6210",
   "metadata": {},
   "outputs": [],
   "source": [
    "import matplotlib.pyplot as plt"
   ]
  },
  {
   "cell_type": "code",
   "execution_count": 32,
   "id": "aaa047c9-de34-4565-bf2a-06edf7472561",
   "metadata": {},
   "outputs": [
    {
     "data": {
      "text/plain": [
       "<matplotlib.image.AxesImage at 0x7f05ffe3e060>"
      ]
     },
     "execution_count": 32,
     "metadata": {},
     "output_type": "execute_result"
    },
    {
     "data": {
      "image/png": "[encoded data removed]",
      "text/plain": [
       "<Figure size 480x480 with 1 Axes>"
      ]
     },
     "metadata": {},
     "output_type": "display_data"
    }
   ],
   "source": [
    "plt.matshow(conmatrix)"
   ]
  },
  {
   "cell_type": "code",
   "execution_count": null,
   "id": "75274f5f-7995-4496-b8ca-32d1ec606f92",
   "metadata": {},
   "outputs": [],
   "source": [
    "trainX, trainy = zip(*dataset.imagetensors)"
   ]
  },
  {
   "cell_type": "code",
   "execution_count": null,
   "id": "ad6db591-8cd5-4667-b7a3-f16ead3c7d1d",
   "metadata": {},
   "outputs": [],
   "source": [
    "trainX = torch.flatten(torch.concat(trainX), 1, 2).numpy()"
   ]
  },
  {
   "cell_type": "code",
   "execution_count": null,
   "id": "678f9f34-1fe3-44a7-80ba-2bd717dc82a7",
   "metadata": {},
   "outputs": [],
   "source": [
    "trainX.shape"
   ]
  },
  {
   "cell_type": "code",
   "execution_count": null,
   "id": "b5f1338d-1667-452a-80b8-11b8264bed41",
   "metadata": {},
   "outputs": [],
   "source": [
    "import numpy as np"
   ]
  },
  {
   "cell_type": "code",
   "execution_count": null,
   "id": "cfab281f-3f83-4e2f-a6a0-e51562ae5cc4",
   "metadata": {},
   "outputs": [],
   "source": [
    "trainy = np.array(trainy)"
   ]
  },
  {
   "cell_type": "code",
   "execution_count": null,
   "id": "c95435b5-ccb6-4b8d-9681-931ad7b9c93e",
   "metadata": {},
   "outputs": [],
   "source": [
    "trainy.shape"
   ]
  },
  {
   "cell_type": "code",
   "execution_count": null,
   "id": "30e3731e-837d-4034-bb70-13170f43a5e2",
   "metadata": {},
   "outputs": [],
   "source": [
    "from sklearn.svm import SVC"
   ]
  },
  {
   "cell_type": "code",
   "execution_count": null,
   "id": "e7d65ee1-2613-4e58-87d9-726e02c40771",
   "metadata": {},
   "outputs": [],
   "source": [
    "svmmodel = SVC()"
   ]
  },
  {
   "cell_type": "code",
   "execution_count": null,
   "id": "b94b0422-3723-4ede-9ca5-8cbdf02a2203",
   "metadata": {},
   "outputs": [],
   "source": [
    "svmmodel.fit(trainX, trainy)"
   ]
  },
  {
   "cell_type": "code",
   "execution_count": null,
   "id": "f6076b50-4139-4ead-a641-588debe04594",
   "metadata": {},
   "outputs": [],
   "source": [
    "testX = torch.flatten(torch.concat(testX), 1, 2).numpy()"
   ]
  },
  {
   "cell_type": "code",
   "execution_count": null,
   "id": "2f8fc1de-96e0-4dcc-8814-bb8ee3949c8d",
   "metadata": {},
   "outputs": [],
   "source": [
    "testy = np.array(testy)"
   ]
  },
  {
   "cell_type": "code",
   "execution_count": null,
   "id": "562e031a-d953-4cac-801f-7e5d4078b5da",
   "metadata": {},
   "outputs": [],
   "source": [
    "testpredictions = svmmodel.predict(testX)"
   ]
  },
  {
   "cell_type": "code",
   "execution_count": null,
   "id": "17a7fbd2-9080-4884-8d6d-6d149ee3170c",
   "metadata": {},
   "outputs": [],
   "source": [
    "testpredictions.shape"
   ]
  },
  {
   "cell_type": "code",
   "execution_count": null,
   "id": "6f14e7cf-7b1a-4b43-aab2-fa05620010d2",
   "metadata": {},
   "outputs": [],
   "source": [
    "from sklearn.metrics import f1_score"
   ]
  },
  {
   "cell_type": "code",
   "execution_count": null,
   "id": "d6e16ebc-5708-4f27-b43d-16f92c5d43b7",
   "metadata": {},
   "outputs": [],
   "source": [
    "f1_score(testy, testpredictions)"
   ]
  },
  {
   "cell_type": "code",
   "execution_count": null,
   "id": "ea0505ba-e2e5-452b-aa25-47e13886fe75",
   "metadata": {},
   "outputs": [],
   "source": [
    "dir(dataset)"
   ]
  },
  {
   "cell_type": "code",
   "execution_count": null,
   "id": "291839a5-e967-41f3-9c37-effa25b4ef4c",
   "metadata": {},
   "outputs": [],
   "source": [
    "dataset[10000]"
   ]
  },
  {
   "cell_type": "code",
   "execution_count": null,
   "id": "ea906f00-eac0-4166-b086-fdc47f0f421c",
   "metadata": {},
   "outputs": [],
   "source": [
    "from matplotlib import pyplot as plt"
   ]
  },
  {
   "cell_type": "code",
   "execution_count": null,
   "id": "98a3ad22-84f6-4ad8-9b45-0db0846ae64c",
   "metadata": {},
   "outputs": [],
   "source": [
    "plt.imshow(dataset[2000][0].squeeze(0).numpy())"
   ]
  },
  {
   "cell_type": "code",
   "execution_count": null,
   "id": "281f16dd-0e8b-4fbc-a723-c2e7e61fc18b",
   "metadata": {},
   "outputs": [],
   "source": [
    "import torch.nn as nn\n",
    "convtest = nn.Conv2d(1, 1, (2,2), padding=\"same\")"
   ]
  },
  {
   "cell_type": "code",
   "execution_count": null,
   "id": "007ab362-348f-495d-bd36-54c39755e82a",
   "metadata": {},
   "outputs": [],
   "source": [
    "output = convtest(dataset[2000][0])"
   ]
  },
  {
   "cell_type": "code",
   "execution_count": null,
   "id": "debee849-0b8d-419d-92ad-62960d1f66a2",
   "metadata": {},
   "outputs": [],
   "source": [
    "output.size()"
   ]
  },
  {
   "cell_type": "code",
   "execution_count": null,
   "id": "0c093a68-8f79-487c-8891-91ca4c2609bb",
   "metadata": {},
   "outputs": [],
   "source": [
    "flattener = nn.Flatten(1,2)"
   ]
  },
  {
   "cell_type": "code",
   "execution_count": null,
   "id": "116ccd60-ee2a-46e7-b23f-92c5c82ce9f7",
   "metadata": {},
   "outputs": [],
   "source": [
    "output2 = flattener(output)"
   ]
  },
  {
   "cell_type": "code",
   "execution_count": null,
   "id": "66108809-6411-4812-94df-ae15921f14ed",
   "metadata": {},
   "outputs": [],
   "source": [
    "output2.size()"
   ]
  },
  {
   "cell_type": "code",
   "execution_count": null,
   "id": "52d7e298-b901-478d-afb3-d38420bbdbf2",
   "metadata": {},
   "outputs": [],
   "source": [
    "28*28"
   ]
  },
  {
   "cell_type": "code",
   "execution_count": null,
   "id": "7c0f6389-5130-46f0-81f7-75cac52c3008",
   "metadata": {},
   "outputs": [],
   "source": [
    "linear = nn.Linear(784, 2)"
   ]
  },
  {
   "cell_type": "code",
   "execution_count": null,
   "id": "3ae5d98a-bb79-4c70-b7f4-52c34ed4c238",
   "metadata": {},
   "outputs": [],
   "source": [
    "output3 = linear(output2)"
   ]
  },
  {
   "cell_type": "code",
   "execution_count": null,
   "id": "2a954240-9db3-4827-baeb-7b24f61b997c",
   "metadata": {},
   "outputs": [],
   "source": [
    "output3"
   ]
  },
  {
   "cell_type": "code",
   "execution_count": null,
   "id": "bc6c828e-6979-40d9-8b52-b2da70757751",
   "metadata": {},
   "outputs": [],
   "source": [
    "output3.size()"
   ]
  },
  {
   "cell_type": "code",
   "execution_count": null,
   "id": "c50bb415-89ea-457f-bb3d-d0b8b9354797",
   "metadata": {},
   "outputs": [],
   "source": [
    "from torch.utils.data import default_collate"
   ]
  },
  {
   "cell_type": "code",
   "execution_count": null,
   "id": "e83b435e-ef4d-4a7d-86a2-400d77352000",
   "metadata": {},
   "outputs": [],
   "source": [
    "default_collate([dataset[2000],dataset[10000]])"
   ]
  },
  {
   "cell_type": "code",
   "execution_count": 34,
   "id": "af8e111c-9fb4-4153-ac24-26d4a5cb4da8",
   "metadata": {},
   "outputs": [],
   "source": [
    "blahtensor = torch.randint(10, (1,20,20))"
   ]
  },
  {
   "cell_type": "code",
   "execution_count": 35,
   "id": "a7588f02-f9fd-42f4-9b8b-a26c90290bca",
   "metadata": {},
   "outputs": [
    {
     "data": {
      "text/plain": [
       "tensor([[[2, 7, 7, 8, 1, 7, 2, 7, 0, 9, 7, 4, 1, 9, 4, 6, 6, 9, 5, 7],\n",
       "         [8, 5, 6, 9, 6, 8, 7, 9, 6, 8, 4, 7, 2, 0, 6, 7, 5, 8, 4, 1],\n",
       "         [3, 8, 0, 1, 7, 8, 0, 2, 2, 9, 1, 2, 7, 6, 9, 0, 7, 5, 7, 3],\n",
       "         [6, 9, 1, 1, 8, 9, 5, 6, 1, 1, 2, 5, 3, 5, 9, 4, 4, 4, 9, 9],\n",
       "         [2, 5, 5, 4, 9, 6, 4, 5, 8, 9, 0, 3, 6, 7, 1, 1, 8, 1, 2, 4],\n",
       "         [3, 5, 4, 3, 1, 3, 4, 3, 8, 6, 4, 2, 4, 5, 2, 4, 4, 7, 2, 4],\n",
       "         [1, 4, 7, 9, 4, 4, 4, 3, 7, 7, 5, 3, 4, 8, 8, 2, 9, 6, 3, 0],\n",
       "         [9, 6, 3, 9, 7, 8, 5, 5, 6, 3, 2, 3, 6, 0, 7, 7, 4, 6, 2, 6],\n",
       "         [1, 9, 0, 1, 4, 7, 8, 7, 0, 8, 6, 3, 5, 9, 3, 9, 1, 1, 2, 2],\n",
       "         [6, 2, 5, 1, 4, 1, 6, 4, 0, 8, 1, 6, 3, 0, 0, 5, 6, 9, 2, 7],\n",
       "         [9, 5, 7, 3, 8, 9, 7, 6, 2, 4, 5, 0, 8, 2, 2, 9, 8, 9, 1, 7],\n",
       "         [3, 3, 9, 6, 2, 9, 2, 9, 1, 0, 7, 5, 4, 0, 3, 1, 7, 7, 1, 3],\n",
       "         [6, 7, 7, 8, 9, 9, 3, 8, 3, 1, 1, 9, 5, 7, 7, 0, 6, 1, 5, 7],\n",
       "         [8, 9, 0, 1, 1, 0, 5, 2, 0, 7, 6, 1, 5, 0, 9, 1, 6, 9, 6, 0],\n",
       "         [1, 3, 1, 5, 9, 6, 1, 4, 2, 9, 4, 1, 4, 4, 8, 5, 1, 7, 0, 2],\n",
       "         [6, 4, 1, 6, 5, 6, 4, 0, 8, 5, 2, 2, 9, 8, 9, 0, 1, 5, 6, 1],\n",
       "         [3, 2, 8, 9, 2, 2, 8, 5, 4, 9, 6, 5, 0, 3, 9, 3, 6, 6, 7, 4],\n",
       "         [1, 3, 2, 9, 6, 1, 4, 7, 9, 2, 9, 7, 9, 3, 9, 0, 5, 8, 3, 2],\n",
       "         [8, 1, 3, 0, 1, 3, 5, 3, 8, 4, 5, 4, 6, 9, 2, 4, 7, 0, 0, 6],\n",
       "         [0, 3, 4, 3, 5, 6, 1, 0, 5, 1, 0, 2, 5, 4, 8, 6, 9, 2, 9, 8]]])"
      ]
     },
     "execution_count": 35,
     "metadata": {},
     "output_type": "execute_result"
    }
   ],
   "source": [
    "blahtensor"
   ]
  },
  {
   "cell_type": "code",
   "execution_count": 47,
   "id": "b04ea209-ec4e-4036-865f-af9360c88c3f",
   "metadata": {},
   "outputs": [],
   "source": [
    "import torch.nn as nn\n",
    "unflattener = nn.Unflatten(2, (4, 5))"
   ]
  },
  {
   "cell_type": "code",
   "execution_count": 48,
   "id": "4c9f3464-c241-4af1-8032-48b1b65824e3",
   "metadata": {},
   "outputs": [
    {
     "data": {
      "text/plain": [
       "tensor([[[[2, 7, 7, 8, 1],\n",
       "          [7, 2, 7, 0, 9],\n",
       "          [7, 4, 1, 9, 4],\n",
       "          [6, 6, 9, 5, 7]],\n",
       "\n",
       "         [[8, 5, 6, 9, 6],\n",
       "          [8, 7, 9, 6, 8],\n",
       "          [4, 7, 2, 0, 6],\n",
       "          [7, 5, 8, 4, 1]],\n",
       "\n",
       "         [[3, 8, 0, 1, 7],\n",
       "          [8, 0, 2, 2, 9],\n",
       "          [1, 2, 7, 6, 9],\n",
       "          [0, 7, 5, 7, 3]],\n",
       "\n",
       "         [[6, 9, 1, 1, 8],\n",
       "          [9, 5, 6, 1, 1],\n",
       "          [2, 5, 3, 5, 9],\n",
       "          [4, 4, 4, 9, 9]],\n",
       "\n",
       "         [[2, 5, 5, 4, 9],\n",
       "          [6, 4, 5, 8, 9],\n",
       "          [0, 3, 6, 7, 1],\n",
       "          [1, 8, 1, 2, 4]],\n",
       "\n",
       "         [[3, 5, 4, 3, 1],\n",
       "          [3, 4, 3, 8, 6],\n",
       "          [4, 2, 4, 5, 2],\n",
       "          [4, 4, 7, 2, 4]],\n",
       "\n",
       "         [[1, 4, 7, 9, 4],\n",
       "          [4, 4, 3, 7, 7],\n",
       "          [5, 3, 4, 8, 8],\n",
       "          [2, 9, 6, 3, 0]],\n",
       "\n",
       "         [[9, 6, 3, 9, 7],\n",
       "          [8, 5, 5, 6, 3],\n",
       "          [2, 3, 6, 0, 7],\n",
       "          [7, 4, 6, 2, 6]],\n",
       "\n",
       "         [[1, 9, 0, 1, 4],\n",
       "          [7, 8, 7, 0, 8],\n",
       "          [6, 3, 5, 9, 3],\n",
       "          [9, 1, 1, 2, 2]],\n",
       "\n",
       "         [[6, 2, 5, 1, 4],\n",
       "          [1, 6, 4, 0, 8],\n",
       "          [1, 6, 3, 0, 0],\n",
       "          [5, 6, 9, 2, 7]],\n",
       "\n",
       "         [[9, 5, 7, 3, 8],\n",
       "          [9, 7, 6, 2, 4],\n",
       "          [5, 0, 8, 2, 2],\n",
       "          [9, 8, 9, 1, 7]],\n",
       "\n",
       "         [[3, 3, 9, 6, 2],\n",
       "          [9, 2, 9, 1, 0],\n",
       "          [7, 5, 4, 0, 3],\n",
       "          [1, 7, 7, 1, 3]],\n",
       "\n",
       "         [[6, 7, 7, 8, 9],\n",
       "          [9, 3, 8, 3, 1],\n",
       "          [1, 9, 5, 7, 7],\n",
       "          [0, 6, 1, 5, 7]],\n",
       "\n",
       "         [[8, 9, 0, 1, 1],\n",
       "          [0, 5, 2, 0, 7],\n",
       "          [6, 1, 5, 0, 9],\n",
       "          [1, 6, 9, 6, 0]],\n",
       "\n",
       "         [[1, 3, 1, 5, 9],\n",
       "          [6, 1, 4, 2, 9],\n",
       "          [4, 1, 4, 4, 8],\n",
       "          [5, 1, 7, 0, 2]],\n",
       "\n",
       "         [[6, 4, 1, 6, 5],\n",
       "          [6, 4, 0, 8, 5],\n",
       "          [2, 2, 9, 8, 9],\n",
       "          [0, 1, 5, 6, 1]],\n",
       "\n",
       "         [[3, 2, 8, 9, 2],\n",
       "          [2, 8, 5, 4, 9],\n",
       "          [6, 5, 0, 3, 9],\n",
       "          [3, 6, 6, 7, 4]],\n",
       "\n",
       "         [[1, 3, 2, 9, 6],\n",
       "          [1, 4, 7, 9, 2],\n",
       "          [9, 7, 9, 3, 9],\n",
       "          [0, 5, 8, 3, 2]],\n",
       "\n",
       "         [[8, 1, 3, 0, 1],\n",
       "          [3, 5, 3, 8, 4],\n",
       "          [5, 4, 6, 9, 2],\n",
       "          [4, 7, 0, 0, 6]],\n",
       "\n",
       "         [[0, 3, 4, 3, 5],\n",
       "          [6, 1, 0, 5, 1],\n",
       "          [0, 2, 5, 4, 8],\n",
       "          [6, 9, 2, 9, 8]]]])"
      ]
     },
     "execution_count": 48,
     "metadata": {},
     "output_type": "execute_result"
    }
   ],
   "source": [
    "unflattener(blahtensor)"
   ]
  },
  {
   "cell_type": "code",
   "execution_count": 40,
   "id": "883b8d8a-3735-4bda-b050-e48691cf2c3a",
   "metadata": {},
   "outputs": [
    {
     "data": {
      "text/plain": [
       "tensor([[2, 7, 7, 8, 1, 7, 2, 7, 0, 9, 7, 4, 1, 9, 4, 6, 6, 9, 5, 7],\n",
       "        [8, 5, 6, 9, 6, 8, 7, 9, 6, 8, 4, 7, 2, 0, 6, 7, 5, 8, 4, 1],\n",
       "        [3, 8, 0, 1, 7, 8, 0, 2, 2, 9, 1, 2, 7, 6, 9, 0, 7, 5, 7, 3],\n",
       "        [6, 9, 1, 1, 8, 9, 5, 6, 1, 1, 2, 5, 3, 5, 9, 4, 4, 4, 9, 9],\n",
       "        [2, 5, 5, 4, 9, 6, 4, 5, 8, 9, 0, 3, 6, 7, 1, 1, 8, 1, 2, 4],\n",
       "        [3, 5, 4, 3, 1, 3, 4, 3, 8, 6, 4, 2, 4, 5, 2, 4, 4, 7, 2, 4],\n",
       "        [1, 4, 7, 9, 4, 4, 4, 3, 7, 7, 5, 3, 4, 8, 8, 2, 9, 6, 3, 0],\n",
       "        [9, 6, 3, 9, 7, 8, 5, 5, 6, 3, 2, 3, 6, 0, 7, 7, 4, 6, 2, 6],\n",
       "        [1, 9, 0, 1, 4, 7, 8, 7, 0, 8, 6, 3, 5, 9, 3, 9, 1, 1, 2, 2],\n",
       "        [6, 2, 5, 1, 4, 1, 6, 4, 0, 8, 1, 6, 3, 0, 0, 5, 6, 9, 2, 7],\n",
       "        [9, 5, 7, 3, 8, 9, 7, 6, 2, 4, 5, 0, 8, 2, 2, 9, 8, 9, 1, 7],\n",
       "        [3, 3, 9, 6, 2, 9, 2, 9, 1, 0, 7, 5, 4, 0, 3, 1, 7, 7, 1, 3],\n",
       "        [6, 7, 7, 8, 9, 9, 3, 8, 3, 1, 1, 9, 5, 7, 7, 0, 6, 1, 5, 7],\n",
       "        [8, 9, 0, 1, 1, 0, 5, 2, 0, 7, 6, 1, 5, 0, 9, 1, 6, 9, 6, 0],\n",
       "        [1, 3, 1, 5, 9, 6, 1, 4, 2, 9, 4, 1, 4, 4, 8, 5, 1, 7, 0, 2],\n",
       "        [6, 4, 1, 6, 5, 6, 4, 0, 8, 5, 2, 2, 9, 8, 9, 0, 1, 5, 6, 1],\n",
       "        [3, 2, 8, 9, 2, 2, 8, 5, 4, 9, 6, 5, 0, 3, 9, 3, 6, 6, 7, 4],\n",
       "        [1, 3, 2, 9, 6, 1, 4, 7, 9, 2, 9, 7, 9, 3, 9, 0, 5, 8, 3, 2],\n",
       "        [8, 1, 3, 0, 1, 3, 5, 3, 8, 4, 5, 4, 6, 9, 2, 4, 7, 0, 0, 6],\n",
       "        [0, 3, 4, 3, 5, 6, 1, 0, 5, 1, 0, 2, 5, 4, 8, 6, 9, 2, 9, 8]])"
      ]
     },
     "execution_count": 40,
     "metadata": {},
     "output_type": "execute_result"
    }
   ],
   "source": [
    "blahtensor[0]"
   ]
  },
  {
   "cell_type": "code",
   "execution_count": null,
   "id": "2480de16-a784-4b9f-9411-af218fbe5446",
   "metadata": {},
   "outputs": [],
   "source": []
  }
 ],
 "metadata": {
  "kernelspec": {
   "display_name": "Python 3 (ipykernel)",
   "language": "python",
   "name": "python3"
  },
  "language_info": {
   "codemirror_mode": {
    "name": "ipython",
    "version": 3
   },
   "file_extension": ".py",
   "mimetype": "text/x-python",
   "name": "python",
   "nbconvert_exporter": "python",
   "pygments_lexer": "ipython3",
   "version": "3.12.11"
  }
 },
 "nbformat": 4,
 "nbformat_minor": 5
}

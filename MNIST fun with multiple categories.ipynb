{
 "cells": [
  {
   "cell_type": "code",
   "execution_count": 1,
   "id": "89c32562-7fe4-44d3-88ee-fe1a7325c247",
   "metadata": {},
   "outputs": [],
   "source": [
    "from mnistfun_multicat import MNISTDataset, train"
   ]
  },
  {
   "cell_type": "code",
   "execution_count": 2,
   "id": "e22ec12c-49a6-4992-95e4-b6b6a33e9557",
   "metadata": {},
   "outputs": [],
   "source": [
    "dataset = MNISTDataset(\"/scratch/lt2326-2926-h25/mnist-pngs/train\", [1,2,5,7])"
   ]
  },
  {
   "cell_type": "code",
   "execution_count": 3,
   "id": "828ab795-22c9-40ce-bb07-4a7ea6304bae",
   "metadata": {},
   "outputs": [
    {
     "name": "stderr",
     "output_type": "stream",
     "text": [
      "  0%|                                                   | 0/976 [00:00<?, ?it/s]/usr/local/lib64/python3.12/site-packages/torch/nn/modules/conv.py:454: UserWarning: Using padding='same' with even kernel lengths and odd dilation may require a zero-padded copy of the input be created (Triggered internally at ../aten/src/ATen/native/Convolution.cpp:1031.)\n",
      "  return F.conv2d(input, weight, bias, self.stride,\n",
      "/usr/local/lib64/python3.12/site-packages/torch/nn/modules/module.py:1553: UserWarning: Implicit dimension choice for log_softmax has been deprecated. Change the call to include dim=X as an argument.\n",
      "  return self._call_impl(*args, **kwargs)\n",
      "100%|████████████████████████████████████████| 976/976 [00:03<00:00, 317.49it/s]\n"
     ]
    },
    {
     "name": "stdout",
     "output_type": "stream",
     "text": [
      "Total loss = 2155.988538622856\n"
     ]
    },
    {
     "name": "stderr",
     "output_type": "stream",
     "text": [
      "100%|████████████████████████████████████████| 976/976 [00:01<00:00, 507.55it/s]\n"
     ]
    },
    {
     "name": "stdout",
     "output_type": "stream",
     "text": [
      "Total loss = 2065.6213907003403\n"
     ]
    },
    {
     "name": "stderr",
     "output_type": "stream",
     "text": [
      "100%|████████████████████████████████████████| 976/976 [00:01<00:00, 554.35it/s]\n"
     ]
    },
    {
     "name": "stdout",
     "output_type": "stream",
     "text": [
      "Total loss = 2049.8341530561447\n"
     ]
    },
    {
     "name": "stderr",
     "output_type": "stream",
     "text": [
      "100%|████████████████████████████████████████| 976/976 [00:01<00:00, 559.88it/s]\n"
     ]
    },
    {
     "name": "stdout",
     "output_type": "stream",
     "text": [
      "Total loss = 2045.466390490532\n"
     ]
    },
    {
     "name": "stderr",
     "output_type": "stream",
     "text": [
      "100%|████████████████████████████████████████| 976/976 [00:01<00:00, 548.95it/s]\n"
     ]
    },
    {
     "name": "stdout",
     "output_type": "stream",
     "text": [
      "Total loss = 2043.6992803812027\n"
     ]
    },
    {
     "name": "stderr",
     "output_type": "stream",
     "text": [
      "100%|████████████████████████████████████████| 976/976 [00:01<00:00, 513.30it/s]\n"
     ]
    },
    {
     "name": "stdout",
     "output_type": "stream",
     "text": [
      "Total loss = 2040.8913519382477\n"
     ]
    },
    {
     "name": "stderr",
     "output_type": "stream",
     "text": [
      "100%|████████████████████████████████████████| 976/976 [00:01<00:00, 503.31it/s]\n"
     ]
    },
    {
     "name": "stdout",
     "output_type": "stream",
     "text": [
      "Total loss = 2037.5107082128525\n"
     ]
    },
    {
     "name": "stderr",
     "output_type": "stream",
     "text": [
      "100%|████████████████████████████████████████| 976/976 [00:01<00:00, 555.85it/s]\n"
     ]
    },
    {
     "name": "stdout",
     "output_type": "stream",
     "text": [
      "Total loss = 2034.4196484088898\n"
     ]
    },
    {
     "name": "stderr",
     "output_type": "stream",
     "text": [
      "100%|████████████████████████████████████████| 976/976 [00:01<00:00, 560.87it/s]\n"
     ]
    },
    {
     "name": "stdout",
     "output_type": "stream",
     "text": [
      "Total loss = 2035.6548746824265\n"
     ]
    },
    {
     "name": "stderr",
     "output_type": "stream",
     "text": [
      "100%|████████████████████████████████████████| 976/976 [00:01<00:00, 561.17it/s]\n"
     ]
    },
    {
     "name": "stdout",
     "output_type": "stream",
     "text": [
      "Total loss = 2036.41617166996\n"
     ]
    },
    {
     "name": "stderr",
     "output_type": "stream",
     "text": [
      "100%|████████████████████████████████████████| 976/976 [00:01<00:00, 564.10it/s]\n"
     ]
    },
    {
     "name": "stdout",
     "output_type": "stream",
     "text": [
      "Total loss = 2034.4033832550049\n"
     ]
    },
    {
     "name": "stderr",
     "output_type": "stream",
     "text": [
      "100%|████████████████████████████████████████| 976/976 [00:01<00:00, 565.02it/s]\n"
     ]
    },
    {
     "name": "stdout",
     "output_type": "stream",
     "text": [
      "Total loss = 2030.850167274475\n"
     ]
    },
    {
     "name": "stderr",
     "output_type": "stream",
     "text": [
      "100%|████████████████████████████████████████| 976/976 [00:01<00:00, 564.61it/s]\n"
     ]
    },
    {
     "name": "stdout",
     "output_type": "stream",
     "text": [
      "Total loss = 2031.0851421356201\n"
     ]
    },
    {
     "name": "stderr",
     "output_type": "stream",
     "text": [
      "100%|████████████████████████████████████████| 976/976 [00:01<00:00, 565.09it/s]\n"
     ]
    },
    {
     "name": "stdout",
     "output_type": "stream",
     "text": [
      "Total loss = 2027.4753711223602\n"
     ]
    },
    {
     "name": "stderr",
     "output_type": "stream",
     "text": [
      "100%|████████████████████████████████████████| 976/976 [00:01<00:00, 564.56it/s]\n"
     ]
    },
    {
     "name": "stdout",
     "output_type": "stream",
     "text": [
      "Total loss = 2031.7694506645203\n"
     ]
    },
    {
     "name": "stderr",
     "output_type": "stream",
     "text": [
      "100%|████████████████████████████████████████| 976/976 [00:01<00:00, 562.28it/s]\n"
     ]
    },
    {
     "name": "stdout",
     "output_type": "stream",
     "text": [
      "Total loss = 2030.1190083026886\n"
     ]
    },
    {
     "name": "stderr",
     "output_type": "stream",
     "text": [
      "100%|████████████████████████████████████████| 976/976 [00:01<00:00, 555.60it/s]\n"
     ]
    },
    {
     "name": "stdout",
     "output_type": "stream",
     "text": [
      "Total loss = 2028.452844262123\n"
     ]
    },
    {
     "name": "stderr",
     "output_type": "stream",
     "text": [
      "100%|████████████████████████████████████████| 976/976 [00:01<00:00, 565.91it/s]\n"
     ]
    },
    {
     "name": "stdout",
     "output_type": "stream",
     "text": [
      "Total loss = 2028.599657535553\n"
     ]
    },
    {
     "name": "stderr",
     "output_type": "stream",
     "text": [
      "100%|████████████████████████████████████████| 976/976 [00:01<00:00, 564.50it/s]\n"
     ]
    },
    {
     "name": "stdout",
     "output_type": "stream",
     "text": [
      "Total loss = 2027.9704201221466\n"
     ]
    },
    {
     "name": "stderr",
     "output_type": "stream",
     "text": [
      "100%|████████████████████████████████████████| 976/976 [00:01<00:00, 564.51it/s]\n"
     ]
    },
    {
     "name": "stdout",
     "output_type": "stream",
     "text": [
      "Total loss = 2029.2446224689484\n"
     ]
    },
    {
     "name": "stderr",
     "output_type": "stream",
     "text": [
      "100%|████████████████████████████████████████| 976/976 [00:01<00:00, 563.47it/s]\n"
     ]
    },
    {
     "name": "stdout",
     "output_type": "stream",
     "text": [
      "Total loss = 2027.579935669899\n"
     ]
    },
    {
     "name": "stderr",
     "output_type": "stream",
     "text": [
      "100%|████████████████████████████████████████| 976/976 [00:01<00:00, 551.89it/s]\n"
     ]
    },
    {
     "name": "stdout",
     "output_type": "stream",
     "text": [
      "Total loss = 2026.5755423307419\n"
     ]
    },
    {
     "name": "stderr",
     "output_type": "stream",
     "text": [
      "100%|████████████████████████████████████████| 976/976 [00:01<00:00, 555.59it/s]\n"
     ]
    },
    {
     "name": "stdout",
     "output_type": "stream",
     "text": [
      "Total loss = 2029.453610420227\n"
     ]
    },
    {
     "name": "stderr",
     "output_type": "stream",
     "text": [
      "100%|████████████████████████████████████████| 976/976 [00:01<00:00, 552.49it/s]\n"
     ]
    },
    {
     "name": "stdout",
     "output_type": "stream",
     "text": [
      "Total loss = 2025.8909081220627\n"
     ]
    },
    {
     "name": "stderr",
     "output_type": "stream",
     "text": [
      "100%|████████████████████████████████████████| 976/976 [00:01<00:00, 553.87it/s]\n"
     ]
    },
    {
     "name": "stdout",
     "output_type": "stream",
     "text": [
      "Total loss = 2024.1492657661438\n"
     ]
    },
    {
     "name": "stderr",
     "output_type": "stream",
     "text": [
      "100%|████████████████████████████████████████| 976/976 [00:01<00:00, 559.90it/s]\n"
     ]
    },
    {
     "name": "stdout",
     "output_type": "stream",
     "text": [
      "Total loss = 2026.9323424100876\n"
     ]
    },
    {
     "name": "stderr",
     "output_type": "stream",
     "text": [
      "100%|████████████████████████████████████████| 976/976 [00:01<00:00, 558.15it/s]\n"
     ]
    },
    {
     "name": "stdout",
     "output_type": "stream",
     "text": [
      "Total loss = 2024.8099446296692\n"
     ]
    },
    {
     "name": "stderr",
     "output_type": "stream",
     "text": [
      "100%|████████████████████████████████████████| 976/976 [00:01<00:00, 557.23it/s]\n"
     ]
    },
    {
     "name": "stdout",
     "output_type": "stream",
     "text": [
      "Total loss = 2024.8723726272583\n"
     ]
    },
    {
     "name": "stderr",
     "output_type": "stream",
     "text": [
      "100%|████████████████████████████████████████| 976/976 [00:01<00:00, 545.08it/s]\n"
     ]
    },
    {
     "name": "stdout",
     "output_type": "stream",
     "text": [
      "Total loss = 2021.1275870800018\n"
     ]
    },
    {
     "name": "stderr",
     "output_type": "stream",
     "text": [
      "100%|████████████████████████████████████████| 976/976 [00:01<00:00, 551.05it/s]\n"
     ]
    },
    {
     "name": "stdout",
     "output_type": "stream",
     "text": [
      "Total loss = 2022.4702563285828\n"
     ]
    },
    {
     "name": "stderr",
     "output_type": "stream",
     "text": [
      "100%|████████████████████████████████████████| 976/976 [00:01<00:00, 546.79it/s]\n"
     ]
    },
    {
     "name": "stdout",
     "output_type": "stream",
     "text": [
      "Total loss = 2020.8921546936035\n"
     ]
    },
    {
     "name": "stderr",
     "output_type": "stream",
     "text": [
      "100%|████████████████████████████████████████| 976/976 [00:01<00:00, 554.18it/s]\n"
     ]
    },
    {
     "name": "stdout",
     "output_type": "stream",
     "text": [
      "Total loss = 2026.431934595108\n"
     ]
    },
    {
     "name": "stderr",
     "output_type": "stream",
     "text": [
      "100%|████████████████████████████████████████| 976/976 [00:01<00:00, 561.96it/s]\n"
     ]
    },
    {
     "name": "stdout",
     "output_type": "stream",
     "text": [
      "Total loss = 2025.9157419204712\n"
     ]
    },
    {
     "name": "stderr",
     "output_type": "stream",
     "text": [
      "100%|████████████████████████████████████████| 976/976 [00:01<00:00, 546.73it/s]\n"
     ]
    },
    {
     "name": "stdout",
     "output_type": "stream",
     "text": [
      "Total loss = 2027.4444843530655\n"
     ]
    },
    {
     "name": "stderr",
     "output_type": "stream",
     "text": [
      "100%|████████████████████████████████████████| 976/976 [00:01<00:00, 559.40it/s]\n"
     ]
    },
    {
     "name": "stdout",
     "output_type": "stream",
     "text": [
      "Total loss = 2024.8650739192963\n"
     ]
    },
    {
     "name": "stderr",
     "output_type": "stream",
     "text": [
      "100%|████████████████████████████████████████| 976/976 [00:01<00:00, 559.40it/s]\n"
     ]
    },
    {
     "name": "stdout",
     "output_type": "stream",
     "text": [
      "Total loss = 2023.3305847644806\n"
     ]
    },
    {
     "name": "stderr",
     "output_type": "stream",
     "text": [
      "100%|████████████████████████████████████████| 976/976 [00:01<00:00, 559.02it/s]\n"
     ]
    },
    {
     "name": "stdout",
     "output_type": "stream",
     "text": [
      "Total loss = 2024.599457025528\n"
     ]
    },
    {
     "name": "stderr",
     "output_type": "stream",
     "text": [
      "100%|████████████████████████████████████████| 976/976 [00:01<00:00, 558.48it/s]\n"
     ]
    },
    {
     "name": "stdout",
     "output_type": "stream",
     "text": [
      "Total loss = 2020.5702131986618\n"
     ]
    },
    {
     "name": "stderr",
     "output_type": "stream",
     "text": [
      "100%|████████████████████████████████████████| 976/976 [00:01<00:00, 546.49it/s]\n"
     ]
    },
    {
     "name": "stdout",
     "output_type": "stream",
     "text": [
      "Total loss = 2023.4579828977585\n"
     ]
    },
    {
     "name": "stderr",
     "output_type": "stream",
     "text": [
      "100%|████████████████████████████████████████| 976/976 [00:01<00:00, 556.87it/s]\n"
     ]
    },
    {
     "name": "stdout",
     "output_type": "stream",
     "text": [
      "Total loss = 2024.4055567979813\n"
     ]
    },
    {
     "name": "stderr",
     "output_type": "stream",
     "text": [
      "100%|████████████████████████████████████████| 976/976 [00:01<00:00, 558.71it/s]\n"
     ]
    },
    {
     "name": "stdout",
     "output_type": "stream",
     "text": [
      "Total loss = 2023.6052969694138\n"
     ]
    },
    {
     "name": "stderr",
     "output_type": "stream",
     "text": [
      "100%|████████████████████████████████████████| 976/976 [00:01<00:00, 558.81it/s]\n"
     ]
    },
    {
     "name": "stdout",
     "output_type": "stream",
     "text": [
      "Total loss = 2024.181468129158\n"
     ]
    },
    {
     "name": "stderr",
     "output_type": "stream",
     "text": [
      "100%|████████████████████████████████████████| 976/976 [00:01<00:00, 562.18it/s]\n"
     ]
    },
    {
     "name": "stdout",
     "output_type": "stream",
     "text": [
      "Total loss = 2024.4161666631699\n"
     ]
    },
    {
     "name": "stderr",
     "output_type": "stream",
     "text": [
      "100%|████████████████████████████████████████| 976/976 [00:01<00:00, 563.28it/s]\n"
     ]
    },
    {
     "name": "stdout",
     "output_type": "stream",
     "text": [
      "Total loss = 2022.6615862846375\n"
     ]
    },
    {
     "name": "stderr",
     "output_type": "stream",
     "text": [
      "100%|████████████████████████████████████████| 976/976 [00:01<00:00, 560.09it/s]\n"
     ]
    },
    {
     "name": "stdout",
     "output_type": "stream",
     "text": [
      "Total loss = 2023.540434718132\n"
     ]
    },
    {
     "name": "stderr",
     "output_type": "stream",
     "text": [
      "100%|████████████████████████████████████████| 976/976 [00:01<00:00, 562.40it/s]\n"
     ]
    },
    {
     "name": "stdout",
     "output_type": "stream",
     "text": [
      "Total loss = 2020.9268877506256\n"
     ]
    },
    {
     "name": "stderr",
     "output_type": "stream",
     "text": [
      "100%|████████████████████████████████████████| 976/976 [00:01<00:00, 559.35it/s]\n"
     ]
    },
    {
     "name": "stdout",
     "output_type": "stream",
     "text": [
      "Total loss = 2023.847486615181\n"
     ]
    },
    {
     "name": "stderr",
     "output_type": "stream",
     "text": [
      "100%|████████████████████████████████████████| 976/976 [00:01<00:00, 563.04it/s]\n"
     ]
    },
    {
     "name": "stdout",
     "output_type": "stream",
     "text": [
      "Total loss = 2022.3707381486893\n"
     ]
    },
    {
     "name": "stderr",
     "output_type": "stream",
     "text": [
      "100%|████████████████████████████████████████| 976/976 [00:01<00:00, 562.52it/s]\n"
     ]
    },
    {
     "name": "stdout",
     "output_type": "stream",
     "text": [
      "Total loss = 2023.6964548826218\n"
     ]
    },
    {
     "name": "stderr",
     "output_type": "stream",
     "text": [
      "100%|████████████████████████████████████████| 976/976 [00:01<00:00, 562.85it/s]\n"
     ]
    },
    {
     "name": "stdout",
     "output_type": "stream",
     "text": [
      "Total loss = 2022.9617458581924\n"
     ]
    },
    {
     "name": "stderr",
     "output_type": "stream",
     "text": [
      "100%|████████████████████████████████████████| 976/976 [00:01<00:00, 560.62it/s]\n"
     ]
    },
    {
     "name": "stdout",
     "output_type": "stream",
     "text": [
      "Total loss = 2021.9092243909836\n"
     ]
    },
    {
     "name": "stderr",
     "output_type": "stream",
     "text": [
      "100%|████████████████████████████████████████| 976/976 [00:01<00:00, 561.25it/s]\n"
     ]
    },
    {
     "name": "stdout",
     "output_type": "stream",
     "text": [
      "Total loss = 2021.9749122858047\n"
     ]
    },
    {
     "name": "stderr",
     "output_type": "stream",
     "text": [
      "100%|████████████████████████████████████████| 976/976 [00:01<00:00, 562.13it/s]\n"
     ]
    },
    {
     "name": "stdout",
     "output_type": "stream",
     "text": [
      "Total loss = 2024.2243341207504\n"
     ]
    },
    {
     "name": "stderr",
     "output_type": "stream",
     "text": [
      "100%|████████████████████████████████████████| 976/976 [00:01<00:00, 562.32it/s]\n"
     ]
    },
    {
     "name": "stdout",
     "output_type": "stream",
     "text": [
      "Total loss = 2022.7736691236496\n"
     ]
    },
    {
     "name": "stderr",
     "output_type": "stream",
     "text": [
      "100%|████████████████████████████████████████| 976/976 [00:01<00:00, 561.89it/s]\n"
     ]
    },
    {
     "name": "stdout",
     "output_type": "stream",
     "text": [
      "Total loss = 2021.4811046123505\n"
     ]
    },
    {
     "name": "stderr",
     "output_type": "stream",
     "text": [
      "100%|████████████████████████████████████████| 976/976 [00:01<00:00, 560.23it/s]\n"
     ]
    },
    {
     "name": "stdout",
     "output_type": "stream",
     "text": [
      "Total loss = 2020.1306903362274\n"
     ]
    },
    {
     "name": "stderr",
     "output_type": "stream",
     "text": [
      "100%|████████████████████████████████████████| 976/976 [00:01<00:00, 559.66it/s]\n"
     ]
    },
    {
     "name": "stdout",
     "output_type": "stream",
     "text": [
      "Total loss = 2019.5816676616669\n"
     ]
    },
    {
     "name": "stderr",
     "output_type": "stream",
     "text": [
      "100%|████████████████████████████████████████| 976/976 [00:01<00:00, 561.95it/s]\n"
     ]
    },
    {
     "name": "stdout",
     "output_type": "stream",
     "text": [
      "Total loss = 2021.399313211441\n"
     ]
    },
    {
     "name": "stderr",
     "output_type": "stream",
     "text": [
      "100%|████████████████████████████████████████| 976/976 [00:01<00:00, 562.42it/s]\n"
     ]
    },
    {
     "name": "stdout",
     "output_type": "stream",
     "text": [
      "Total loss = 2020.861479997635\n"
     ]
    },
    {
     "name": "stderr",
     "output_type": "stream",
     "text": [
      "100%|████████████████████████████████████████| 976/976 [00:01<00:00, 562.83it/s]\n"
     ]
    },
    {
     "name": "stdout",
     "output_type": "stream",
     "text": [
      "Total loss = 2020.9796916246414\n"
     ]
    },
    {
     "name": "stderr",
     "output_type": "stream",
     "text": [
      "100%|████████████████████████████████████████| 976/976 [00:01<00:00, 562.76it/s]\n"
     ]
    },
    {
     "name": "stdout",
     "output_type": "stream",
     "text": [
      "Total loss = 2022.8651313781738\n"
     ]
    },
    {
     "name": "stderr",
     "output_type": "stream",
     "text": [
      "100%|████████████████████████████████████████| 976/976 [00:01<00:00, 562.78it/s]\n"
     ]
    },
    {
     "name": "stdout",
     "output_type": "stream",
     "text": [
      "Total loss = 2020.8536376953125\n"
     ]
    },
    {
     "name": "stderr",
     "output_type": "stream",
     "text": [
      "100%|████████████████████████████████████████| 976/976 [00:01<00:00, 554.35it/s]\n"
     ]
    },
    {
     "name": "stdout",
     "output_type": "stream",
     "text": [
      "Total loss = 2024.1408385038376\n"
     ]
    },
    {
     "name": "stderr",
     "output_type": "stream",
     "text": [
      "100%|████████████████████████████████████████| 976/976 [00:01<00:00, 562.67it/s]\n"
     ]
    },
    {
     "name": "stdout",
     "output_type": "stream",
     "text": [
      "Total loss = 2019.9878747463226\n"
     ]
    },
    {
     "name": "stderr",
     "output_type": "stream",
     "text": [
      "100%|████████████████████████████████████████| 976/976 [00:01<00:00, 559.84it/s]\n"
     ]
    },
    {
     "name": "stdout",
     "output_type": "stream",
     "text": [
      "Total loss = 2019.720721244812\n"
     ]
    },
    {
     "name": "stderr",
     "output_type": "stream",
     "text": [
      "100%|████████████████████████████████████████| 976/976 [00:01<00:00, 563.01it/s]\n"
     ]
    },
    {
     "name": "stdout",
     "output_type": "stream",
     "text": [
      "Total loss = 2018.8421021699905\n"
     ]
    },
    {
     "name": "stderr",
     "output_type": "stream",
     "text": [
      "100%|████████████████████████████████████████| 976/976 [00:01<00:00, 562.58it/s]\n"
     ]
    },
    {
     "name": "stdout",
     "output_type": "stream",
     "text": [
      "Total loss = 2018.9722882509232\n"
     ]
    },
    {
     "name": "stderr",
     "output_type": "stream",
     "text": [
      "100%|████████████████████████████████████████| 976/976 [00:01<00:00, 562.24it/s]\n"
     ]
    },
    {
     "name": "stdout",
     "output_type": "stream",
     "text": [
      "Total loss = 2022.857899904251\n"
     ]
    },
    {
     "name": "stderr",
     "output_type": "stream",
     "text": [
      "100%|████████████████████████████████████████| 976/976 [00:01<00:00, 558.35it/s]\n"
     ]
    },
    {
     "name": "stdout",
     "output_type": "stream",
     "text": [
      "Total loss = 2019.8744362592697\n"
     ]
    },
    {
     "name": "stderr",
     "output_type": "stream",
     "text": [
      "100%|████████████████████████████████████████| 976/976 [00:01<00:00, 561.31it/s]\n"
     ]
    },
    {
     "name": "stdout",
     "output_type": "stream",
     "text": [
      "Total loss = 2020.2965537309647\n"
     ]
    },
    {
     "name": "stderr",
     "output_type": "stream",
     "text": [
      "100%|████████████████████████████████████████| 976/976 [00:01<00:00, 561.12it/s]\n"
     ]
    },
    {
     "name": "stdout",
     "output_type": "stream",
     "text": [
      "Total loss = 2021.5123771429062\n"
     ]
    },
    {
     "name": "stderr",
     "output_type": "stream",
     "text": [
      "100%|████████████████████████████████████████| 976/976 [00:01<00:00, 555.49it/s]\n"
     ]
    },
    {
     "name": "stdout",
     "output_type": "stream",
     "text": [
      "Total loss = 2022.5231400728226\n"
     ]
    },
    {
     "name": "stderr",
     "output_type": "stream",
     "text": [
      "100%|████████████████████████████████████████| 976/976 [00:01<00:00, 561.99it/s]\n"
     ]
    },
    {
     "name": "stdout",
     "output_type": "stream",
     "text": [
      "Total loss = 2020.8022649288177\n"
     ]
    },
    {
     "name": "stderr",
     "output_type": "stream",
     "text": [
      "100%|████████████████████████████████████████| 976/976 [00:01<00:00, 561.41it/s]\n"
     ]
    },
    {
     "name": "stdout",
     "output_type": "stream",
     "text": [
      "Total loss = 2022.0545394420624\n"
     ]
    },
    {
     "name": "stderr",
     "output_type": "stream",
     "text": [
      "100%|████████████████████████████████████████| 976/976 [00:01<00:00, 559.20it/s]\n"
     ]
    },
    {
     "name": "stdout",
     "output_type": "stream",
     "text": [
      "Total loss = 2019.702207326889\n"
     ]
    },
    {
     "name": "stderr",
     "output_type": "stream",
     "text": [
      "100%|████████████████████████████████████████| 976/976 [00:01<00:00, 561.95it/s]\n"
     ]
    },
    {
     "name": "stdout",
     "output_type": "stream",
     "text": [
      "Total loss = 2019.4968482255936\n"
     ]
    },
    {
     "name": "stderr",
     "output_type": "stream",
     "text": [
      "100%|████████████████████████████████████████| 976/976 [00:01<00:00, 561.65it/s]\n"
     ]
    },
    {
     "name": "stdout",
     "output_type": "stream",
     "text": [
      "Total loss = 2020.1486669778824\n"
     ]
    },
    {
     "name": "stderr",
     "output_type": "stream",
     "text": [
      "100%|████████████████████████████████████████| 976/976 [00:01<00:00, 561.62it/s]\n"
     ]
    },
    {
     "name": "stdout",
     "output_type": "stream",
     "text": [
      "Total loss = 2020.6354860067368\n"
     ]
    },
    {
     "name": "stderr",
     "output_type": "stream",
     "text": [
      "100%|████████████████████████████████████████| 976/976 [00:01<00:00, 551.18it/s]\n"
     ]
    },
    {
     "name": "stdout",
     "output_type": "stream",
     "text": [
      "Total loss = 2020.1004334688187\n"
     ]
    },
    {
     "name": "stderr",
     "output_type": "stream",
     "text": [
      "100%|████████████████████████████████████████| 976/976 [00:01<00:00, 561.85it/s]\n"
     ]
    },
    {
     "name": "stdout",
     "output_type": "stream",
     "text": [
      "Total loss = 2018.8175692558289\n"
     ]
    },
    {
     "name": "stderr",
     "output_type": "stream",
     "text": [
      "100%|████████████████████████████████████████| 976/976 [00:01<00:00, 561.87it/s]\n"
     ]
    },
    {
     "name": "stdout",
     "output_type": "stream",
     "text": [
      "Total loss = 2016.7739638090134\n"
     ]
    },
    {
     "name": "stderr",
     "output_type": "stream",
     "text": [
      "100%|████████████████████████████████████████| 976/976 [00:01<00:00, 562.80it/s]\n"
     ]
    },
    {
     "name": "stdout",
     "output_type": "stream",
     "text": [
      "Total loss = 2022.910061955452\n"
     ]
    },
    {
     "name": "stderr",
     "output_type": "stream",
     "text": [
      "100%|████████████████████████████████████████| 976/976 [00:01<00:00, 562.97it/s]\n"
     ]
    },
    {
     "name": "stdout",
     "output_type": "stream",
     "text": [
      "Total loss = 2019.5240634679794\n"
     ]
    },
    {
     "name": "stderr",
     "output_type": "stream",
     "text": [
      "100%|████████████████████████████████████████| 976/976 [00:01<00:00, 562.82it/s]\n"
     ]
    },
    {
     "name": "stdout",
     "output_type": "stream",
     "text": [
      "Total loss = 2018.9464617967606\n"
     ]
    },
    {
     "name": "stderr",
     "output_type": "stream",
     "text": [
      "100%|████████████████████████████████████████| 976/976 [00:01<00:00, 562.87it/s]\n"
     ]
    },
    {
     "name": "stdout",
     "output_type": "stream",
     "text": [
      "Total loss = 2018.709432721138\n"
     ]
    },
    {
     "name": "stderr",
     "output_type": "stream",
     "text": [
      "100%|████████████████████████████████████████| 976/976 [00:01<00:00, 561.69it/s]\n"
     ]
    },
    {
     "name": "stdout",
     "output_type": "stream",
     "text": [
      "Total loss = 2019.7249785661697\n"
     ]
    },
    {
     "name": "stderr",
     "output_type": "stream",
     "text": [
      "100%|████████████████████████████████████████| 976/976 [00:01<00:00, 562.89it/s]\n"
     ]
    },
    {
     "name": "stdout",
     "output_type": "stream",
     "text": [
      "Total loss = 2018.910502910614\n"
     ]
    },
    {
     "name": "stderr",
     "output_type": "stream",
     "text": [
      "100%|████████████████████████████████████████| 976/976 [00:01<00:00, 563.48it/s]\n"
     ]
    },
    {
     "name": "stdout",
     "output_type": "stream",
     "text": [
      "Total loss = 2017.1612612009048\n"
     ]
    },
    {
     "name": "stderr",
     "output_type": "stream",
     "text": [
      "100%|████████████████████████████████████████| 976/976 [00:01<00:00, 562.86it/s]\n"
     ]
    },
    {
     "name": "stdout",
     "output_type": "stream",
     "text": [
      "Total loss = 2017.0226522684097\n"
     ]
    },
    {
     "name": "stderr",
     "output_type": "stream",
     "text": [
      "100%|████████████████████████████████████████| 976/976 [00:01<00:00, 556.86it/s]\n"
     ]
    },
    {
     "name": "stdout",
     "output_type": "stream",
     "text": [
      "Total loss = 2022.171743631363\n"
     ]
    },
    {
     "name": "stderr",
     "output_type": "stream",
     "text": [
      "100%|████████████████████████████████████████| 976/976 [00:01<00:00, 561.34it/s]\n"
     ]
    },
    {
     "name": "stdout",
     "output_type": "stream",
     "text": [
      "Total loss = 2019.8855850696564\n"
     ]
    },
    {
     "name": "stderr",
     "output_type": "stream",
     "text": [
      "100%|████████████████████████████████████████| 976/976 [00:01<00:00, 553.96it/s]\n"
     ]
    },
    {
     "name": "stdout",
     "output_type": "stream",
     "text": [
      "Total loss = 2023.3753757476807\n"
     ]
    },
    {
     "name": "stderr",
     "output_type": "stream",
     "text": [
      "100%|████████████████████████████████████████| 976/976 [00:01<00:00, 556.95it/s]\n"
     ]
    },
    {
     "name": "stdout",
     "output_type": "stream",
     "text": [
      "Total loss = 2018.800548672676\n"
     ]
    },
    {
     "name": "stderr",
     "output_type": "stream",
     "text": [
      "100%|████████████████████████████████████████| 976/976 [00:01<00:00, 537.67it/s]\n"
     ]
    },
    {
     "name": "stdout",
     "output_type": "stream",
     "text": [
      "Total loss = 2017.9110672473907\n"
     ]
    },
    {
     "name": "stderr",
     "output_type": "stream",
     "text": [
      "100%|████████████████████████████████████████| 976/976 [00:01<00:00, 554.16it/s]\n"
     ]
    },
    {
     "name": "stdout",
     "output_type": "stream",
     "text": [
      "Total loss = 2020.36538875103\n"
     ]
    },
    {
     "name": "stderr",
     "output_type": "stream",
     "text": [
      "100%|████████████████████████████████████████| 976/976 [00:01<00:00, 562.19it/s]\n"
     ]
    },
    {
     "name": "stdout",
     "output_type": "stream",
     "text": [
      "Total loss = 2015.090480208397\n"
     ]
    },
    {
     "name": "stderr",
     "output_type": "stream",
     "text": [
      "100%|████████████████████████████████████████| 976/976 [00:01<00:00, 561.04it/s]\n"
     ]
    },
    {
     "name": "stdout",
     "output_type": "stream",
     "text": [
      "Total loss = 2019.7038844823837\n"
     ]
    },
    {
     "name": "stderr",
     "output_type": "stream",
     "text": [
      "100%|████████████████████████████████████████| 976/976 [00:01<00:00, 562.34it/s]\n"
     ]
    },
    {
     "name": "stdout",
     "output_type": "stream",
     "text": [
      "Total loss = 2020.0233508348465\n"
     ]
    },
    {
     "name": "stderr",
     "output_type": "stream",
     "text": [
      "100%|████████████████████████████████████████| 976/976 [00:01<00:00, 561.09it/s]\n"
     ]
    },
    {
     "name": "stdout",
     "output_type": "stream",
     "text": [
      "Total loss = 2020.4377700090408\n"
     ]
    },
    {
     "name": "stderr",
     "output_type": "stream",
     "text": [
      "100%|████████████████████████████████████████| 976/976 [00:01<00:00, 550.90it/s]"
     ]
    },
    {
     "name": "stdout",
     "output_type": "stream",
     "text": [
      "Total loss = 2017.5435860157013\n"
     ]
    },
    {
     "name": "stderr",
     "output_type": "stream",
     "text": [
      "\n"
     ]
    }
   ],
   "source": [
    "model = train(dataset, 4, epochs=100)"
   ]
  },
  {
   "cell_type": "code",
   "execution_count": 4,
   "id": "88333f91-ae55-43f3-9580-2f1f6ac7bd6b",
   "metadata": {},
   "outputs": [],
   "source": [
    "test_dataset = MNISTDataset(\"/scratch/lt2326-2926-h25/mnist-pngs/test\", [1,2,5,7])"
   ]
  },
  {
   "cell_type": "code",
   "execution_count": 19,
   "id": "e1279f36-2457-49c4-97d8-eb3f781e314d",
   "metadata": {},
   "outputs": [],
   "source": [
    "from torcheval.metrics import MulticlassF1Score, MulticlassConfusionMatrix"
   ]
  },
  {
   "cell_type": "code",
   "execution_count": 6,
   "id": "8b9bd9a6-1b22-441f-bde0-0b6398b7d400",
   "metadata": {},
   "outputs": [],
   "source": [
    "import torch"
   ]
  },
  {
   "cell_type": "code",
   "execution_count": 7,
   "id": "7bbfc978-a1dd-44a6-9b95-e78af7a41b50",
   "metadata": {},
   "outputs": [],
   "source": [
    "testX, testy = zip(*test_dataset.imagetensors)"
   ]
  },
  {
   "cell_type": "code",
   "execution_count": 8,
   "id": "5ee34c8d-5d62-4968-80c3-673290bce3ad",
   "metadata": {},
   "outputs": [],
   "source": [
    "testX = torch.concat(testX)"
   ]
  },
  {
   "cell_type": "code",
   "execution_count": 9,
   "id": "902af8c4-0a96-4839-8694-67db2afe377c",
   "metadata": {},
   "outputs": [
    {
     "data": {
      "text/plain": [
       "DigitClassificationModel(\n",
       "  (conv2d): Conv2d(1, 1, kernel_size=(2, 2), stride=(1, 1), padding=same)\n",
       "  (flatten): Flatten(start_dim=2, end_dim=3)\n",
       "  (tanh): Tanh()\n",
       "  (linear): Linear(in_features=784, out_features=4, bias=True)\n",
       "  (logsoftmax): LogSoftmax(dim=None)\n",
       ")"
      ]
     },
     "execution_count": 9,
     "metadata": {},
     "output_type": "execute_result"
    }
   ],
   "source": [
    "model.eval()"
   ]
  },
  {
   "cell_type": "code",
   "execution_count": 10,
   "id": "880a1236-ddfc-48f7-8fce-9a544500aff5",
   "metadata": {},
   "outputs": [
    {
     "data": {
      "text/plain": [
       "torch.Size([4087, 1, 28, 28])"
      ]
     },
     "execution_count": 10,
     "metadata": {},
     "output_type": "execute_result"
    }
   ],
   "source": [
    "testX.unsqueeze(1).size()"
   ]
  },
  {
   "cell_type": "code",
   "execution_count": 15,
   "id": "42e99609-1ca4-4db7-9613-b62d61df42ec",
   "metadata": {},
   "outputs": [],
   "source": [
    "testy = torch.Tensor(testy)"
   ]
  },
  {
   "cell_type": "code",
   "execution_count": 16,
   "id": "26d2c5e2-8266-4a4a-baac-52eb9da11bd6",
   "metadata": {},
   "outputs": [
    {
     "data": {
      "text/plain": [
       "tensor([0., 0., 0.,  ..., 3., 3., 3.])"
      ]
     },
     "execution_count": 16,
     "metadata": {},
     "output_type": "execute_result"
    }
   ],
   "source": [
    "testy"
   ]
  },
  {
   "cell_type": "code",
   "execution_count": 11,
   "id": "e167bdfa-ce32-4369-8c73-1380a8920709",
   "metadata": {},
   "outputs": [],
   "source": [
    "with torch.no_grad():\n",
    "    testoutput = model(testX.unsqueeze(1))"
   ]
  },
  {
   "cell_type": "code",
   "execution_count": 13,
   "id": "53b01f0c-9fed-4d76-9be3-f1775dbf05b2",
   "metadata": {},
   "outputs": [],
   "source": [
    "metric = MulticlassF1Score()"
   ]
  },
  {
   "cell_type": "code",
   "execution_count": 17,
   "id": "eac806c9-5b31-4655-b419-9dc7fd033d13",
   "metadata": {},
   "outputs": [
    {
     "data": {
      "text/plain": [
       "<torcheval.metrics.classification.f1_score.MulticlassF1Score at 0x7fa8bc227ce0>"
      ]
     },
     "execution_count": 17,
     "metadata": {},
     "output_type": "execute_result"
    }
   ],
   "source": [
    "metric.update(testoutput.squeeze(), testy)"
   ]
  },
  {
   "cell_type": "code",
   "execution_count": 18,
   "id": "9d60259c-365a-4eb4-9d8a-c32889cfa4d7",
   "metadata": {},
   "outputs": [
    {
     "data": {
      "text/plain": [
       "tensor(0.7140)"
      ]
     },
     "execution_count": 18,
     "metadata": {},
     "output_type": "execute_result"
    }
   ],
   "source": [
    "metric.compute()"
   ]
  },
  {
   "cell_type": "code",
   "execution_count": 39,
   "id": "32b73a13-44fa-4eda-8fd8-76b1efd12ed2",
   "metadata": {},
   "outputs": [],
   "source": [
    "confusion = MulticlassConfusionMatrix(4)"
   ]
  },
  {
   "cell_type": "code",
   "execution_count": 22,
   "id": "8e0f1516-20dd-4f85-a915-cb1f11cdcd93",
   "metadata": {},
   "outputs": [
    {
     "data": {
      "text/plain": [
       "tensor([[[-15.4669, -19.4096, -21.5967, -46.9547]],\n",
       "\n",
       "        [[-15.7027, -19.4243, -21.5045, -35.0527]],\n",
       "\n",
       "        [[-15.3597, -20.0203, -21.5920, -35.8727]],\n",
       "\n",
       "        ...,\n",
       "\n",
       "        [[-26.3472, -31.3170, -21.2859, -31.7627]],\n",
       "\n",
       "        [[-21.7672, -15.8855, -21.8015, -34.7617]],\n",
       "\n",
       "        [[-23.8819, -18.8154, -21.9524, -31.8453]]])"
      ]
     },
     "execution_count": 22,
     "metadata": {},
     "output_type": "execute_result"
    }
   ],
   "source": [
    "testoutput"
   ]
  },
  {
   "cell_type": "code",
   "execution_count": 25,
   "id": "362b2ce5-0ee2-4c34-a1a2-0b3e08923f60",
   "metadata": {},
   "outputs": [
    {
     "data": {
      "text/plain": [
       "torch.Size([4087, 1, 4])"
      ]
     },
     "execution_count": 25,
     "metadata": {},
     "output_type": "execute_result"
    }
   ],
   "source": [
    "testoutput.size()"
   ]
  },
  {
   "cell_type": "code",
   "execution_count": 26,
   "id": "c4094439-2a0f-4b59-9512-cb36a3648050",
   "metadata": {},
   "outputs": [],
   "source": [
    "testargmax = torch.argmax(testoutput, dim=2)"
   ]
  },
  {
   "cell_type": "code",
   "execution_count": 34,
   "id": "bb4ccd37-cf39-4d13-8a34-8305a3808b2d",
   "metadata": {},
   "outputs": [
    {
     "data": {
      "text/plain": [
       "(torch.int64, torch.float32)"
      ]
     },
     "execution_count": 34,
     "metadata": {},
     "output_type": "execute_result"
    }
   ],
   "source": [
    "testargmax.dtype, testy.dtype"
   ]
  },
  {
   "cell_type": "code",
   "execution_count": 41,
   "id": "df54ae93-7854-454b-963a-6263431a36a7",
   "metadata": {},
   "outputs": [
    {
     "data": {
      "text/plain": [
       "<torcheval.metrics.classification.confusion_matrix.MulticlassConfusionMatrix at 0x7fa8c4124200>"
      ]
     },
     "execution_count": 41,
     "metadata": {},
     "output_type": "execute_result"
    }
   ],
   "source": [
    "confusion.update(testargmax.squeeze(1), testy.long())"
   ]
  },
  {
   "cell_type": "code",
   "execution_count": 43,
   "id": "7afc2fd4-ee2d-41bc-9f16-17368fcf0db2",
   "metadata": {},
   "outputs": [
    {
     "data": {
      "text/plain": [
       "tensor([[1.1220e+03, 1.2000e+01, 1.0000e+00, 0.0000e+00],\n",
       "        [5.0000e+00, 1.0200e+03, 6.0000e+00, 1.0000e+00],\n",
       "        [2.4000e+01, 1.2600e+02, 7.4200e+02, 0.0000e+00],\n",
       "        [1.4200e+02, 2.3700e+02, 6.1500e+02, 3.4000e+01]])"
      ]
     },
     "execution_count": 43,
     "metadata": {},
     "output_type": "execute_result"
    }
   ],
   "source": [
    "confusion.compute()"
   ]
  },
  {
   "cell_type": "code",
   "execution_count": null,
   "id": "75274f5f-7995-4496-b8ca-32d1ec606f92",
   "metadata": {},
   "outputs": [],
   "source": [
    "trainX, trainy = zip(*dataset.imagetensors)"
   ]
  },
  {
   "cell_type": "code",
   "execution_count": null,
   "id": "ad6db591-8cd5-4667-b7a3-f16ead3c7d1d",
   "metadata": {},
   "outputs": [],
   "source": [
    "trainX = torch.flatten(torch.concat(trainX), 1, 2).numpy()"
   ]
  },
  {
   "cell_type": "code",
   "execution_count": null,
   "id": "678f9f34-1fe3-44a7-80ba-2bd717dc82a7",
   "metadata": {},
   "outputs": [],
   "source": [
    "trainX.shape"
   ]
  },
  {
   "cell_type": "code",
   "execution_count": null,
   "id": "b5f1338d-1667-452a-80b8-11b8264bed41",
   "metadata": {},
   "outputs": [],
   "source": [
    "import numpy as np"
   ]
  },
  {
   "cell_type": "code",
   "execution_count": null,
   "id": "cfab281f-3f83-4e2f-a6a0-e51562ae5cc4",
   "metadata": {},
   "outputs": [],
   "source": [
    "trainy = np.array(trainy)"
   ]
  },
  {
   "cell_type": "code",
   "execution_count": null,
   "id": "c95435b5-ccb6-4b8d-9681-931ad7b9c93e",
   "metadata": {},
   "outputs": [],
   "source": [
    "trainy.shape"
   ]
  },
  {
   "cell_type": "code",
   "execution_count": null,
   "id": "30e3731e-837d-4034-bb70-13170f43a5e2",
   "metadata": {},
   "outputs": [],
   "source": [
    "from sklearn.svm import SVC"
   ]
  },
  {
   "cell_type": "code",
   "execution_count": null,
   "id": "e7d65ee1-2613-4e58-87d9-726e02c40771",
   "metadata": {},
   "outputs": [],
   "source": [
    "svmmodel = SVC()"
   ]
  },
  {
   "cell_type": "code",
   "execution_count": null,
   "id": "b94b0422-3723-4ede-9ca5-8cbdf02a2203",
   "metadata": {},
   "outputs": [],
   "source": [
    "svmmodel.fit(trainX, trainy)"
   ]
  },
  {
   "cell_type": "code",
   "execution_count": null,
   "id": "f6076b50-4139-4ead-a641-588debe04594",
   "metadata": {},
   "outputs": [],
   "source": [
    "testX = torch.flatten(torch.concat(testX), 1, 2).numpy()"
   ]
  },
  {
   "cell_type": "code",
   "execution_count": null,
   "id": "2f8fc1de-96e0-4dcc-8814-bb8ee3949c8d",
   "metadata": {},
   "outputs": [],
   "source": [
    "testy = np.array(testy)"
   ]
  },
  {
   "cell_type": "code",
   "execution_count": null,
   "id": "562e031a-d953-4cac-801f-7e5d4078b5da",
   "metadata": {},
   "outputs": [],
   "source": [
    "testpredictions = svmmodel.predict(testX)"
   ]
  },
  {
   "cell_type": "code",
   "execution_count": null,
   "id": "17a7fbd2-9080-4884-8d6d-6d149ee3170c",
   "metadata": {},
   "outputs": [],
   "source": [
    "testpredictions.shape"
   ]
  },
  {
   "cell_type": "code",
   "execution_count": null,
   "id": "6f14e7cf-7b1a-4b43-aab2-fa05620010d2",
   "metadata": {},
   "outputs": [],
   "source": [
    "from sklearn.metrics import f1_score"
   ]
  },
  {
   "cell_type": "code",
   "execution_count": null,
   "id": "d6e16ebc-5708-4f27-b43d-16f92c5d43b7",
   "metadata": {},
   "outputs": [],
   "source": [
    "f1_score(testy, testpredictions)"
   ]
  },
  {
   "cell_type": "code",
   "execution_count": null,
   "id": "ea0505ba-e2e5-452b-aa25-47e13886fe75",
   "metadata": {},
   "outputs": [],
   "source": [
    "dir(dataset)"
   ]
  },
  {
   "cell_type": "code",
   "execution_count": null,
   "id": "291839a5-e967-41f3-9c37-effa25b4ef4c",
   "metadata": {},
   "outputs": [],
   "source": [
    "dataset[10000]"
   ]
  },
  {
   "cell_type": "code",
   "execution_count": null,
   "id": "ea906f00-eac0-4166-b086-fdc47f0f421c",
   "metadata": {},
   "outputs": [],
   "source": [
    "from matplotlib import pyplot as plt"
   ]
  },
  {
   "cell_type": "code",
   "execution_count": null,
   "id": "98a3ad22-84f6-4ad8-9b45-0db0846ae64c",
   "metadata": {},
   "outputs": [],
   "source": [
    "plt.imshow(dataset[2000][0].squeeze(0).numpy())"
   ]
  },
  {
   "cell_type": "code",
   "execution_count": null,
   "id": "281f16dd-0e8b-4fbc-a723-c2e7e61fc18b",
   "metadata": {},
   "outputs": [],
   "source": [
    "import torch.nn as nn\n",
    "convtest = nn.Conv2d(1, 1, (2,2), padding=\"same\")"
   ]
  },
  {
   "cell_type": "code",
   "execution_count": null,
   "id": "007ab362-348f-495d-bd36-54c39755e82a",
   "metadata": {},
   "outputs": [],
   "source": [
    "output = convtest(dataset[2000][0])"
   ]
  },
  {
   "cell_type": "code",
   "execution_count": null,
   "id": "debee849-0b8d-419d-92ad-62960d1f66a2",
   "metadata": {},
   "outputs": [],
   "source": [
    "output.size()"
   ]
  },
  {
   "cell_type": "code",
   "execution_count": null,
   "id": "0c093a68-8f79-487c-8891-91ca4c2609bb",
   "metadata": {},
   "outputs": [],
   "source": [
    "flattener = nn.Flatten(1,2)"
   ]
  },
  {
   "cell_type": "code",
   "execution_count": null,
   "id": "116ccd60-ee2a-46e7-b23f-92c5c82ce9f7",
   "metadata": {},
   "outputs": [],
   "source": [
    "output2 = flattener(output)"
   ]
  },
  {
   "cell_type": "code",
   "execution_count": null,
   "id": "66108809-6411-4812-94df-ae15921f14ed",
   "metadata": {},
   "outputs": [],
   "source": [
    "output2.size()"
   ]
  },
  {
   "cell_type": "code",
   "execution_count": null,
   "id": "52d7e298-b901-478d-afb3-d38420bbdbf2",
   "metadata": {},
   "outputs": [],
   "source": [
    "28*28"
   ]
  },
  {
   "cell_type": "code",
   "execution_count": null,
   "id": "7c0f6389-5130-46f0-81f7-75cac52c3008",
   "metadata": {},
   "outputs": [],
   "source": [
    "linear = nn.Linear(784, 2)"
   ]
  },
  {
   "cell_type": "code",
   "execution_count": null,
   "id": "3ae5d98a-bb79-4c70-b7f4-52c34ed4c238",
   "metadata": {},
   "outputs": [],
   "source": [
    "output3 = linear(output2)"
   ]
  },
  {
   "cell_type": "code",
   "execution_count": null,
   "id": "2a954240-9db3-4827-baeb-7b24f61b997c",
   "metadata": {},
   "outputs": [],
   "source": [
    "output3"
   ]
  },
  {
   "cell_type": "code",
   "execution_count": null,
   "id": "bc6c828e-6979-40d9-8b52-b2da70757751",
   "metadata": {},
   "outputs": [],
   "source": [
    "output3.size()"
   ]
  },
  {
   "cell_type": "code",
   "execution_count": null,
   "id": "c50bb415-89ea-457f-bb3d-d0b8b9354797",
   "metadata": {},
   "outputs": [],
   "source": [
    "from torch.utils.data import default_collate"
   ]
  },
  {
   "cell_type": "code",
   "execution_count": null,
   "id": "e83b435e-ef4d-4a7d-86a2-400d77352000",
   "metadata": {},
   "outputs": [],
   "source": [
    "default_collate([dataset[2000],dataset[10000]])"
   ]
  },
  {
   "cell_type": "code",
   "execution_count": null,
   "id": "af8e111c-9fb4-4153-ac24-26d4a5cb4da8",
   "metadata": {},
   "outputs": [],
   "source": []
  }
 ],
 "metadata": {
  "kernelspec": {
   "display_name": "Python 3 (ipykernel)",
   "language": "python",
   "name": "python3"
  },
  "language_info": {
   "codemirror_mode": {
    "name": "ipython",
    "version": 3
   },
   "file_extension": ".py",
   "mimetype": "text/x-python",
   "name": "python",
   "nbconvert_exporter": "python",
   "pygments_lexer": "ipython3",
   "version": "3.12.11"
  }
 },
 "nbformat": 4,
 "nbformat_minor": 5
}

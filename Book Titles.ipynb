{
 "cells": [
  {
   "cell_type": "code",
   "execution_count": null,
   "id": "bcf2b7f1-8c02-42fa-9b98-c399225c2cff",
   "metadata": {},
   "outputs": [],
   "source": [
    "import covers"
   ]
  },
  {
   "cell_type": "code",
   "execution_count": null,
   "id": "1e993be1-7f5b-4553-80be-3ea013e81505",
   "metadata": {},
   "outputs": [],
   "source": [
    "dataset = covers.CoversDataset(\"/scratch/lt2326-2926-h24/coversdata/main_dataset.csv\", \"/scratch/lt2326-2926-h24/coversdata/\", (200,300))"
   ]
  },
  {
   "cell_type": "code",
   "execution_count": null,
   "id": "ccf59ca7-f820-4e94-bfa6-6c63734a569f",
   "metadata": {},
   "outputs": [],
   "source": [
    "dataset[45]"
   ]
  },
  {
   "cell_type": "code",
   "execution_count": null,
   "id": "3c0cd532-30dc-4667-984f-8eec188f9cbc",
   "metadata": {},
   "outputs": [],
   "source": [
    "from transformers import VisionEncoderDecoderModel"
   ]
  },
  {
   "cell_type": "code",
   "execution_count": null,
   "id": "c597065b-f2b2-4def-8740-e8fcdc1ecc83",
   "metadata": {},
   "outputs": [],
   "source": [
    "model = VisionEncoderDecoderModel.from_encoder_decoder_pretrained(\n",
    "    \"google/vit-base-patch16-224\", \"QianWeiTech/GPT2-Titles\"\n",
    ")"
   ]
  },
  {
   "cell_type": "code",
   "execution_count": null,
   "id": "25e6193e-97d7-4aef-8503-4cab26779a21",
   "metadata": {},
   "outputs": [],
   "source": [
    "from transformers import AutoImageProcessor\n",
    "\n",
    "img_processors = AutoImageProcessor.from_pretrained(\"google/vit-base-patch16-224\", use_fast=True)"
   ]
  },
  {
   "cell_type": "code",
   "execution_count": null,
   "id": "226ec4dd-0002-44c6-bc88-a7227380d11f",
   "metadata": {},
   "outputs": [],
   "source": [
    "from transformers import GPT2Tokenizer, GPT2LMHeadModel\n",
    "tokenizer = GPT2Tokenizer.from_pretrained('QianWeiTech/GPT2-Titles')"
   ]
  },
  {
   "cell_type": "code",
   "execution_count": null,
   "id": "474ff58a-03b3-4139-a7e9-eeec6432d199",
   "metadata": {},
   "outputs": [],
   "source": [
    "\"the quick brown fox\".split()"
   ]
  },
  {
   "cell_type": "code",
   "execution_count": null,
   "id": "89b2d3c9-88df-4a3e-aea1-104c74b653da",
   "metadata": {},
   "outputs": [],
   "source": [
    "import bpetokenizer as bpe"
   ]
  },
  {
   "cell_type": "code",
   "execution_count": null,
   "id": "46e896ac-57ef-46c5-a881-754958c32c4e",
   "metadata": {},
   "outputs": [],
   "source": [
    "dir(bpe)"
   ]
  },
  {
   "cell_type": "code",
   "execution_count": null,
   "id": "8850cfc4-b9b1-415f-ac81-3b4a2f13eb81",
   "metadata": {},
   "outputs": [],
   "source": [
    "tknzr = bpe.BPETokenizer()"
   ]
  },
  {
   "cell_type": "code",
   "execution_count": null,
   "id": "9e10f762-ab92-43e0-a89c-48c232336c38",
   "metadata": {},
   "outputs": [],
   "source": [
    "tknzr.train(\"\"\"\n",
    "                     CONTENTS¹.\n",
    "\n",
    "    ¹ The Sermons marked with a *, are now first published from\n",
    "      the Author’s own Manuscripts.\n",
    "\n",
    "  ⭘ SERMON XXXII. A Penitent Heart, the best New Year’s Gift.\n",
    "\n",
    "      LUKE xiii. 3. _Except ye repent, ye shall all likewise\n",
    "        perish._\n",
    "\n",
    "  ⭘ SERMON XXXIII. The Gospel Supper.\n",
    "\n",
    "      LUKE xiv. 22, 23, 24. _And the servant said, Lord, it is\n",
    "        done as thou hast commanded, and yet there is room. And\n",
    "        the lord said unto the servant, Go out into the highways,\n",
    "        and hedges, and compel them to come in, that my house\n",
    "        may be filled. For I say unto you, that none of those men\n",
    "        which were bidden, shall taste of my supper._\n",
    "\n",
    "  ⭘ SERMON XXXIV. The Pharisee and Publican.\n",
    "\n",
    "      LUKE xviii. 14. _I tell you, this man went down to his\n",
    "        house justified rather than the other: For every one that\n",
    "        exalteth himself, shall be abased; and he that humbleth\n",
    "        himself, shall be exalted._\n",
    "\n",
    "  ⭘ SERMON XXXV. The Conversion of Zaccheus.\n",
    "\n",
    "      LUKE xix. 9, 10. _And Jesus said unto him, This day is\n",
    "        salvation come to this house; forasmuch as he also is the\n",
    "        Son of Abraham. For the Son of man is come to seek and to\n",
    "        save that which was lost._\n",
    "\n",
    "  ⭘ SERMON XXXVI. The Marriage of Cana.\n",
    "\n",
    "      JOHN ii. 11. _This beginning of miracles did Jesus in\n",
    "        Cana of Galilee, and manifested forth his glory; and his\n",
    "        disciples believed on him._\n",
    "\n",
    "  ⭘ SERMON XXXVII. The Duty of searching the Scriptures.\n",
    "\n",
    "      JOHN v. 39. _Search the Scriptures._\n",
    "\n",
    "  ⭘ SERMON XXXVIII. The Indwelling of the Spirit, the common\n",
    "        Privilege of all Believers.\n",
    "\n",
    "      JOHN vii. 37, 38, 39. _In the last day, that great day\n",
    "        of the feast, Jesus stood and cried, saying, If any man\n",
    "        thirst, let him come unto me and drink. He that believeth\n",
    "        on me, as the scripture hath said, out of his belly shall\n",
    "        flow rivers of living water. But this spake he of the\n",
    "        Spirit, which they that believe on him should receive._\n",
    "\n",
    "  ⭘ SERMON XXXIX. The Resurrection of Lazarus.\n",
    "\n",
    "      JOHN xi. 43, 44. _And when he had thus spoken, he cried with\n",
    "        a loud voice, Lazarus come forth. And he that was dead,\n",
    "        came forth, bound hand and foot with grave-cloaths: and\n",
    "        his face was bound about with a napkin. Jesus saith unto\n",
    "        them, Loose him, and let him go._\n",
    "\n",
    "  ⭘ SERMON XL. The Holy Spirit convincing the World of Sin,\n",
    "        Righteousness, and Judgment.\n",
    "\n",
    "      JOHN xvi. 8. _And when he is come, he will reprove the world\n",
    "        of sin, and of righteousness, and of judgment._\n",
    "\n",
    "  ⭘ SERMON XLI. Saul’s Conversion.\n",
    "\n",
    "      ACTS ix. 22. _But Saul increased the more in strength, and\n",
    "        confounded the Jews which dwelt at Damascus, proving that\n",
    "        this is very Christ._\n",
    "\n",
    "  ⭘ SERMON XLII. Marks of having received the Holy Ghost.\n",
    "\n",
    "      ACTS xix. 2. _Have ye received the Holy Ghost since ye\n",
    "        believed?_\n",
    "\n",
    "  ⭘ SERMON XLIII. The Almost Christian.\n",
    "\n",
    "      ACTS xxvi. 28. _Almost thou persuadest me to be a christian._\n",
    "\n",
    "  ⭘ SERMON XLIV. Christ, the Believer’s Wisdom, Righteousness,\n",
    "        Sanctification, and Redemption.\n",
    "\n",
    "      1 CORINTHIANS i. 30. _But of him are ye in Christ Jesus,\n",
    "        who of God is made unto us, wisdom, righteousness,\n",
    "        sanctification, and redemption._\n",
    "\n",
    "  ⭘ SERMON XLV. The Knowledge of Jesus Christ the best Knowledge.\n",
    "\n",
    "      1 CORINTHIANS ii. 2. _I determined not to know any thing\n",
    "        among you, save Jesus Christ, and him crucified._\n",
    "\n",
    "  ⭘ SERMON XLVI. Of Justification by Christ.\n",
    "\n",
    "      1 CORINTHIANS vi. 11. _But ye are justified._ The whole\n",
    "        verse is: _And such were some of you; but ye are washed,\n",
    "        but ye are sanctified, but ye are justified in the name of\n",
    "        our Lord Jesus Christ, and by the Spirit of our God._\n",
    "\n",
    "  ⭘ SERMON XLVII. The great Duty of Charity recommended.\n",
    "\n",
    "      1 CORINTHIANS xiii. 8. _Charity never faileth._\n",
    "\n",
    "  ⭘ SERMON XLVIII. Satan’s Devices.\n",
    "\n",
    "      1 CORINTHIANS ii. 11. _Lest Satan should get an advantage\n",
    "        over us; for we are not ignorant of his devices._\n",
    "\n",
    "  ⭘ SERMON XLIX. On Regeneration.\n",
    "\n",
    "      2 CORINTHIANS v. 17. _If any man be in Christ, he is a new\n",
    "        creature._\n",
    "\n",
    "  ⭘ SERMON L. Christians, Temples of the living God.\n",
    "\n",
    "      2 CORINTHIANS vi. 16. _Ye are the Temple of the living God._\n",
    "\n",
    "  ⭘ SERMON LI. Christ the only Preservative against a Reprobate\n",
    "        Spirit.\n",
    "\n",
    "      2 CORINTHIANS xiii. 5. _Know ye not your ownselves, how that\n",
    "        Jesus Christ is in you, except ye be Reprobates._\n",
    "\n",
    "  ⭘ SERMON LII. The heinous Sin of Drunkenness.\n",
    "\n",
    "      EPHESIANS v. 18. _Be not drunk with wine, wherein is excess;\n",
    "        but be filled with the Spirit._\n",
    "\n",
    "  ⭘ SERMON LIII. The Power of Christ’s Resurrection.\n",
    "\n",
    "      PHILIPPIANS iii. 10. _That I may know him, and the power of\n",
    "        his resurrection._\n",
    "\n",
    "  ⭘ SERMON LIV. Intercession every Christian’s Duty.\n",
    "\n",
    "      1 THESSALONIANS v. 25. _Brethren, pray for us._\n",
    "\n",
    "  ⭘ SERMON LV. Persecution every Christian’s Lot.\n",
    "\n",
    "      2 TIMOTHY iii. 12. _Yea, and all that will live godly in\n",
    "        Christ Jesus, shall suffer persecution._\n",
    "\n",
    "  ⭘ SERMON LVI. An Exhortation to the People of God not to be\n",
    "        discouraged in their Way, by the Scoffs and Contempt of\n",
    "        wicked Men.\n",
    "\n",
    "      HEBREWS iv. 9. _There remaineth therefore a rest to the\n",
    "        people of God._\n",
    "\n",
    "  ⭘ SERMON LVII. Preached before the Governor and Council, and the\n",
    "        House of Assembly, in Georgia, on January 28, 1770.\n",
    "\n",
    "      ZECHARIAH iv. 10. _For who hath despised the day of small\n",
    "        things._\n",
    "\n",
    "  ⭘ ♦SERMON LVIII. _Peter_’s Denial of his LORD.\n",
    "\n",
    "      MATTHEW xxvi. 75. _And Peter remembered the words of Jesus,\n",
    "        which said unto him, Before the cock crow twice, thou\n",
    "        shalt deny me thrice: and he went out, and wept bitterly._\n",
    "\n",
    "  ⭘ SERMON LIX. The true Way of beholding the LAMB of GOD.\n",
    "\n",
    "      JOHN i. 35, 36. _Again, the next Day after, John stood, and\n",
    "        two of his Disciples; and looking upon Jesus as he walked,\n",
    "        he saith, Behold the LAMB of GOD._\n",
    "\n",
    "    ♦ The two following sermons were added after the book had\n",
    "      gone to press and were not included in the original Table\n",
    "      of Contents\n",
    "\n",
    "\n",
    "\n",
    "\n",
    "                             SERMON XXXII.\n",
    "\n",
    "             A Penitent Heart, the best _New Year’s Gift_.\n",
    "\n",
    "\n",
    "                             LUKE xiii. 3.\n",
    "\n",
    "  _Except ye repent, ye shall all likewise perish._\n",
    "\n",
    "WHEN we consider how heinous and aggravating our offences are, in\n",
    "the sight of a just and holy GOD, that they bring down his wrath\n",
    "upon our heads, and occasion us to live under his indignation; how\n",
    "ought we thereby to be deterred from evil, or at least engaged to\n",
    "study to repent thereof, and not commit the same again; but man is so\n",
    "thoughtless of an eternal state, and has so little consideration of the\n",
    "welfare of his immortal soul, that he can sin without any thought that\n",
    "he must give an account of his actions at the day of judgment; or if\n",
    "he, at times, has any reflections on his behaviour, they do not drive\n",
    "him to true repentance: he may, for a short time, refrain from falling\n",
    "into some gross sins which he had lately committed; but then, when the\n",
    "temptation comes again with power, he is carried away with the lust;\n",
    "and thus he goes on promising and resolving, and in breaking both his\n",
    "resolutions and his promises, as fast almost as he has made them. This\n",
    "is highly offensive to GOD, it is mocking of him. My brethren, when\n",
    "grace is given us to repent truly, we shall turn wholly unto GOD; and\n",
    "let me beseech you to repent of your sins, for the time is hastening\n",
    "when you will have neither time nor call to repent; there is none in\n",
    "the grave, whither we are going; but do not be afraid, for GOD often\n",
    "receives the greatest sinner to mercy through the merits of CHRIST\n",
    "JESUS; this magnifies the riches of his free grace; and should be an\n",
    "encouragement for you, who are great and notorious sinners, to repent,\n",
    "for he will have mercy upon you, if you through CHRIST return unto him.\n",
    "\n",
    "St. _Paul_ was an eminent instance of this; he speaks of himself as\n",
    "“the chief of sinners,” and he declareth how GOD shewed mercy unto\n",
    "him. CHRIST loves to shew mercy unto sinners, and if you repent, he\n",
    "will have mercy upon you. But as no word is more mistaken than that of\n",
    "repentance, I shall\n",
    "\n",
    "  I. Shew you what the nature of repentance is.\n",
    "\n",
    "  II. Consider the several parts and causes of repentance.\n",
    "\n",
    "  III. I shall give you some reasons, why repentance is necessary\n",
    "        to salvation. And\n",
    "\n",
    "  IV. Exhort all of you, high and low, rich and poor, one with\n",
    "        another, to endeavour after repentance.\n",
    "\n",
    "I. Repentance, my brethren, in the first place, as to its nature, is\n",
    "the carnal and corrupt disposition of men being changed into a renewed\n",
    "and sanctified disposition. A man that has truly repented, is truly\n",
    "regenerated: it is a different word for one and the same thing; the\n",
    "motley mixture of the beast and devil is gone; there is, as it were,\n",
    "a new creation wrought in your hearts. If your repentance is true, you\n",
    "are renewed throughout, both in soul and body; your understandings are\n",
    "enlightened with the knowledge of GOD, and of the LORD JESUS CHRIST;\n",
    "and your wills, which were stubborn, obstinate, and hated all good, are\n",
    "obedient and conformable to the will of GOD. Indeed, our deists tell\n",
    "us, that man now has a free will to do good, to love GOD, and to repent\n",
    "when he will; but indeed, there is no free will in any of you, but to\n",
    "sin; nay, your free-will leads you so far, that you would, if possible,\n",
    "pull GOD from his throne. This may, perhaps, offend the Pharisees; but\n",
    "(it is the truth in CHRIST which I speak, I lie not) every man by his\n",
    "own natural will hates GOD; but when he is turned unto the LORD, by\n",
    "evangelical repentance, then his will is changed; then your consciences,\n",
    "now hardened and benumbed, shall be quickened and awakened; then\n",
    "your hard hearts shall be melted, and your unruly affections shall be\n",
    "crucified. Thus, by that repentance, the whole soul will be changed,\n",
    "you will have new inclinations, new desires, and new habits.\n",
    "\n",
    "You may see how vile we are by nature, that it requires so great\n",
    "a change to be made upon us, to recover us from this state of sin,\n",
    "and therefore the consideration of our dreadful state should make\n",
    "us earnest with GOD to change our condition, and that change, true\n",
    "repentance implies; therefore, my brethren, consider how hateful your\n",
    "ways are to GOD, while you continue in sin; how abominable you are unto\n",
    "him, while you run into evil: you cannot be said to be christians while\n",
    "you are hating CHRIST, and his people; true repentance will entirely\n",
    "change you, the biass of your souls will be changed, then you will\n",
    "delight in GOD, in CHRIST, in his law, and in his people; you will then\n",
    "believe that there is such a thing as inward feeling, though now you\n",
    "may esteem it madness and enthusiasm; you will not then be ashamed of\n",
    "becoming fools for CHRIST’s sake; you will not regard being scoffed at;\n",
    "it is not then their pointing after you and crying, “Here comes another\n",
    "troop of his followers,” will dismay you; no, your soul will abhor\n",
    "such proceedings, the ways of CHRIST and his people will be your whole\n",
    "delight.\n",
    "\n",
    "It is the nature of such repentance to make a change, and the greatest\n",
    "change as can be made here in the soul. Thus you see what repentance\n",
    "implies in its own nature; it denotes an abhorrence of all evil, and a\n",
    "forsaking of it. I shall now proceed\n",
    "\n",
    "_Secondly_, To shew you the parts of it, and the causes concurring\n",
    "thereto.\n",
    "\n",
    "The parts are, sorrow, hatred, and an entire forsaking of sin.\n",
    "\n",
    "Our sorrow and grief for sin, must not spring merely from a fear\n",
    "of wrath; for if we have no other ground but that, it proceeds from\n",
    "self-love, and not from any love to GOD; and if love to GOD is not the\n",
    "chief motive of your repentance, your repentance is in vain, and not\n",
    "to be esteemed true.\n",
    "\n",
    "Many, in our days, think their crying, GOD forgive me! or, LORD have\n",
    "mercy upon me! or, I am sorry for it! is repentance, and that GOD\n",
    "will esteem it as such; but, indeed, they are mistaken; it is not the\n",
    "drawing near to GOD with our lips, while our hearts are far from him,\n",
    "which he regards. Repentance does not come by fits and starts; no, it\n",
    "is one continued act of our lives; for as we daily commit sin, so we\n",
    "need a daily repentance before GOD, to obtain forgiveness for those\n",
    "sins we commit.\n",
    "\n",
    "It is not your confessing yourselves to be sinners, it is not knowing\n",
    "your condition to be sad and deplorable, so long as you continue\n",
    "in your sins; your care and endeavours should be, to get the heart\n",
    "thoroughly affected therewith, that you may feel yourselves to be lost\n",
    "and undone creatures, for CHRIST came to save such as are lost; and if\n",
    "you are enabled to groan under the weight and burden of your sins, then\n",
    "CHRIST will ease you and give you rest.\n",
    "\n",
    "And till you are thus sensible of your misery and lost condition, you\n",
    "are a servant to sin and to your lusts, under the bondage and command\n",
    "of Satan, doing his drudgery: thou art under the curse of GOD, and\n",
    "liable to his judgment. Consider how dreadful thy state will be at\n",
    "death, and after the day of judgment, when thou wilt be exposed to such\n",
    "miseries which the ear hath not heard, neither can the heart conceive,\n",
    "and that to all eternity, if you die impenitent.\n",
    "\n",
    "But I hope better things of you, my brethren, though I thus speak, and\n",
    "things which accompany salvation; go to GOD in prayer, and be earnest\n",
    "with him, that by his Spirit he would convince you of your miserable\n",
    "condition by nature, and make you truly sensible thereof. O be humbled,\n",
    "be humbled, I beseech you, for your sins. Having spent so many years in\n",
    "sinning, what canst thou do less, than be concerned to spend some hours\n",
    "in mourning and sorrowing for the same, and be humbled before GOD.\n",
    "\n",
    "Look back into your lives, call to mind thy sins, as many as possible\n",
    "thou canst, the sins of thy youth, as well as of thy riper years; see\n",
    "how you have departed from a gracious Father, and wandered in the way\n",
    "of wickedness, in which you have lost yourselves, the favour of GOD,\n",
    "the comforts of his Spirit, and the peace of your own consciences; then\n",
    "go and beg pardon of the LORD, through the blood of the Lamb, for the\n",
    "evil thou hast committed, and for the good thou hast omitted. Consider,\n",
    "likewise, the heinousness of thy sins; see what very aggravating\n",
    "circumstances thy sins are attended with, how you have abused the\n",
    "patience of GOD, which should have led you to repentance; and when thou\n",
    "findest thy heart hard, beg of GOD to soften it, cry mightily unto him,\n",
    "and he will take away thy stony heart, and give thee a heart of flesh.\n",
    "\n",
    "\"\"\", 2000)"
   ]
  },
  {
   "cell_type": "code",
   "execution_count": null,
   "id": "6aed7988-67b6-4e0d-ac5c-0b4f121f51cd",
   "metadata": {},
   "outputs": [],
   "source": [
    "dir(tknzr)"
   ]
  },
  {
   "cell_type": "code",
   "execution_count": null,
   "id": "3de40aeb-738b-4cfd-81d8-63c265f1d2c0",
   "metadata": {},
   "outputs": [],
   "source": [
    "encoded = tknzr.encode(\"The quick brown fox jumps over the lazy dog.\")"
   ]
  },
  {
   "cell_type": "code",
   "execution_count": null,
   "id": "1693ec9c-7056-46d7-b992-94c0d1b795b9",
   "metadata": {},
   "outputs": [],
   "source": [
    "encoded"
   ]
  },
  {
   "cell_type": "code",
   "execution_count": null,
   "id": "e6f75d2d-fbc9-4517-942f-99e7492ee373",
   "metadata": {},
   "outputs": [],
   "source": [
    "tknzr.decode(encoded)"
   ]
  },
  {
   "cell_type": "code",
   "execution_count": null,
   "id": "6313ebd4-2d51-460c-8c77-7f470adc2d86",
   "metadata": {},
   "outputs": [],
   "source": [
    "coversdataset = covers.CoversImageTitleDataset(\"/scratch/lt2326-2926-h24/coversdata/main_dataset.csv\", \n",
    "                                               \"/scratch/lt2326-2926-h24/coversdata/\", \n",
    "                                               img_processors, actualsize=0.1)"
   ]
  },
  {
   "cell_type": "code",
   "execution_count": null,
   "id": "e400ae47-908b-44cc-bf27-ce43a178df6e",
   "metadata": {},
   "outputs": [],
   "source": [
    "from torch.utils.data import random_split\n",
    "traindataset, testdataset, _ = random_split(coversdataset, [0.1,0.1,0.8])"
   ]
  },
  {
   "cell_type": "code",
   "execution_count": null,
   "id": "d600c7d1-b94b-44e2-a05c-2449813b1785",
   "metadata": {},
   "outputs": [],
   "source": [
    "from torch.utils.data import DataLoader\n",
    "loader = DataLoader(traindataset, batch_size=5, shuffle=True)"
   ]
  },
  {
   "cell_type": "code",
   "execution_count": null,
   "id": "dbdcdc92-4fef-4460-8e89-b0792794d2ea",
   "metadata": {},
   "outputs": [],
   "source": [
    "from transformers import AdamW"
   ]
  },
  {
   "cell_type": "code",
   "execution_count": null,
   "id": "7b125283-4fb8-4281-903d-765346e783af",
   "metadata": {},
   "outputs": [],
   "source": [
    "device = \"cuda:1\"\n",
    "model = model.to(device)\n",
    "model.train()"
   ]
  },
  {
   "cell_type": "code",
   "execution_count": null,
   "id": "8b1b5a60-ad70-484e-a71a-8815ef6e54b8",
   "metadata": {},
   "outputs": [],
   "source": [
    "EPOCHS = 2\n",
    "LEARNING_RATE = 3e-5"
   ]
  },
  {
   "cell_type": "code",
   "execution_count": null,
   "id": "d316129f-621c-4c26-8e7b-05c36e1a366d",
   "metadata": {},
   "outputs": [],
   "source": [
    "optimizer = AdamW(model.parameters(), lr=LEARNING_RATE)"
   ]
  },
  {
   "cell_type": "code",
   "execution_count": null,
   "id": "3955c75a-7a2d-446f-9c16-30ba9cf2d5b9",
   "metadata": {},
   "outputs": [],
   "source": [
    "tokenizer.eos_token"
   ]
  },
  {
   "cell_type": "code",
   "execution_count": null,
   "id": "69bcde9a-9065-41d1-ad0e-544321b69f3d",
   "metadata": {},
   "outputs": [],
   "source": [
    "tokenizer.bos_token"
   ]
  },
  {
   "cell_type": "code",
   "execution_count": null,
   "id": "86f4eda6-4c76-4cea-be47-7dd5aa6ad60a",
   "metadata": {},
   "outputs": [],
   "source": [
    "tokenizer.pad_token = tokenizer.eos_token"
   ]
  },
  {
   "cell_type": "code",
   "execution_count": null,
   "id": "7ac0fb2b-1305-45d6-95ba-9840b410980f",
   "metadata": {},
   "outputs": [],
   "source": [
    "model.decoder.config.decoder_start_token_id = tokenizer.convert_tokens_to_ids(tokenizer.bos_token)"
   ]
  },
  {
   "cell_type": "code",
   "execution_count": null,
   "id": "2e5dc502-4a67-4e7c-9278-ce809246d6ea",
   "metadata": {},
   "outputs": [],
   "source": [
    "model.decoder.config.decoder_start_token_id "
   ]
  },
  {
   "cell_type": "code",
   "execution_count": null,
   "id": "8cadc533-c80e-4c13-833a-258fc074652b",
   "metadata": {},
   "outputs": [],
   "source": [
    "model.config.decoder_start_token_id = tokenizer.convert_tokens_to_ids(tokenizer.bos_token)\n",
    "model.config.pad_token_id = tokenizer.convert_tokens_to_ids(tokenizer.pad_token)"
   ]
  },
  {
   "cell_type": "code",
   "execution_count": null,
   "id": "1defc07f-c837-480d-8339-43c1bad7ee84",
   "metadata": {},
   "outputs": [],
   "source": [
    "from tqdm import tqdm"
   ]
  },
  {
   "cell_type": "code",
   "execution_count": null,
   "id": "9229c76e-1616-46b3-9c45-8d52d0fb1967",
   "metadata": {},
   "outputs": [],
   "source": []
  },
  {
   "cell_type": "code",
   "execution_count": null,
   "id": "56e2b036-a067-424b-9335-299c27e136a8",
   "metadata": {},
   "outputs": [],
   "source": [
    "for epoch in range(EPOCHS):\n",
    "    collectloss = 0\n",
    "    for idx, (images, titles) in enumerate(tqdm(loader)):\n",
    "\n",
    "        tokenized = tokenizer(titles, return_tensors=\"pt\", padding=True,\n",
    "                              truncation=True)\n",
    "        title_tensor = tokenized['input_ids'].unsqueeze(0).to(device)\n",
    "#        if title_tensor.size()[1] > MAX_SEQ_LEN:\n",
    "#            print(f\"Too long: {title}\")\n",
    "#            continue\n",
    "        \n",
    "        outputs = model(images['pixel_values'].squeeze(1).to(device), \n",
    "                        labels=title_tensor)\n",
    "        loss, logits = outputs[:2]\n",
    "        loss.backward()\n",
    "        collectloss += loss.detach().data\n",
    "        optimizer.step()\n",
    "        optimizer.zero_grad()\n",
    "        model.zero_grad()\n",
    "    print(f\"Loss is {collectloss} in epoch {epoch}.\")"
   ]
  },
  {
   "cell_type": "code",
   "execution_count": null,
   "id": "4e562712-87d0-4cc3-a2e5-b9e18be846fb",
   "metadata": {},
   "outputs": [],
   "source": [
    "dir(tokenizer)"
   ]
  },
  {
   "cell_type": "code",
   "execution_count": null,
   "id": "83b4f1d3-3ba5-4d99-8f70-73252187e277",
   "metadata": {},
   "outputs": [],
   "source": [
    "models_folder = \"trained_models\""
   ]
  },
  {
   "cell_type": "code",
   "execution_count": null,
   "id": "65e93e33-4294-487f-9fe4-c8d22e156898",
   "metadata": {},
   "outputs": [],
   "source": [
    "import torch\n",
    "import os\n",
    "torch.save(model.state_dict(), os.path.join(models_folder, \"testmodel-img-vit.pt\"))"
   ]
  },
  {
   "cell_type": "code",
   "execution_count": 2,
   "id": "195478bb-3e20-4174-922e-e45567602055",
   "metadata": {},
   "outputs": [
    {
     "ename": "OSError",
     "evalue": "trained_models/testmodel-img-vit.pt is not a local folder and is not a valid model identifier listed on 'https://huggingface.co/models'\nIf this is a private repository, make sure to pass a token having permission to this repo either by logging in with `huggingface-cli login` or by passing `token=<your_token>`",
     "output_type": "error",
     "traceback": [
      "\u001b[0;31m---------------------------------------------------------------------------\u001b[0m",
      "\u001b[0;31mHTTPError\u001b[0m                                 Traceback (most recent call last)",
      "File \u001b[0;32m/usr/local/lib/python3.12/site-packages/huggingface_hub/utils/_errors.py:304\u001b[0m, in \u001b[0;36mhf_raise_for_status\u001b[0;34m(response, endpoint_name)\u001b[0m\n\u001b[1;32m    303\u001b[0m \u001b[38;5;28;01mtry\u001b[39;00m:\n\u001b[0;32m--> 304\u001b[0m     \u001b[43mresponse\u001b[49m\u001b[38;5;241;43m.\u001b[39;49m\u001b[43mraise_for_status\u001b[49m\u001b[43m(\u001b[49m\u001b[43m)\u001b[49m\n\u001b[1;32m    305\u001b[0m \u001b[38;5;28;01mexcept\u001b[39;00m HTTPError \u001b[38;5;28;01mas\u001b[39;00m e:\n",
      "File \u001b[0;32m/usr/local/lib/python3.12/site-packages/requests/models.py:1026\u001b[0m, in \u001b[0;36mResponse.raise_for_status\u001b[0;34m(self)\u001b[0m\n\u001b[1;32m   1025\u001b[0m \u001b[38;5;28;01mif\u001b[39;00m http_error_msg:\n\u001b[0;32m-> 1026\u001b[0m     \u001b[38;5;28;01mraise\u001b[39;00m HTTPError(http_error_msg, response\u001b[38;5;241m=\u001b[39m\u001b[38;5;28mself\u001b[39m)\n",
      "\u001b[0;31mHTTPError\u001b[0m: 401 Client Error: Unauthorized for url: https://huggingface.co/trained_models/testmodel-img-vit.pt/resolve/main/config.json",
      "\nThe above exception was the direct cause of the following exception:\n",
      "\u001b[0;31mRepositoryNotFoundError\u001b[0m                   Traceback (most recent call last)",
      "File \u001b[0;32m/usr/local/lib/python3.12/site-packages/transformers/utils/hub.py:402\u001b[0m, in \u001b[0;36mcached_file\u001b[0;34m(path_or_repo_id, filename, cache_dir, force_download, resume_download, proxies, token, revision, local_files_only, subfolder, repo_type, user_agent, _raise_exceptions_for_gated_repo, _raise_exceptions_for_missing_entries, _raise_exceptions_for_connection_errors, _commit_hash, **deprecated_kwargs)\u001b[0m\n\u001b[1;32m    400\u001b[0m \u001b[38;5;28;01mtry\u001b[39;00m:\n\u001b[1;32m    401\u001b[0m     \u001b[38;5;66;03m# Load from URL or cache if already cached\u001b[39;00m\n\u001b[0;32m--> 402\u001b[0m     resolved_file \u001b[38;5;241m=\u001b[39m \u001b[43mhf_hub_download\u001b[49m\u001b[43m(\u001b[49m\n\u001b[1;32m    403\u001b[0m \u001b[43m        \u001b[49m\u001b[43mpath_or_repo_id\u001b[49m\u001b[43m,\u001b[49m\n\u001b[1;32m    404\u001b[0m \u001b[43m        \u001b[49m\u001b[43mfilename\u001b[49m\u001b[43m,\u001b[49m\n\u001b[1;32m    405\u001b[0m \u001b[43m        \u001b[49m\u001b[43msubfolder\u001b[49m\u001b[38;5;241;43m=\u001b[39;49m\u001b[38;5;28;43;01mNone\u001b[39;49;00m\u001b[43m \u001b[49m\u001b[38;5;28;43;01mif\u001b[39;49;00m\u001b[43m \u001b[49m\u001b[38;5;28;43mlen\u001b[39;49m\u001b[43m(\u001b[49m\u001b[43msubfolder\u001b[49m\u001b[43m)\u001b[49m\u001b[43m \u001b[49m\u001b[38;5;241;43m==\u001b[39;49m\u001b[43m \u001b[49m\u001b[38;5;241;43m0\u001b[39;49m\u001b[43m \u001b[49m\u001b[38;5;28;43;01melse\u001b[39;49;00m\u001b[43m \u001b[49m\u001b[43msubfolder\u001b[49m\u001b[43m,\u001b[49m\n\u001b[1;32m    406\u001b[0m \u001b[43m        \u001b[49m\u001b[43mrepo_type\u001b[49m\u001b[38;5;241;43m=\u001b[39;49m\u001b[43mrepo_type\u001b[49m\u001b[43m,\u001b[49m\n\u001b[1;32m    407\u001b[0m \u001b[43m        \u001b[49m\u001b[43mrevision\u001b[49m\u001b[38;5;241;43m=\u001b[39;49m\u001b[43mrevision\u001b[49m\u001b[43m,\u001b[49m\n\u001b[1;32m    408\u001b[0m \u001b[43m        \u001b[49m\u001b[43mcache_dir\u001b[49m\u001b[38;5;241;43m=\u001b[39;49m\u001b[43mcache_dir\u001b[49m\u001b[43m,\u001b[49m\n\u001b[1;32m    409\u001b[0m \u001b[43m        \u001b[49m\u001b[43muser_agent\u001b[49m\u001b[38;5;241;43m=\u001b[39;49m\u001b[43muser_agent\u001b[49m\u001b[43m,\u001b[49m\n\u001b[1;32m    410\u001b[0m \u001b[43m        \u001b[49m\u001b[43mforce_download\u001b[49m\u001b[38;5;241;43m=\u001b[39;49m\u001b[43mforce_download\u001b[49m\u001b[43m,\u001b[49m\n\u001b[1;32m    411\u001b[0m \u001b[43m        \u001b[49m\u001b[43mproxies\u001b[49m\u001b[38;5;241;43m=\u001b[39;49m\u001b[43mproxies\u001b[49m\u001b[43m,\u001b[49m\n\u001b[1;32m    412\u001b[0m \u001b[43m        \u001b[49m\u001b[43mresume_download\u001b[49m\u001b[38;5;241;43m=\u001b[39;49m\u001b[43mresume_download\u001b[49m\u001b[43m,\u001b[49m\n\u001b[1;32m    413\u001b[0m \u001b[43m        \u001b[49m\u001b[43mtoken\u001b[49m\u001b[38;5;241;43m=\u001b[39;49m\u001b[43mtoken\u001b[49m\u001b[43m,\u001b[49m\n\u001b[1;32m    414\u001b[0m \u001b[43m        \u001b[49m\u001b[43mlocal_files_only\u001b[49m\u001b[38;5;241;43m=\u001b[39;49m\u001b[43mlocal_files_only\u001b[49m\u001b[43m,\u001b[49m\n\u001b[1;32m    415\u001b[0m \u001b[43m    \u001b[49m\u001b[43m)\u001b[49m\n\u001b[1;32m    416\u001b[0m \u001b[38;5;28;01mexcept\u001b[39;00m GatedRepoError \u001b[38;5;28;01mas\u001b[39;00m e:\n",
      "File \u001b[0;32m/usr/local/lib/python3.12/site-packages/huggingface_hub/utils/_deprecation.py:101\u001b[0m, in \u001b[0;36m_deprecate_arguments.<locals>._inner_deprecate_positional_args.<locals>.inner_f\u001b[0;34m(*args, **kwargs)\u001b[0m\n\u001b[1;32m    100\u001b[0m     warnings\u001b[38;5;241m.\u001b[39mwarn(message, \u001b[38;5;167;01mFutureWarning\u001b[39;00m)\n\u001b[0;32m--> 101\u001b[0m \u001b[38;5;28;01mreturn\u001b[39;00m \u001b[43mf\u001b[49m\u001b[43m(\u001b[49m\u001b[38;5;241;43m*\u001b[39;49m\u001b[43margs\u001b[49m\u001b[43m,\u001b[49m\u001b[43m \u001b[49m\u001b[38;5;241;43m*\u001b[39;49m\u001b[38;5;241;43m*\u001b[39;49m\u001b[43mkwargs\u001b[49m\u001b[43m)\u001b[49m\n",
      "File \u001b[0;32m/usr/local/lib/python3.12/site-packages/huggingface_hub/utils/_validators.py:114\u001b[0m, in \u001b[0;36mvalidate_hf_hub_args.<locals>._inner_fn\u001b[0;34m(*args, **kwargs)\u001b[0m\n\u001b[1;32m    112\u001b[0m     kwargs \u001b[38;5;241m=\u001b[39m smoothly_deprecate_use_auth_token(fn_name\u001b[38;5;241m=\u001b[39mfn\u001b[38;5;241m.\u001b[39m\u001b[38;5;18m__name__\u001b[39m, has_token\u001b[38;5;241m=\u001b[39mhas_token, kwargs\u001b[38;5;241m=\u001b[39mkwargs)\n\u001b[0;32m--> 114\u001b[0m \u001b[38;5;28;01mreturn\u001b[39;00m \u001b[43mfn\u001b[49m\u001b[43m(\u001b[49m\u001b[38;5;241;43m*\u001b[39;49m\u001b[43margs\u001b[49m\u001b[43m,\u001b[49m\u001b[43m \u001b[49m\u001b[38;5;241;43m*\u001b[39;49m\u001b[38;5;241;43m*\u001b[39;49m\u001b[43mkwargs\u001b[49m\u001b[43m)\u001b[49m\n",
      "File \u001b[0;32m/usr/local/lib/python3.12/site-packages/huggingface_hub/file_download.py:1240\u001b[0m, in \u001b[0;36mhf_hub_download\u001b[0;34m(repo_id, filename, subfolder, repo_type, revision, library_name, library_version, cache_dir, local_dir, user_agent, force_download, proxies, etag_timeout, token, local_files_only, headers, endpoint, legacy_cache_layout, resume_download, force_filename, local_dir_use_symlinks)\u001b[0m\n\u001b[1;32m   1239\u001b[0m \u001b[38;5;28;01melse\u001b[39;00m:\n\u001b[0;32m-> 1240\u001b[0m     \u001b[38;5;28;01mreturn\u001b[39;00m \u001b[43m_hf_hub_download_to_cache_dir\u001b[49m\u001b[43m(\u001b[49m\n\u001b[1;32m   1241\u001b[0m \u001b[43m        \u001b[49m\u001b[38;5;66;43;03m# Destination\u001b[39;49;00m\n\u001b[1;32m   1242\u001b[0m \u001b[43m        \u001b[49m\u001b[43mcache_dir\u001b[49m\u001b[38;5;241;43m=\u001b[39;49m\u001b[43mcache_dir\u001b[49m\u001b[43m,\u001b[49m\n\u001b[1;32m   1243\u001b[0m \u001b[43m        \u001b[49m\u001b[38;5;66;43;03m# File info\u001b[39;49;00m\n\u001b[1;32m   1244\u001b[0m \u001b[43m        \u001b[49m\u001b[43mrepo_id\u001b[49m\u001b[38;5;241;43m=\u001b[39;49m\u001b[43mrepo_id\u001b[49m\u001b[43m,\u001b[49m\n\u001b[1;32m   1245\u001b[0m \u001b[43m        \u001b[49m\u001b[43mfilename\u001b[49m\u001b[38;5;241;43m=\u001b[39;49m\u001b[43mfilename\u001b[49m\u001b[43m,\u001b[49m\n\u001b[1;32m   1246\u001b[0m \u001b[43m        \u001b[49m\u001b[43mrepo_type\u001b[49m\u001b[38;5;241;43m=\u001b[39;49m\u001b[43mrepo_type\u001b[49m\u001b[43m,\u001b[49m\n\u001b[1;32m   1247\u001b[0m \u001b[43m        \u001b[49m\u001b[43mrevision\u001b[49m\u001b[38;5;241;43m=\u001b[39;49m\u001b[43mrevision\u001b[49m\u001b[43m,\u001b[49m\n\u001b[1;32m   1248\u001b[0m \u001b[43m        \u001b[49m\u001b[38;5;66;43;03m# HTTP info\u001b[39;49;00m\n\u001b[1;32m   1249\u001b[0m \u001b[43m        \u001b[49m\u001b[43mendpoint\u001b[49m\u001b[38;5;241;43m=\u001b[39;49m\u001b[43mendpoint\u001b[49m\u001b[43m,\u001b[49m\n\u001b[1;32m   1250\u001b[0m \u001b[43m        \u001b[49m\u001b[43metag_timeout\u001b[49m\u001b[38;5;241;43m=\u001b[39;49m\u001b[43metag_timeout\u001b[49m\u001b[43m,\u001b[49m\n\u001b[1;32m   1251\u001b[0m \u001b[43m        \u001b[49m\u001b[43mheaders\u001b[49m\u001b[38;5;241;43m=\u001b[39;49m\u001b[43mheaders\u001b[49m\u001b[43m,\u001b[49m\n\u001b[1;32m   1252\u001b[0m \u001b[43m        \u001b[49m\u001b[43mproxies\u001b[49m\u001b[38;5;241;43m=\u001b[39;49m\u001b[43mproxies\u001b[49m\u001b[43m,\u001b[49m\n\u001b[1;32m   1253\u001b[0m \u001b[43m        \u001b[49m\u001b[43mtoken\u001b[49m\u001b[38;5;241;43m=\u001b[39;49m\u001b[43mtoken\u001b[49m\u001b[43m,\u001b[49m\n\u001b[1;32m   1254\u001b[0m \u001b[43m        \u001b[49m\u001b[38;5;66;43;03m# Additional options\u001b[39;49;00m\n\u001b[1;32m   1255\u001b[0m \u001b[43m        \u001b[49m\u001b[43mlocal_files_only\u001b[49m\u001b[38;5;241;43m=\u001b[39;49m\u001b[43mlocal_files_only\u001b[49m\u001b[43m,\u001b[49m\n\u001b[1;32m   1256\u001b[0m \u001b[43m        \u001b[49m\u001b[43mforce_download\u001b[49m\u001b[38;5;241;43m=\u001b[39;49m\u001b[43mforce_download\u001b[49m\u001b[43m,\u001b[49m\n\u001b[1;32m   1257\u001b[0m \u001b[43m    \u001b[49m\u001b[43m)\u001b[49m\n",
      "File \u001b[0;32m/usr/local/lib/python3.12/site-packages/huggingface_hub/file_download.py:1347\u001b[0m, in \u001b[0;36m_hf_hub_download_to_cache_dir\u001b[0;34m(cache_dir, repo_id, filename, repo_type, revision, endpoint, etag_timeout, headers, proxies, token, local_files_only, force_download)\u001b[0m\n\u001b[1;32m   1346\u001b[0m     \u001b[38;5;66;03m# Otherwise, raise appropriate error\u001b[39;00m\n\u001b[0;32m-> 1347\u001b[0m     \u001b[43m_raise_on_head_call_error\u001b[49m\u001b[43m(\u001b[49m\u001b[43mhead_call_error\u001b[49m\u001b[43m,\u001b[49m\u001b[43m \u001b[49m\u001b[43mforce_download\u001b[49m\u001b[43m,\u001b[49m\u001b[43m \u001b[49m\u001b[43mlocal_files_only\u001b[49m\u001b[43m)\u001b[49m\n\u001b[1;32m   1349\u001b[0m \u001b[38;5;66;03m# From now on, etag, commit_hash, url and size are not None.\u001b[39;00m\n",
      "File \u001b[0;32m/usr/local/lib/python3.12/site-packages/huggingface_hub/file_download.py:1855\u001b[0m, in \u001b[0;36m_raise_on_head_call_error\u001b[0;34m(head_call_error, force_download, local_files_only)\u001b[0m\n\u001b[1;32m   1853\u001b[0m \u001b[38;5;28;01melif\u001b[39;00m \u001b[38;5;28misinstance\u001b[39m(head_call_error, RepositoryNotFoundError) \u001b[38;5;129;01mor\u001b[39;00m \u001b[38;5;28misinstance\u001b[39m(head_call_error, GatedRepoError):\n\u001b[1;32m   1854\u001b[0m     \u001b[38;5;66;03m# Repo not found or gated => let's raise the actual error\u001b[39;00m\n\u001b[0;32m-> 1855\u001b[0m     \u001b[38;5;28;01mraise\u001b[39;00m head_call_error\n\u001b[1;32m   1856\u001b[0m \u001b[38;5;28;01melse\u001b[39;00m:\n\u001b[1;32m   1857\u001b[0m     \u001b[38;5;66;03m# Otherwise: most likely a connection issue or Hub downtime => let's warn the user\u001b[39;00m\n",
      "File \u001b[0;32m/usr/local/lib/python3.12/site-packages/huggingface_hub/file_download.py:1752\u001b[0m, in \u001b[0;36m_get_metadata_or_catch_error\u001b[0;34m(repo_id, filename, repo_type, revision, endpoint, proxies, etag_timeout, headers, token, local_files_only, relative_filename, storage_folder)\u001b[0m\n\u001b[1;32m   1751\u001b[0m \u001b[38;5;28;01mtry\u001b[39;00m:\n\u001b[0;32m-> 1752\u001b[0m     metadata \u001b[38;5;241m=\u001b[39m \u001b[43mget_hf_file_metadata\u001b[49m\u001b[43m(\u001b[49m\n\u001b[1;32m   1753\u001b[0m \u001b[43m        \u001b[49m\u001b[43murl\u001b[49m\u001b[38;5;241;43m=\u001b[39;49m\u001b[43murl\u001b[49m\u001b[43m,\u001b[49m\u001b[43m \u001b[49m\u001b[43mproxies\u001b[49m\u001b[38;5;241;43m=\u001b[39;49m\u001b[43mproxies\u001b[49m\u001b[43m,\u001b[49m\u001b[43m \u001b[49m\u001b[43mtimeout\u001b[49m\u001b[38;5;241;43m=\u001b[39;49m\u001b[43metag_timeout\u001b[49m\u001b[43m,\u001b[49m\u001b[43m \u001b[49m\u001b[43mheaders\u001b[49m\u001b[38;5;241;43m=\u001b[39;49m\u001b[43mheaders\u001b[49m\u001b[43m,\u001b[49m\u001b[43m \u001b[49m\u001b[43mtoken\u001b[49m\u001b[38;5;241;43m=\u001b[39;49m\u001b[43mtoken\u001b[49m\n\u001b[1;32m   1754\u001b[0m \u001b[43m    \u001b[49m\u001b[43m)\u001b[49m\n\u001b[1;32m   1755\u001b[0m \u001b[38;5;28;01mexcept\u001b[39;00m EntryNotFoundError \u001b[38;5;28;01mas\u001b[39;00m http_error:\n",
      "File \u001b[0;32m/usr/local/lib/python3.12/site-packages/huggingface_hub/utils/_validators.py:114\u001b[0m, in \u001b[0;36mvalidate_hf_hub_args.<locals>._inner_fn\u001b[0;34m(*args, **kwargs)\u001b[0m\n\u001b[1;32m    112\u001b[0m     kwargs \u001b[38;5;241m=\u001b[39m smoothly_deprecate_use_auth_token(fn_name\u001b[38;5;241m=\u001b[39mfn\u001b[38;5;241m.\u001b[39m\u001b[38;5;18m__name__\u001b[39m, has_token\u001b[38;5;241m=\u001b[39mhas_token, kwargs\u001b[38;5;241m=\u001b[39mkwargs)\n\u001b[0;32m--> 114\u001b[0m \u001b[38;5;28;01mreturn\u001b[39;00m \u001b[43mfn\u001b[49m\u001b[43m(\u001b[49m\u001b[38;5;241;43m*\u001b[39;49m\u001b[43margs\u001b[49m\u001b[43m,\u001b[49m\u001b[43m \u001b[49m\u001b[38;5;241;43m*\u001b[39;49m\u001b[38;5;241;43m*\u001b[39;49m\u001b[43mkwargs\u001b[49m\u001b[43m)\u001b[49m\n",
      "File \u001b[0;32m/usr/local/lib/python3.12/site-packages/huggingface_hub/file_download.py:1674\u001b[0m, in \u001b[0;36mget_hf_file_metadata\u001b[0;34m(url, token, proxies, timeout, library_name, library_version, user_agent, headers)\u001b[0m\n\u001b[1;32m   1673\u001b[0m \u001b[38;5;66;03m# Retrieve metadata\u001b[39;00m\n\u001b[0;32m-> 1674\u001b[0m r \u001b[38;5;241m=\u001b[39m \u001b[43m_request_wrapper\u001b[49m\u001b[43m(\u001b[49m\n\u001b[1;32m   1675\u001b[0m \u001b[43m    \u001b[49m\u001b[43mmethod\u001b[49m\u001b[38;5;241;43m=\u001b[39;49m\u001b[38;5;124;43m\"\u001b[39;49m\u001b[38;5;124;43mHEAD\u001b[39;49m\u001b[38;5;124;43m\"\u001b[39;49m\u001b[43m,\u001b[49m\n\u001b[1;32m   1676\u001b[0m \u001b[43m    \u001b[49m\u001b[43murl\u001b[49m\u001b[38;5;241;43m=\u001b[39;49m\u001b[43murl\u001b[49m\u001b[43m,\u001b[49m\n\u001b[1;32m   1677\u001b[0m \u001b[43m    \u001b[49m\u001b[43mheaders\u001b[49m\u001b[38;5;241;43m=\u001b[39;49m\u001b[43mheaders\u001b[49m\u001b[43m,\u001b[49m\n\u001b[1;32m   1678\u001b[0m \u001b[43m    \u001b[49m\u001b[43mallow_redirects\u001b[49m\u001b[38;5;241;43m=\u001b[39;49m\u001b[38;5;28;43;01mFalse\u001b[39;49;00m\u001b[43m,\u001b[49m\n\u001b[1;32m   1679\u001b[0m \u001b[43m    \u001b[49m\u001b[43mfollow_relative_redirects\u001b[49m\u001b[38;5;241;43m=\u001b[39;49m\u001b[38;5;28;43;01mTrue\u001b[39;49;00m\u001b[43m,\u001b[49m\n\u001b[1;32m   1680\u001b[0m \u001b[43m    \u001b[49m\u001b[43mproxies\u001b[49m\u001b[38;5;241;43m=\u001b[39;49m\u001b[43mproxies\u001b[49m\u001b[43m,\u001b[49m\n\u001b[1;32m   1681\u001b[0m \u001b[43m    \u001b[49m\u001b[43mtimeout\u001b[49m\u001b[38;5;241;43m=\u001b[39;49m\u001b[43mtimeout\u001b[49m\u001b[43m,\u001b[49m\n\u001b[1;32m   1682\u001b[0m \u001b[43m\u001b[49m\u001b[43m)\u001b[49m\n\u001b[1;32m   1683\u001b[0m hf_raise_for_status(r)\n",
      "File \u001b[0;32m/usr/local/lib/python3.12/site-packages/huggingface_hub/file_download.py:376\u001b[0m, in \u001b[0;36m_request_wrapper\u001b[0;34m(method, url, follow_relative_redirects, **params)\u001b[0m\n\u001b[1;32m    375\u001b[0m \u001b[38;5;28;01mif\u001b[39;00m follow_relative_redirects:\n\u001b[0;32m--> 376\u001b[0m     response \u001b[38;5;241m=\u001b[39m \u001b[43m_request_wrapper\u001b[49m\u001b[43m(\u001b[49m\n\u001b[1;32m    377\u001b[0m \u001b[43m        \u001b[49m\u001b[43mmethod\u001b[49m\u001b[38;5;241;43m=\u001b[39;49m\u001b[43mmethod\u001b[49m\u001b[43m,\u001b[49m\n\u001b[1;32m    378\u001b[0m \u001b[43m        \u001b[49m\u001b[43murl\u001b[49m\u001b[38;5;241;43m=\u001b[39;49m\u001b[43murl\u001b[49m\u001b[43m,\u001b[49m\n\u001b[1;32m    379\u001b[0m \u001b[43m        \u001b[49m\u001b[43mfollow_relative_redirects\u001b[49m\u001b[38;5;241;43m=\u001b[39;49m\u001b[38;5;28;43;01mFalse\u001b[39;49;00m\u001b[43m,\u001b[49m\n\u001b[1;32m    380\u001b[0m \u001b[43m        \u001b[49m\u001b[38;5;241;43m*\u001b[39;49m\u001b[38;5;241;43m*\u001b[39;49m\u001b[43mparams\u001b[49m\u001b[43m,\u001b[49m\n\u001b[1;32m    381\u001b[0m \u001b[43m    \u001b[49m\u001b[43m)\u001b[49m\n\u001b[1;32m    383\u001b[0m     \u001b[38;5;66;03m# If redirection, we redirect only relative paths.\u001b[39;00m\n\u001b[1;32m    384\u001b[0m     \u001b[38;5;66;03m# This is useful in case of a renamed repository.\u001b[39;00m\n",
      "File \u001b[0;32m/usr/local/lib/python3.12/site-packages/huggingface_hub/file_download.py:400\u001b[0m, in \u001b[0;36m_request_wrapper\u001b[0;34m(method, url, follow_relative_redirects, **params)\u001b[0m\n\u001b[1;32m    399\u001b[0m response \u001b[38;5;241m=\u001b[39m get_session()\u001b[38;5;241m.\u001b[39mrequest(method\u001b[38;5;241m=\u001b[39mmethod, url\u001b[38;5;241m=\u001b[39murl, \u001b[38;5;241m*\u001b[39m\u001b[38;5;241m*\u001b[39mparams)\n\u001b[0;32m--> 400\u001b[0m \u001b[43mhf_raise_for_status\u001b[49m\u001b[43m(\u001b[49m\u001b[43mresponse\u001b[49m\u001b[43m)\u001b[49m\n\u001b[1;32m    401\u001b[0m \u001b[38;5;28;01mreturn\u001b[39;00m response\n",
      "File \u001b[0;32m/usr/local/lib/python3.12/site-packages/huggingface_hub/utils/_errors.py:352\u001b[0m, in \u001b[0;36mhf_raise_for_status\u001b[0;34m(response, endpoint_name)\u001b[0m\n\u001b[1;32m    344\u001b[0m     message \u001b[38;5;241m=\u001b[39m (\n\u001b[1;32m    345\u001b[0m         \u001b[38;5;124mf\u001b[39m\u001b[38;5;124m\"\u001b[39m\u001b[38;5;132;01m{\u001b[39;00mresponse\u001b[38;5;241m.\u001b[39mstatus_code\u001b[38;5;132;01m}\u001b[39;00m\u001b[38;5;124m Client Error.\u001b[39m\u001b[38;5;124m\"\u001b[39m\n\u001b[1;32m    346\u001b[0m         \u001b[38;5;241m+\u001b[39m \u001b[38;5;124m\"\u001b[39m\u001b[38;5;130;01m\\n\u001b[39;00m\u001b[38;5;130;01m\\n\u001b[39;00m\u001b[38;5;124m\"\u001b[39m\n\u001b[0;32m   (...)\u001b[0m\n\u001b[1;32m    350\u001b[0m         \u001b[38;5;124m\"\u001b[39m\u001b[38;5;124m make sure you are authenticated.\u001b[39m\u001b[38;5;124m\"\u001b[39m\n\u001b[1;32m    351\u001b[0m     )\n\u001b[0;32m--> 352\u001b[0m     \u001b[38;5;28;01mraise\u001b[39;00m RepositoryNotFoundError(message, response) \u001b[38;5;28;01mfrom\u001b[39;00m\u001b[38;5;250m \u001b[39m\u001b[38;5;21;01me\u001b[39;00m\n\u001b[1;32m    354\u001b[0m \u001b[38;5;28;01melif\u001b[39;00m response\u001b[38;5;241m.\u001b[39mstatus_code \u001b[38;5;241m==\u001b[39m \u001b[38;5;241m400\u001b[39m:\n",
      "\u001b[0;31mRepositoryNotFoundError\u001b[0m: 401 Client Error. (Request ID: Root=1-68f0ec90-6892ecdc5b72707a39ab4bb0;65d10ec5-e9ed-4020-9c82-c9f0f0cedfda)\n\nRepository Not Found for url: https://huggingface.co/trained_models/testmodel-img-vit.pt/resolve/main/config.json.\nPlease make sure you specified the correct `repo_id` and `repo_type`.\nIf you are trying to access a private or gated repo, make sure you are authenticated.\nInvalid username or password.",
      "\nThe above exception was the direct cause of the following exception:\n",
      "\u001b[0;31mOSError\u001b[0m                                   Traceback (most recent call last)",
      "Cell \u001b[0;32mIn[2], line 4\u001b[0m\n\u001b[1;32m      2\u001b[0m \u001b[38;5;28;01mimport\u001b[39;00m\u001b[38;5;250m \u001b[39m\u001b[38;5;21;01mos\u001b[39;00m\n\u001b[1;32m      3\u001b[0m models_folder \u001b[38;5;241m=\u001b[39m \u001b[38;5;124m\"\u001b[39m\u001b[38;5;124mtrained_models\u001b[39m\u001b[38;5;124m\"\u001b[39m\n\u001b[0;32m----> 4\u001b[0m real_model \u001b[38;5;241m=\u001b[39m \u001b[43mVisionEncoderDecoderModel\u001b[49m\u001b[38;5;241;43m.\u001b[39;49m\u001b[43mfrom_pretrained\u001b[49m\u001b[43m(\u001b[49m\u001b[43mos\u001b[49m\u001b[38;5;241;43m.\u001b[39;49m\u001b[43mpath\u001b[49m\u001b[38;5;241;43m.\u001b[39;49m\u001b[43mjoin\u001b[49m\u001b[43m(\u001b[49m\u001b[43mmodels_folder\u001b[49m\u001b[43m,\u001b[49m\u001b[43m \u001b[49m\u001b[38;5;124;43m\"\u001b[39;49m\u001b[38;5;124;43mtestmodel-img-vit.pt\u001b[39;49m\u001b[38;5;124;43m\"\u001b[39;49m\u001b[43m)\u001b[49m\u001b[43m)\u001b[49m\n",
      "File \u001b[0;32m/usr/local/lib/python3.12/site-packages/transformers/models/vision_encoder_decoder/modeling_vision_encoder_decoder.py:371\u001b[0m, in \u001b[0;36mVisionEncoderDecoderModel.from_pretrained\u001b[0;34m(cls, pretrained_model_name_or_path, *model_args, **kwargs)\u001b[0m\n\u001b[1;32m    365\u001b[0m     logger\u001b[38;5;241m.\u001b[39mwarning(\n\u001b[1;32m    366\u001b[0m         \u001b[38;5;124m\"\u001b[39m\u001b[38;5;124mFast initialization is currently not supported for VisionEncoderDecoderModel. \u001b[39m\u001b[38;5;124m\"\u001b[39m\n\u001b[1;32m    367\u001b[0m         \u001b[38;5;124m\"\u001b[39m\u001b[38;5;124mFalling back to slow initialization...\u001b[39m\u001b[38;5;124m\"\u001b[39m\n\u001b[1;32m    368\u001b[0m     )\n\u001b[1;32m    369\u001b[0m kwargs[\u001b[38;5;124m\"\u001b[39m\u001b[38;5;124m_fast_init\u001b[39m\u001b[38;5;124m\"\u001b[39m] \u001b[38;5;241m=\u001b[39m \u001b[38;5;28;01mFalse\u001b[39;00m\n\u001b[0;32m--> 371\u001b[0m \u001b[38;5;28;01mreturn\u001b[39;00m \u001b[38;5;28;43msuper\u001b[39;49m\u001b[43m(\u001b[49m\u001b[43m)\u001b[49m\u001b[38;5;241;43m.\u001b[39;49m\u001b[43mfrom_pretrained\u001b[49m\u001b[43m(\u001b[49m\u001b[43mpretrained_model_name_or_path\u001b[49m\u001b[43m,\u001b[49m\u001b[43m \u001b[49m\u001b[38;5;241;43m*\u001b[39;49m\u001b[43mmodel_args\u001b[49m\u001b[43m,\u001b[49m\u001b[43m \u001b[49m\u001b[38;5;241;43m*\u001b[39;49m\u001b[38;5;241;43m*\u001b[39;49m\u001b[43mkwargs\u001b[49m\u001b[43m)\u001b[49m\n",
      "File \u001b[0;32m/usr/local/lib/python3.12/site-packages/transformers/modeling_utils.py:3247\u001b[0m, in \u001b[0;36mPreTrainedModel.from_pretrained\u001b[0;34m(cls, pretrained_model_name_or_path, config, cache_dir, ignore_mismatched_sizes, force_download, local_files_only, token, revision, use_safetensors, *model_args, **kwargs)\u001b[0m\n\u001b[1;32m   3244\u001b[0m \u001b[38;5;28;01mif\u001b[39;00m commit_hash \u001b[38;5;129;01mis\u001b[39;00m \u001b[38;5;28;01mNone\u001b[39;00m:\n\u001b[1;32m   3245\u001b[0m     \u001b[38;5;28;01mif\u001b[39;00m \u001b[38;5;129;01mnot\u001b[39;00m \u001b[38;5;28misinstance\u001b[39m(config, PretrainedConfig):\n\u001b[1;32m   3246\u001b[0m         \u001b[38;5;66;03m# We make a call to the config file first (which may be absent) to get the commit hash as soon as possible\u001b[39;00m\n\u001b[0;32m-> 3247\u001b[0m         resolved_config_file \u001b[38;5;241m=\u001b[39m \u001b[43mcached_file\u001b[49m\u001b[43m(\u001b[49m\n\u001b[1;32m   3248\u001b[0m \u001b[43m            \u001b[49m\u001b[43mpretrained_model_name_or_path\u001b[49m\u001b[43m,\u001b[49m\n\u001b[1;32m   3249\u001b[0m \u001b[43m            \u001b[49m\u001b[43mCONFIG_NAME\u001b[49m\u001b[43m,\u001b[49m\n\u001b[1;32m   3250\u001b[0m \u001b[43m            \u001b[49m\u001b[43mcache_dir\u001b[49m\u001b[38;5;241;43m=\u001b[39;49m\u001b[43mcache_dir\u001b[49m\u001b[43m,\u001b[49m\n\u001b[1;32m   3251\u001b[0m \u001b[43m            \u001b[49m\u001b[43mforce_download\u001b[49m\u001b[38;5;241;43m=\u001b[39;49m\u001b[43mforce_download\u001b[49m\u001b[43m,\u001b[49m\n\u001b[1;32m   3252\u001b[0m \u001b[43m            \u001b[49m\u001b[43mresume_download\u001b[49m\u001b[38;5;241;43m=\u001b[39;49m\u001b[43mresume_download\u001b[49m\u001b[43m,\u001b[49m\n\u001b[1;32m   3253\u001b[0m \u001b[43m            \u001b[49m\u001b[43mproxies\u001b[49m\u001b[38;5;241;43m=\u001b[39;49m\u001b[43mproxies\u001b[49m\u001b[43m,\u001b[49m\n\u001b[1;32m   3254\u001b[0m \u001b[43m            \u001b[49m\u001b[43mlocal_files_only\u001b[49m\u001b[38;5;241;43m=\u001b[39;49m\u001b[43mlocal_files_only\u001b[49m\u001b[43m,\u001b[49m\n\u001b[1;32m   3255\u001b[0m \u001b[43m            \u001b[49m\u001b[43mtoken\u001b[49m\u001b[38;5;241;43m=\u001b[39;49m\u001b[43mtoken\u001b[49m\u001b[43m,\u001b[49m\n\u001b[1;32m   3256\u001b[0m \u001b[43m            \u001b[49m\u001b[43mrevision\u001b[49m\u001b[38;5;241;43m=\u001b[39;49m\u001b[43mrevision\u001b[49m\u001b[43m,\u001b[49m\n\u001b[1;32m   3257\u001b[0m \u001b[43m            \u001b[49m\u001b[43msubfolder\u001b[49m\u001b[38;5;241;43m=\u001b[39;49m\u001b[43msubfolder\u001b[49m\u001b[43m,\u001b[49m\n\u001b[1;32m   3258\u001b[0m \u001b[43m            \u001b[49m\u001b[43m_raise_exceptions_for_gated_repo\u001b[49m\u001b[38;5;241;43m=\u001b[39;49m\u001b[38;5;28;43;01mFalse\u001b[39;49;00m\u001b[43m,\u001b[49m\n\u001b[1;32m   3259\u001b[0m \u001b[43m            \u001b[49m\u001b[43m_raise_exceptions_for_missing_entries\u001b[49m\u001b[38;5;241;43m=\u001b[39;49m\u001b[38;5;28;43;01mFalse\u001b[39;49;00m\u001b[43m,\u001b[49m\n\u001b[1;32m   3260\u001b[0m \u001b[43m            \u001b[49m\u001b[43m_raise_exceptions_for_connection_errors\u001b[49m\u001b[38;5;241;43m=\u001b[39;49m\u001b[38;5;28;43;01mFalse\u001b[39;49;00m\u001b[43m,\u001b[49m\n\u001b[1;32m   3261\u001b[0m \u001b[43m        \u001b[49m\u001b[43m)\u001b[49m\n\u001b[1;32m   3262\u001b[0m         commit_hash \u001b[38;5;241m=\u001b[39m extract_commit_hash(resolved_config_file, commit_hash)\n\u001b[1;32m   3263\u001b[0m     \u001b[38;5;28;01melse\u001b[39;00m:\n",
      "File \u001b[0;32m/usr/local/lib/python3.12/site-packages/transformers/utils/hub.py:425\u001b[0m, in \u001b[0;36mcached_file\u001b[0;34m(path_or_repo_id, filename, cache_dir, force_download, resume_download, proxies, token, revision, local_files_only, subfolder, repo_type, user_agent, _raise_exceptions_for_gated_repo, _raise_exceptions_for_missing_entries, _raise_exceptions_for_connection_errors, _commit_hash, **deprecated_kwargs)\u001b[0m\n\u001b[1;32m    420\u001b[0m     \u001b[38;5;28;01mraise\u001b[39;00m \u001b[38;5;167;01mEnvironmentError\u001b[39;00m(\n\u001b[1;32m    421\u001b[0m         \u001b[38;5;124m\"\u001b[39m\u001b[38;5;124mYou are trying to access a gated repo.\u001b[39m\u001b[38;5;130;01m\\n\u001b[39;00m\u001b[38;5;124mMake sure to have access to it at \u001b[39m\u001b[38;5;124m\"\u001b[39m\n\u001b[1;32m    422\u001b[0m         \u001b[38;5;124mf\u001b[39m\u001b[38;5;124m\"\u001b[39m\u001b[38;5;124mhttps://huggingface.co/\u001b[39m\u001b[38;5;132;01m{\u001b[39;00mpath_or_repo_id\u001b[38;5;132;01m}\u001b[39;00m\u001b[38;5;124m.\u001b[39m\u001b[38;5;130;01m\\n\u001b[39;00m\u001b[38;5;132;01m{\u001b[39;00m\u001b[38;5;28mstr\u001b[39m(e)\u001b[38;5;132;01m}\u001b[39;00m\u001b[38;5;124m\"\u001b[39m\n\u001b[1;32m    423\u001b[0m     ) \u001b[38;5;28;01mfrom\u001b[39;00m\u001b[38;5;250m \u001b[39m\u001b[38;5;21;01me\u001b[39;00m\n\u001b[1;32m    424\u001b[0m \u001b[38;5;28;01mexcept\u001b[39;00m RepositoryNotFoundError \u001b[38;5;28;01mas\u001b[39;00m e:\n\u001b[0;32m--> 425\u001b[0m     \u001b[38;5;28;01mraise\u001b[39;00m \u001b[38;5;167;01mEnvironmentError\u001b[39;00m(\n\u001b[1;32m    426\u001b[0m         \u001b[38;5;124mf\u001b[39m\u001b[38;5;124m\"\u001b[39m\u001b[38;5;132;01m{\u001b[39;00mpath_or_repo_id\u001b[38;5;132;01m}\u001b[39;00m\u001b[38;5;124m is not a local folder and is not a valid model identifier \u001b[39m\u001b[38;5;124m\"\u001b[39m\n\u001b[1;32m    427\u001b[0m         \u001b[38;5;124m\"\u001b[39m\u001b[38;5;124mlisted on \u001b[39m\u001b[38;5;124m'\u001b[39m\u001b[38;5;124mhttps://huggingface.co/models\u001b[39m\u001b[38;5;124m'\u001b[39m\u001b[38;5;130;01m\\n\u001b[39;00m\u001b[38;5;124mIf this is a private repository, make sure to pass a token \u001b[39m\u001b[38;5;124m\"\u001b[39m\n\u001b[1;32m    428\u001b[0m         \u001b[38;5;124m\"\u001b[39m\u001b[38;5;124mhaving permission to this repo either by logging in with `huggingface-cli login` or by passing \u001b[39m\u001b[38;5;124m\"\u001b[39m\n\u001b[1;32m    429\u001b[0m         \u001b[38;5;124m\"\u001b[39m\u001b[38;5;124m`token=<your_token>`\u001b[39m\u001b[38;5;124m\"\u001b[39m\n\u001b[1;32m    430\u001b[0m     ) \u001b[38;5;28;01mfrom\u001b[39;00m\u001b[38;5;250m \u001b[39m\u001b[38;5;21;01me\u001b[39;00m\n\u001b[1;32m    431\u001b[0m \u001b[38;5;28;01mexcept\u001b[39;00m RevisionNotFoundError \u001b[38;5;28;01mas\u001b[39;00m e:\n\u001b[1;32m    432\u001b[0m     \u001b[38;5;28;01mraise\u001b[39;00m \u001b[38;5;167;01mEnvironmentError\u001b[39;00m(\n\u001b[1;32m    433\u001b[0m         \u001b[38;5;124mf\u001b[39m\u001b[38;5;124m\"\u001b[39m\u001b[38;5;132;01m{\u001b[39;00mrevision\u001b[38;5;132;01m}\u001b[39;00m\u001b[38;5;124m is not a valid git identifier (branch name, tag name or commit id) that exists \u001b[39m\u001b[38;5;124m\"\u001b[39m\n\u001b[1;32m    434\u001b[0m         \u001b[38;5;124m\"\u001b[39m\u001b[38;5;124mfor this model name. Check the model page at \u001b[39m\u001b[38;5;124m\"\u001b[39m\n\u001b[1;32m    435\u001b[0m         \u001b[38;5;124mf\u001b[39m\u001b[38;5;124m\"\u001b[39m\u001b[38;5;124m'\u001b[39m\u001b[38;5;124mhttps://huggingface.co/\u001b[39m\u001b[38;5;132;01m{\u001b[39;00mpath_or_repo_id\u001b[38;5;132;01m}\u001b[39;00m\u001b[38;5;124m'\u001b[39m\u001b[38;5;124m for available revisions.\u001b[39m\u001b[38;5;124m\"\u001b[39m\n\u001b[1;32m    436\u001b[0m     ) \u001b[38;5;28;01mfrom\u001b[39;00m\u001b[38;5;250m \u001b[39m\u001b[38;5;21;01me\u001b[39;00m\n",
      "\u001b[0;31mOSError\u001b[0m: trained_models/testmodel-img-vit.pt is not a local folder and is not a valid model identifier listed on 'https://huggingface.co/models'\nIf this is a private repository, make sure to pass a token having permission to this repo either by logging in with `huggingface-cli login` or by passing `token=<your_token>`"
     ]
    }
   ],
   "source": [
    "from transformers import VisionEncoderDecoderModel\n",
    "import os\n",
    "models_folder = \"trained_models\"\n",
    "real_model = VisionEncoderDecoderModel.from_pretrained(os.path.join(models_folder, \"testmodel-img-vit.pt\"))"
   ]
  },
  {
   "cell_type": "code",
   "execution_count": null,
   "id": "d7ac6321-8bbd-4a43-8304-9349356e0a35",
   "metadata": {},
   "outputs": [],
   "source": []
  }
 ],
 "metadata": {
  "kernelspec": {
   "display_name": "Python 3 (ipykernel)",
   "language": "python",
   "name": "python3"
  },
  "language_info": {
   "codemirror_mode": {
    "name": "ipython",
    "version": 3
   },
   "file_extension": ".py",
   "mimetype": "text/x-python",
   "name": "python",
   "nbconvert_exporter": "python",
   "pygments_lexer": "ipython3",
   "version": "3.12.11"
  }
 },
 "nbformat": 4,
 "nbformat_minor": 5
}

{
 "cells": [
  {
   "cell_type": "code",
   "execution_count": 1,
   "id": "89c32562-7fe4-44d3-88ee-fe1a7325c247",
   "metadata": {},
   "outputs": [],
   "source": [
    "from mnistfun_multicat import MNISTDataset, train_generate"
   ]
  },
  {
   "cell_type": "code",
   "execution_count": 2,
   "id": "e22ec12c-49a6-4992-95e4-b6b6a33e9557",
   "metadata": {},
   "outputs": [],
   "source": [
    "dataset = MNISTDataset(\"/scratch/lt2326-2926-h25/mnist-pngs/train\", list(range(10)), device=\"cuda:2\")"
   ]
  },
  {
   "cell_type": "code",
   "execution_count": 3,
   "id": "828ab795-22c9-40ce-bb07-4a7ea6304bae",
   "metadata": {},
   "outputs": [
    {
     "name": "stderr",
     "output_type": "stream",
     "text": [
      "  0%|                                                  | 0/2400 [00:00<?, ?it/s]/usr/local/lib64/python3.12/site-packages/torch/nn/modules/conv.py:454: UserWarning: Using padding='same' with even kernel lengths and odd dilation may require a zero-padded copy of the input be created (Triggered internally at ../aten/src/ATen/native/Convolution.cpp:1031.)\n",
      "  return F.conv2d(input, weight, bias, self.stride,\n",
      "100%|██████████████████████████████████████| 2400/2400 [00:07<00:00, 330.16it/s]\n"
     ]
    },
    {
     "name": "stdout",
     "output_type": "stream",
     "text": [
      "Total loss = 174.51024819910526 at epoch 0.\n"
     ]
    },
    {
     "name": "stderr",
     "output_type": "stream",
     "text": [
      "100%|██████████████████████████████████████| 2400/2400 [00:06<00:00, 345.72it/s]\n"
     ]
    },
    {
     "name": "stdout",
     "output_type": "stream",
     "text": [
      "Total loss = 129.52924228087068 at epoch 1.\n"
     ]
    },
    {
     "name": "stderr",
     "output_type": "stream",
     "text": [
      "100%|██████████████████████████████████████| 2400/2400 [00:06<00:00, 343.83it/s]\n"
     ]
    },
    {
     "name": "stdout",
     "output_type": "stream",
     "text": [
      "Total loss = 128.5394751019776 at epoch 2.\n"
     ]
    },
    {
     "name": "stderr",
     "output_type": "stream",
     "text": [
      "100%|██████████████████████████████████████| 2400/2400 [00:06<00:00, 348.06it/s]\n"
     ]
    },
    {
     "name": "stdout",
     "output_type": "stream",
     "text": [
      "Total loss = 128.30514954775572 at epoch 3.\n"
     ]
    },
    {
     "name": "stderr",
     "output_type": "stream",
     "text": [
      "100%|██████████████████████████████████████| 2400/2400 [00:06<00:00, 364.20it/s]\n"
     ]
    },
    {
     "name": "stdout",
     "output_type": "stream",
     "text": [
      "Total loss = 128.22319716587663 at epoch 4.\n"
     ]
    },
    {
     "name": "stderr",
     "output_type": "stream",
     "text": [
      "100%|██████████████████████████████████████| 2400/2400 [00:06<00:00, 354.77it/s]\n"
     ]
    },
    {
     "name": "stdout",
     "output_type": "stream",
     "text": [
      "Total loss = 128.198894623667 at epoch 5.\n"
     ]
    },
    {
     "name": "stderr",
     "output_type": "stream",
     "text": [
      "100%|██████████████████████████████████████| 2400/2400 [00:06<00:00, 345.26it/s]\n"
     ]
    },
    {
     "name": "stdout",
     "output_type": "stream",
     "text": [
      "Total loss = 128.17038559541106 at epoch 6.\n"
     ]
    },
    {
     "name": "stderr",
     "output_type": "stream",
     "text": [
      "100%|██████████████████████████████████████| 2400/2400 [00:07<00:00, 339.68it/s]\n"
     ]
    },
    {
     "name": "stdout",
     "output_type": "stream",
     "text": [
      "Total loss = 128.1604298017919 at epoch 7.\n"
     ]
    },
    {
     "name": "stderr",
     "output_type": "stream",
     "text": [
      "100%|██████████████████████████████████████| 2400/2400 [00:07<00:00, 342.47it/s]\n"
     ]
    },
    {
     "name": "stdout",
     "output_type": "stream",
     "text": [
      "Total loss = 128.15684166923165 at epoch 8.\n"
     ]
    },
    {
     "name": "stderr",
     "output_type": "stream",
     "text": [
      "100%|██████████████████████████████████████| 2400/2400 [00:06<00:00, 345.65it/s]\n"
     ]
    },
    {
     "name": "stdout",
     "output_type": "stream",
     "text": [
      "Total loss = 128.15212202444673 at epoch 9.\n"
     ]
    },
    {
     "name": "stderr",
     "output_type": "stream",
     "text": [
      "100%|██████████████████████████████████████| 2400/2400 [00:06<00:00, 355.04it/s]\n"
     ]
    },
    {
     "name": "stdout",
     "output_type": "stream",
     "text": [
      "Total loss = 128.13891045749187 at epoch 10.\n"
     ]
    },
    {
     "name": "stderr",
     "output_type": "stream",
     "text": [
      "100%|██████████████████████████████████████| 2400/2400 [00:06<00:00, 348.51it/s]\n"
     ]
    },
    {
     "name": "stdout",
     "output_type": "stream",
     "text": [
      "Total loss = 128.1378130018711 at epoch 11.\n"
     ]
    },
    {
     "name": "stderr",
     "output_type": "stream",
     "text": [
      "100%|██████████████████████████████████████| 2400/2400 [00:06<00:00, 357.21it/s]\n"
     ]
    },
    {
     "name": "stdout",
     "output_type": "stream",
     "text": [
      "Total loss = 128.14319789409637 at epoch 12.\n"
     ]
    },
    {
     "name": "stderr",
     "output_type": "stream",
     "text": [
      "100%|██████████████████████████████████████| 2400/2400 [00:06<00:00, 362.04it/s]\n"
     ]
    },
    {
     "name": "stdout",
     "output_type": "stream",
     "text": [
      "Total loss = 128.13220674172044 at epoch 13.\n"
     ]
    },
    {
     "name": "stderr",
     "output_type": "stream",
     "text": [
      "100%|██████████████████████████████████████| 2400/2400 [00:06<00:00, 351.04it/s]\n"
     ]
    },
    {
     "name": "stdout",
     "output_type": "stream",
     "text": [
      "Total loss = 128.13682041689754 at epoch 14.\n"
     ]
    },
    {
     "name": "stderr",
     "output_type": "stream",
     "text": [
      "100%|██████████████████████████████████████| 2400/2400 [00:06<00:00, 372.63it/s]\n"
     ]
    },
    {
     "name": "stdout",
     "output_type": "stream",
     "text": [
      "Total loss = 128.12819737568498 at epoch 15.\n"
     ]
    },
    {
     "name": "stderr",
     "output_type": "stream",
     "text": [
      "100%|██████████████████████████████████████| 2400/2400 [00:06<00:00, 356.98it/s]\n"
     ]
    },
    {
     "name": "stdout",
     "output_type": "stream",
     "text": [
      "Total loss = 128.12844272330403 at epoch 16.\n"
     ]
    },
    {
     "name": "stderr",
     "output_type": "stream",
     "text": [
      "100%|██████████████████████████████████████| 2400/2400 [00:06<00:00, 362.50it/s]\n"
     ]
    },
    {
     "name": "stdout",
     "output_type": "stream",
     "text": [
      "Total loss = 128.12726286426187 at epoch 17.\n"
     ]
    },
    {
     "name": "stderr",
     "output_type": "stream",
     "text": [
      "100%|██████████████████████████████████████| 2400/2400 [00:06<00:00, 359.03it/s]\n"
     ]
    },
    {
     "name": "stdout",
     "output_type": "stream",
     "text": [
      "Total loss = 128.11987376585603 at epoch 18.\n"
     ]
    },
    {
     "name": "stderr",
     "output_type": "stream",
     "text": [
      "100%|██████████████████████████████████████| 2400/2400 [00:06<00:00, 351.02it/s]\n"
     ]
    },
    {
     "name": "stdout",
     "output_type": "stream",
     "text": [
      "Total loss = 128.11560109257698 at epoch 19.\n"
     ]
    },
    {
     "name": "stderr",
     "output_type": "stream",
     "text": [
      "100%|██████████████████████████████████████| 2400/2400 [00:06<00:00, 349.89it/s]\n"
     ]
    },
    {
     "name": "stdout",
     "output_type": "stream",
     "text": [
      "Total loss = 128.1244481317699 at epoch 20.\n"
     ]
    },
    {
     "name": "stderr",
     "output_type": "stream",
     "text": [
      "100%|██████████████████████████████████████| 2400/2400 [00:06<00:00, 353.06it/s]\n"
     ]
    },
    {
     "name": "stdout",
     "output_type": "stream",
     "text": [
      "Total loss = 128.11481466516852 at epoch 21.\n"
     ]
    },
    {
     "name": "stderr",
     "output_type": "stream",
     "text": [
      "100%|██████████████████████████████████████| 2400/2400 [00:06<00:00, 347.26it/s]\n"
     ]
    },
    {
     "name": "stdout",
     "output_type": "stream",
     "text": [
      "Total loss = 128.12282069772482 at epoch 22.\n"
     ]
    },
    {
     "name": "stderr",
     "output_type": "stream",
     "text": [
      "100%|██████████████████████████████████████| 2400/2400 [00:06<00:00, 350.35it/s]\n"
     ]
    },
    {
     "name": "stdout",
     "output_type": "stream",
     "text": [
      "Total loss = 128.1142154559493 at epoch 23.\n"
     ]
    },
    {
     "name": "stderr",
     "output_type": "stream",
     "text": [
      "100%|██████████████████████████████████████| 2400/2400 [00:06<00:00, 349.36it/s]"
     ]
    },
    {
     "name": "stdout",
     "output_type": "stream",
     "text": [
      "Total loss = 128.11212600395083 at epoch 24.\n"
     ]
    },
    {
     "name": "stderr",
     "output_type": "stream",
     "text": [
      "\n"
     ]
    }
   ],
   "source": [
    "model = train_generate(dataset, 10, epochs=25, device=\"cuda:2\")"
   ]
  },
  {
   "cell_type": "code",
   "execution_count": 5,
   "id": "c1a3693a-ba3b-4880-9326-292e53fd8e2a",
   "metadata": {},
   "outputs": [],
   "source": [
    "import torch"
   ]
  },
  {
   "cell_type": "code",
   "execution_count": 58,
   "id": "4e83c76d-8990-4b89-8484-bd41d5468579",
   "metadata": {},
   "outputs": [],
   "source": [
    "number = torch.Tensor([[0,0,30,0,0,30,0,0,0,0]]).to(\"cuda:2\")"
   ]
  },
  {
   "cell_type": "code",
   "execution_count": 59,
   "id": "d4a61876-a0f7-4939-9115-e7951d7eab9e",
   "metadata": {},
   "outputs": [],
   "source": [
    "with torch.no_grad():\n",
    "    output = model(number).squeeze()"
   ]
  },
  {
   "cell_type": "code",
   "execution_count": 60,
   "id": "9be057ad-b188-4e8c-a768-456b740441b7",
   "metadata": {},
   "outputs": [
    {
     "data": {
      "text/plain": [
       "tensor([[0.0021, 0.0021, 0.0021, 0.0021, 0.0021, 0.0021, 0.0021, 0.0021, 0.0021,\n",
       "         0.0021, 0.0021, 0.0021, 0.0021, 0.0021, 0.0021, 0.0021, 0.0021, 0.0021,\n",
       "         0.0021, 0.0021, 0.0021, 0.0021, 0.0021, 0.0021, 0.0021, 0.0021, 0.0021,\n",
       "         0.0096],\n",
       "        [0.0021, 0.0021, 0.0021, 0.0021, 0.0021, 0.0021, 0.0021, 0.0021, 0.0021,\n",
       "         0.0021, 0.0021, 0.0021, 0.0021, 0.0021, 0.0021, 0.0021, 0.0021, 0.0021,\n",
       "         0.0021, 0.0021, 0.0021, 0.0021, 0.0021, 0.0021, 0.0021, 0.0021, 0.0021,\n",
       "         0.0096],\n",
       "        [0.0021, 0.0021, 0.0021, 0.0021, 0.0021, 0.0021, 0.0021, 0.0021, 0.0021,\n",
       "         0.0021, 0.0021, 0.0021, 0.0021, 0.0021, 0.0021, 0.0021, 0.0021, 0.0021,\n",
       "         0.0021, 0.0021, 0.0021, 0.0021, 0.0021, 0.0021, 0.0021, 0.0021, 0.0021,\n",
       "         0.0096],\n",
       "        [0.0021, 0.0021, 0.0021, 0.0021, 0.0021, 0.0021, 0.0021, 0.0021, 0.0021,\n",
       "         0.0021, 0.0021, 0.0042, 0.0531, 0.0525, 0.0276, 0.0022, 0.0045, 0.0530,\n",
       "         0.0523, 0.0276, 0.0040, 0.0230, 0.0021, 0.0021, 0.0021, 0.0021, 0.0021,\n",
       "         0.0096],\n",
       "        [0.0021, 0.0021, 0.0021, 0.0021, 0.0021, 0.0021, 0.0021, 0.0042, 0.0532,\n",
       "         0.0528, 0.0519, 0.3724, 0.9758, 0.9756, 0.7950, 0.0573, 0.4054, 0.9757,\n",
       "         0.9754, 0.6621, 0.0292, 0.5419, 0.0230, 0.0021, 0.0021, 0.0021, 0.0021,\n",
       "         0.0096],\n",
       "        [0.0021, 0.0021, 0.0021, 0.0021, 0.0021, 0.0021, 0.0021, 0.0230, 0.6682,\n",
       "         0.7884, 0.9723, 0.9761, 0.9761, 0.9761, 0.9761, 0.9761, 0.9761, 0.9761,\n",
       "         0.9761, 0.7951, 0.2184, 0.8993, 0.7408, 0.0276, 0.0021, 0.0021, 0.0021,\n",
       "         0.0096],\n",
       "        [0.0021, 0.0021, 0.0021, 0.0021, 0.0021, 0.0021, 0.0042, 0.0327, 0.0073,\n",
       "         0.4489, 0.9716, 0.9700, 0.9434, 0.9760, 0.9757, 0.9745, 0.9691, 0.9761,\n",
       "         0.9761, 0.9761, 0.9761, 0.9761, 0.9632, 0.2647, 0.0021, 0.0021, 0.0021,\n",
       "         0.0096],\n",
       "        [0.0021, 0.0021, 0.0021, 0.0021, 0.0021, 0.0040, 0.2977, 0.5289, 0.0219,\n",
       "         0.7532, 0.9761, 0.9476, 0.8855, 0.9473, 0.9496, 0.7810, 0.9637, 0.9761,\n",
       "         0.9550, 0.7720, 0.9761, 0.9761, 0.8980, 0.1102, 0.0021, 0.0021, 0.0021,\n",
       "         0.0096],\n",
       "        [0.0021, 0.0021, 0.0021, 0.0021, 0.0021, 0.0239, 0.6596, 0.0572, 0.0021,\n",
       "         0.0219, 0.7455, 0.9695, 0.8704, 0.4312, 0.6876, 0.0662, 0.8693, 0.7622,\n",
       "         0.8057, 0.2576, 0.7548, 0.9761, 0.9761, 0.6620, 0.0021, 0.0021, 0.0021,\n",
       "         0.0096],\n",
       "        [0.0021, 0.0021, 0.0021, 0.0021, 0.0021, 0.0055, 0.0117, 0.0026, 0.0044,\n",
       "         0.0021, 0.0194, 0.6232, 0.4989, 0.0244, 0.1396, 0.0168, 0.2889, 0.2432,\n",
       "         0.5937, 0.1905, 0.1342, 0.6067, 0.7216, 0.5123, 0.0021, 0.0021, 0.0021,\n",
       "         0.0096],\n",
       "        [0.0021, 0.0021, 0.0021, 0.0021, 0.0021, 0.0021, 0.0021, 0.0041, 0.0070,\n",
       "         0.0021, 0.0021, 0.0222, 0.2296, 0.0252, 0.0021, 0.0149, 0.4358, 0.1289,\n",
       "         0.0037, 0.0965, 0.0465, 0.0021, 0.0125, 0.0503, 0.0021, 0.0021, 0.0021,\n",
       "         0.0096],\n",
       "        [0.0021, 0.0021, 0.0021, 0.0021, 0.0021, 0.0021, 0.0021, 0.0021, 0.0021,\n",
       "         0.0021, 0.0035, 0.0270, 0.1784, 0.1524, 0.0248, 0.0021, 0.0043, 0.0279,\n",
       "         0.0152, 0.0680, 0.0021, 0.0021, 0.0021, 0.0021, 0.0021, 0.0021, 0.0021,\n",
       "         0.0096],\n",
       "        [0.0021, 0.0021, 0.0021, 0.0021, 0.0021, 0.0021, 0.0021, 0.0021, 0.0021,\n",
       "         0.0042, 0.2365, 0.9231, 0.7777, 0.2169, 0.1457, 0.0078, 0.0235, 0.1305,\n",
       "         0.0024, 0.0024, 0.0021, 0.0022, 0.0021, 0.0021, 0.0021, 0.0021, 0.0021,\n",
       "         0.0096],\n",
       "        [0.0021, 0.0021, 0.0021, 0.0021, 0.0021, 0.0021, 0.0021, 0.0021, 0.0041,\n",
       "         0.2172, 0.7417, 0.9746, 0.9761, 0.7623, 0.0806, 0.2193, 0.0080, 0.0576,\n",
       "         0.0640, 0.0325, 0.0021, 0.0022, 0.0021, 0.0021, 0.0021, 0.0021, 0.0021,\n",
       "         0.0096],\n",
       "        [0.0021, 0.0021, 0.0021, 0.0021, 0.0021, 0.0021, 0.0021, 0.0021, 0.0210,\n",
       "         0.2073, 0.3724, 0.9760, 0.9756, 0.9372, 0.6306, 0.3232, 0.5910, 0.9753,\n",
       "         0.9739, 0.6505, 0.0023, 0.0029, 0.0021, 0.0021, 0.0021, 0.0021, 0.0021,\n",
       "         0.0096],\n",
       "        [0.0021, 0.0021, 0.0021, 0.0021, 0.0021, 0.0021, 0.0042, 0.0342, 0.0095,\n",
       "         0.3729, 0.9760, 0.9757, 0.9752, 0.9146, 0.2147, 0.3743, 0.9761, 0.9761,\n",
       "         0.9756, 0.7770, 0.0632, 0.0845, 0.0267, 0.0021, 0.0021, 0.0021, 0.0021,\n",
       "         0.0096],\n",
       "        [0.0021, 0.0021, 0.0021, 0.0021, 0.0021, 0.0040, 0.3248, 0.8901, 0.6398,\n",
       "         0.9438, 0.9760, 0.9761, 0.9756, 0.9595, 0.9002, 0.6301, 0.8165, 0.9761,\n",
       "         0.9585, 0.8284, 0.9694, 0.9754, 0.7854, 0.0276, 0.0021, 0.0021, 0.0021,\n",
       "         0.0096],\n",
       "        [0.0021, 0.0021, 0.0021, 0.0021, 0.0022, 0.0376, 0.9667, 0.9761, 0.9482,\n",
       "         0.8304, 0.6627, 0.8756, 0.9743, 0.9487, 0.2443, 0.0696, 0.4313, 0.9585,\n",
       "         0.8801, 0.6321, 0.9722, 0.9761, 0.9761, 0.6611, 0.0021, 0.0021, 0.0021,\n",
       "         0.0096],\n",
       "        [0.0021, 0.0021, 0.0021, 0.0021, 0.0044, 0.3974, 0.9761, 0.9761, 0.9761,\n",
       "         0.7986, 0.1024, 0.6214, 0.9761, 0.7386, 0.0706, 0.7144, 0.9446, 0.9418,\n",
       "         0.9761, 0.9761, 0.9761, 0.9754, 0.9733, 0.7944, 0.0273, 0.0021, 0.0021,\n",
       "         0.0096],\n",
       "        [0.0021, 0.0021, 0.0021, 0.0021, 0.0424, 0.9761, 0.9761, 0.9761, 0.9761,\n",
       "         0.9761, 0.9677, 0.9589, 0.9760, 0.9081, 0.2291, 0.3433, 0.9692, 0.9376,\n",
       "         0.9761, 0.9761, 0.9761, 0.9736, 0.9713, 0.9533, 0.1253, 0.0021, 0.0021,\n",
       "         0.0096],\n",
       "        [0.0021, 0.0021, 0.0021, 0.0021, 0.0424, 0.9760, 0.9761, 0.9761, 0.9761,\n",
       "         0.9761, 0.9761, 0.9761, 0.9539, 0.6072, 0.5903, 0.5996, 0.5517, 0.8887,\n",
       "         0.9761, 0.9761, 0.9761, 0.9761, 0.9761, 0.6620, 0.0021, 0.0021, 0.0021,\n",
       "         0.0096],\n",
       "        [0.0021, 0.0021, 0.0021, 0.0021, 0.0371, 0.9599, 0.9755, 0.9761, 0.9761,\n",
       "         0.9761, 0.9761, 0.9740, 0.7356, 0.0524, 0.0536, 0.0315, 0.0580, 0.9754,\n",
       "         0.9761, 0.9649, 0.9003, 0.9761, 0.9732, 0.5542, 0.0021, 0.0021, 0.0021,\n",
       "         0.0096],\n",
       "        [0.0021, 0.0021, 0.0021, 0.0021, 0.0138, 0.3936, 0.7506, 0.9761, 0.9761,\n",
       "         0.9543, 0.7606, 0.9416, 0.5386, 0.6390, 0.5676, 0.3643, 0.4933, 0.9662,\n",
       "         0.9426, 0.8398, 0.1160, 0.6067, 0.5052, 0.0651, 0.0021, 0.0021, 0.0021,\n",
       "         0.0096],\n",
       "        [0.0021, 0.0021, 0.0021, 0.0021, 0.0021, 0.0022, 0.0229, 0.6067, 0.6066,\n",
       "         0.1316, 0.0233, 0.1505, 0.0036, 0.0033, 0.0059, 0.0732, 0.5883, 0.5349,\n",
       "         0.8031, 0.1274, 0.0021, 0.0022, 0.0021, 0.0021, 0.0021, 0.0021, 0.0021,\n",
       "         0.0096],\n",
       "        [0.0021, 0.0021, 0.0021, 0.0021, 0.0021, 0.0021, 0.0021, 0.0021, 0.0021,\n",
       "         0.0021, 0.0021, 0.0021, 0.0021, 0.0028, 0.0035, 0.0021, 0.0021, 0.0194,\n",
       "         0.1052, 0.0021, 0.0021, 0.0022, 0.0021, 0.0021, 0.0021, 0.0021, 0.0021,\n",
       "         0.0096],\n",
       "        [0.0021, 0.0021, 0.0021, 0.0021, 0.0021, 0.0021, 0.0021, 0.0021, 0.0021,\n",
       "         0.0021, 0.0021, 0.0021, 0.0021, 0.0021, 0.0021, 0.0021, 0.0021, 0.0021,\n",
       "         0.0021, 0.0021, 0.0021, 0.0021, 0.0021, 0.0021, 0.0021, 0.0021, 0.0021,\n",
       "         0.0096],\n",
       "        [0.0021, 0.0021, 0.0021, 0.0021, 0.0021, 0.0021, 0.0021, 0.0021, 0.0021,\n",
       "         0.0021, 0.0021, 0.0021, 0.0021, 0.0021, 0.0021, 0.0021, 0.0021, 0.0021,\n",
       "         0.0021, 0.0021, 0.0021, 0.0021, 0.0021, 0.0021, 0.0021, 0.0021, 0.0021,\n",
       "         0.0096],\n",
       "        [0.0108, 0.0108, 0.0108, 0.0108, 0.0108, 0.0108, 0.0108, 0.0108, 0.0108,\n",
       "         0.0108, 0.0108, 0.0108, 0.0108, 0.0108, 0.0108, 0.0108, 0.0108, 0.0108,\n",
       "         0.0108, 0.0108, 0.0108, 0.0108, 0.0108, 0.0108, 0.0108, 0.0108, 0.0108,\n",
       "         0.0343]], device='cuda:2')"
      ]
     },
     "execution_count": 60,
     "metadata": {},
     "output_type": "execute_result"
    }
   ],
   "source": [
    "output"
   ]
  },
  {
   "cell_type": "code",
   "execution_count": 61,
   "id": "647e739e-56d6-4d2c-91a1-c1fb8ba8fd10",
   "metadata": {},
   "outputs": [],
   "source": [
    "outputnp = output.to(\"cpu\").numpy()"
   ]
  },
  {
   "cell_type": "code",
   "execution_count": 62,
   "id": "a9532c81-1fa5-4103-8030-82954fc0e6e7",
   "metadata": {},
   "outputs": [],
   "source": [
    "from matplotlib import pyplot as plt"
   ]
  },
  {
   "cell_type": "code",
   "execution_count": 63,
   "id": "98761e24-f458-4d4b-a920-6b6ccb87c4db",
   "metadata": {},
   "outputs": [
    {
     "data": {
      "text/plain": [
       "<matplotlib.image.AxesImage at 0x7f573d6bbc80>"
      ]
     },
     "execution_count": 63,
     "metadata": {},
     "output_type": "execute_result"
    },
    {
     "data": {
      "image/png": "[encoded data removed]",
      "text/plain": [
       "<Figure size 640x480 with 1 Axes>"
      ]
     },
     "metadata": {},
     "output_type": "display_data"
    }
   ],
   "source": [
    "plt.imshow(outputnp)"
   ]
  },
  {
   "cell_type": "code",
   "execution_count": null,
   "id": "88333f91-ae55-43f3-9580-2f1f6ac7bd6b",
   "metadata": {},
   "outputs": [],
   "source": [
    "test_dataset = MNISTDataset(\"/scratch/lt2326-2926-h25/mnist-pngs/test\", list(range(10)), device=\"cuda:2\")"
   ]
  },
  {
   "cell_type": "code",
   "execution_count": null,
   "id": "dc1e4c55-b371-4d50-80f0-2904214c5573",
   "metadata": {},
   "outputs": [],
   "source": [
    "from torch.nn.functional import one_hot"
   ]
  },
  {
   "cell_type": "code",
   "execution_count": null,
   "id": "f30c1f61-def8-49de-a11c-5b61ec3d6847",
   "metadata": {},
   "outputs": [],
   "source": [
    "import torch\n",
    "testtensor = torch.LongTensor([1, 0, 9, 8, 4])"
   ]
  },
  {
   "cell_type": "code",
   "execution_count": null,
   "id": "cf2a4b15-41b4-4eb3-af1f-8d19c2489d22",
   "metadata": {},
   "outputs": [],
   "source": [
    "one_hot(testtensor)"
   ]
  },
  {
   "cell_type": "code",
   "execution_count": null,
   "id": "0bbcdbde-d9b3-4bfa-b060-58b3a37bdbe0",
   "metadata": {},
   "outputs": [],
   "source": [
    "import torch\n",
    "test2 = torch.rand((25,28,28))"
   ]
  },
  {
   "cell_type": "code",
   "execution_count": null,
   "id": "ebd5292e-13b1-4efb-a910-167463f3cc20",
   "metadata": {},
   "outputs": [],
   "source": [
    "test3 = test2.unsqueeze(1)"
   ]
  },
  {
   "cell_type": "code",
   "execution_count": null,
   "id": "83899c2c-367d-4b98-b77a-95d08044f6ec",
   "metadata": {},
   "outputs": [],
   "source": [
    "test3.size()"
   ]
  },
  {
   "cell_type": "code",
   "execution_count": null,
   "id": "e1279f36-2457-49c4-97d8-eb3f781e314d",
   "metadata": {},
   "outputs": [],
   "source": [
    "from torcheval.metrics import MulticlassF1Score, MulticlassConfusionMatrix"
   ]
  },
  {
   "cell_type": "code",
   "execution_count": null,
   "id": "8b9bd9a6-1b22-441f-bde0-0b6398b7d400",
   "metadata": {},
   "outputs": [],
   "source": [
    "import torch"
   ]
  },
  {
   "cell_type": "code",
   "execution_count": null,
   "id": "7bbfc978-a1dd-44a6-9b95-e78af7a41b50",
   "metadata": {},
   "outputs": [],
   "source": [
    "testX, testy = zip(*test_dataset.imagetensors)"
   ]
  },
  {
   "cell_type": "code",
   "execution_count": null,
   "id": "5ee34c8d-5d62-4968-80c3-673290bce3ad",
   "metadata": {},
   "outputs": [],
   "source": [
    "testX = torch.concat(testX)"
   ]
  },
  {
   "cell_type": "code",
   "execution_count": null,
   "id": "902af8c4-0a96-4839-8694-67db2afe377c",
   "metadata": {},
   "outputs": [],
   "source": [
    "model.eval()"
   ]
  },
  {
   "cell_type": "code",
   "execution_count": null,
   "id": "880a1236-ddfc-48f7-8fce-9a544500aff5",
   "metadata": {},
   "outputs": [],
   "source": [
    "testX.unsqueeze(1).size()"
   ]
  },
  {
   "cell_type": "code",
   "execution_count": null,
   "id": "42e99609-1ca4-4db7-9613-b62d61df42ec",
   "metadata": {},
   "outputs": [],
   "source": [
    "testy = torch.Tensor(testy).to('cuda:2')"
   ]
  },
  {
   "cell_type": "code",
   "execution_count": null,
   "id": "26d2c5e2-8266-4a4a-baac-52eb9da11bd6",
   "metadata": {},
   "outputs": [],
   "source": [
    "testy"
   ]
  },
  {
   "cell_type": "code",
   "execution_count": null,
   "id": "e167bdfa-ce32-4369-8c73-1380a8920709",
   "metadata": {},
   "outputs": [],
   "source": [
    "with torch.no_grad():\n",
    "    testoutput = model(testX.unsqueeze(1))"
   ]
  },
  {
   "cell_type": "code",
   "execution_count": null,
   "id": "53b01f0c-9fed-4d76-9be3-f1775dbf05b2",
   "metadata": {},
   "outputs": [],
   "source": [
    "metric = MulticlassF1Score()"
   ]
  },
  {
   "cell_type": "code",
   "execution_count": null,
   "id": "eac806c9-5b31-4655-b419-9dc7fd033d13",
   "metadata": {},
   "outputs": [],
   "source": [
    "metric.update(testoutput.squeeze(), testy)"
   ]
  },
  {
   "cell_type": "code",
   "execution_count": null,
   "id": "9d60259c-365a-4eb4-9d8a-c32889cfa4d7",
   "metadata": {},
   "outputs": [],
   "source": [
    "metric.compute()"
   ]
  },
  {
   "cell_type": "code",
   "execution_count": null,
   "id": "32b73a13-44fa-4eda-8fd8-76b1efd12ed2",
   "metadata": {},
   "outputs": [],
   "source": [
    "confusion = MulticlassConfusionMatrix(10)"
   ]
  },
  {
   "cell_type": "code",
   "execution_count": null,
   "id": "8e0f1516-20dd-4f85-a915-cb1f11cdcd93",
   "metadata": {},
   "outputs": [],
   "source": [
    "testoutput"
   ]
  },
  {
   "cell_type": "code",
   "execution_count": null,
   "id": "362b2ce5-0ee2-4c34-a1a2-0b3e08923f60",
   "metadata": {},
   "outputs": [],
   "source": [
    "testoutput.size()"
   ]
  },
  {
   "cell_type": "code",
   "execution_count": null,
   "id": "c4094439-2a0f-4b59-9512-cb36a3648050",
   "metadata": {},
   "outputs": [],
   "source": [
    "testargmax = torch.argmax(testoutput, dim=2)"
   ]
  },
  {
   "cell_type": "code",
   "execution_count": null,
   "id": "bb4ccd37-cf39-4d13-8a34-8305a3808b2d",
   "metadata": {},
   "outputs": [],
   "source": [
    "testargmax.dtype, testy.dtype"
   ]
  },
  {
   "cell_type": "code",
   "execution_count": null,
   "id": "df54ae93-7854-454b-963a-6263431a36a7",
   "metadata": {},
   "outputs": [],
   "source": [
    "confusion.update(testargmax.squeeze(1), testy.long())"
   ]
  },
  {
   "cell_type": "code",
   "execution_count": null,
   "id": "7afc2fd4-ee2d-41bc-9f16-17368fcf0db2",
   "metadata": {},
   "outputs": [],
   "source": [
    "conmatrix = confusion.compute()\n",
    "conmatrix"
   ]
  },
  {
   "cell_type": "code",
   "execution_count": null,
   "id": "71f8f2cd-2cd1-4191-b843-9c25f2ef6210",
   "metadata": {},
   "outputs": [],
   "source": [
    "import matplotlib.pyplot as plt"
   ]
  },
  {
   "cell_type": "code",
   "execution_count": null,
   "id": "aaa047c9-de34-4565-bf2a-06edf7472561",
   "metadata": {},
   "outputs": [],
   "source": [
    "plt.matshow(conmatrix)"
   ]
  },
  {
   "cell_type": "code",
   "execution_count": null,
   "id": "75274f5f-7995-4496-b8ca-32d1ec606f92",
   "metadata": {},
   "outputs": [],
   "source": [
    "trainX, trainy = zip(*dataset.imagetensors)"
   ]
  },
  {
   "cell_type": "code",
   "execution_count": null,
   "id": "ad6db591-8cd5-4667-b7a3-f16ead3c7d1d",
   "metadata": {},
   "outputs": [],
   "source": [
    "trainX = torch.flatten(torch.concat(trainX), 1, 2).numpy()"
   ]
  },
  {
   "cell_type": "code",
   "execution_count": null,
   "id": "678f9f34-1fe3-44a7-80ba-2bd717dc82a7",
   "metadata": {},
   "outputs": [],
   "source": [
    "trainX.shape"
   ]
  },
  {
   "cell_type": "code",
   "execution_count": null,
   "id": "b5f1338d-1667-452a-80b8-11b8264bed41",
   "metadata": {},
   "outputs": [],
   "source": [
    "import numpy as np"
   ]
  },
  {
   "cell_type": "code",
   "execution_count": null,
   "id": "cfab281f-3f83-4e2f-a6a0-e51562ae5cc4",
   "metadata": {},
   "outputs": [],
   "source": [
    "trainy = np.array(trainy)"
   ]
  },
  {
   "cell_type": "code",
   "execution_count": null,
   "id": "c95435b5-ccb6-4b8d-9681-931ad7b9c93e",
   "metadata": {},
   "outputs": [],
   "source": [
    "trainy.shape"
   ]
  },
  {
   "cell_type": "code",
   "execution_count": null,
   "id": "30e3731e-837d-4034-bb70-13170f43a5e2",
   "metadata": {},
   "outputs": [],
   "source": [
    "from sklearn.svm import SVC"
   ]
  },
  {
   "cell_type": "code",
   "execution_count": null,
   "id": "e7d65ee1-2613-4e58-87d9-726e02c40771",
   "metadata": {},
   "outputs": [],
   "source": [
    "svmmodel = SVC()"
   ]
  },
  {
   "cell_type": "code",
   "execution_count": null,
   "id": "b94b0422-3723-4ede-9ca5-8cbdf02a2203",
   "metadata": {},
   "outputs": [],
   "source": [
    "svmmodel.fit(trainX, trainy)"
   ]
  },
  {
   "cell_type": "code",
   "execution_count": null,
   "id": "f6076b50-4139-4ead-a641-588debe04594",
   "metadata": {},
   "outputs": [],
   "source": [
    "testX = torch.flatten(torch.concat(testX), 1, 2).numpy()"
   ]
  },
  {
   "cell_type": "code",
   "execution_count": null,
   "id": "2f8fc1de-96e0-4dcc-8814-bb8ee3949c8d",
   "metadata": {},
   "outputs": [],
   "source": [
    "testy = np.array(testy)"
   ]
  },
  {
   "cell_type": "code",
   "execution_count": null,
   "id": "562e031a-d953-4cac-801f-7e5d4078b5da",
   "metadata": {},
   "outputs": [],
   "source": [
    "testpredictions = svmmodel.predict(testX)"
   ]
  },
  {
   "cell_type": "code",
   "execution_count": null,
   "id": "17a7fbd2-9080-4884-8d6d-6d149ee3170c",
   "metadata": {},
   "outputs": [],
   "source": [
    "testpredictions.shape"
   ]
  },
  {
   "cell_type": "code",
   "execution_count": null,
   "id": "6f14e7cf-7b1a-4b43-aab2-fa05620010d2",
   "metadata": {},
   "outputs": [],
   "source": [
    "from sklearn.metrics import f1_score"
   ]
  },
  {
   "cell_type": "code",
   "execution_count": null,
   "id": "d6e16ebc-5708-4f27-b43d-16f92c5d43b7",
   "metadata": {},
   "outputs": [],
   "source": [
    "f1_score(testy, testpredictions)"
   ]
  },
  {
   "cell_type": "code",
   "execution_count": null,
   "id": "ea0505ba-e2e5-452b-aa25-47e13886fe75",
   "metadata": {},
   "outputs": [],
   "source": [
    "dir(dataset)"
   ]
  },
  {
   "cell_type": "code",
   "execution_count": null,
   "id": "291839a5-e967-41f3-9c37-effa25b4ef4c",
   "metadata": {},
   "outputs": [],
   "source": [
    "dataset[10000]"
   ]
  },
  {
   "cell_type": "code",
   "execution_count": null,
   "id": "ea906f00-eac0-4166-b086-fdc47f0f421c",
   "metadata": {},
   "outputs": [],
   "source": [
    "from matplotlib import pyplot as plt"
   ]
  },
  {
   "cell_type": "code",
   "execution_count": null,
   "id": "98a3ad22-84f6-4ad8-9b45-0db0846ae64c",
   "metadata": {},
   "outputs": [],
   "source": [
    "plt.imshow(dataset[2000][0].squeeze(0).numpy())"
   ]
  },
  {
   "cell_type": "code",
   "execution_count": null,
   "id": "281f16dd-0e8b-4fbc-a723-c2e7e61fc18b",
   "metadata": {},
   "outputs": [],
   "source": [
    "import torch.nn as nn\n",
    "convtest = nn.Conv2d(1, 1, (2,2), padding=\"same\")"
   ]
  },
  {
   "cell_type": "code",
   "execution_count": null,
   "id": "007ab362-348f-495d-bd36-54c39755e82a",
   "metadata": {},
   "outputs": [],
   "source": [
    "output = convtest(dataset[2000][0])"
   ]
  },
  {
   "cell_type": "code",
   "execution_count": null,
   "id": "debee849-0b8d-419d-92ad-62960d1f66a2",
   "metadata": {},
   "outputs": [],
   "source": [
    "output.size()"
   ]
  },
  {
   "cell_type": "code",
   "execution_count": null,
   "id": "0c093a68-8f79-487c-8891-91ca4c2609bb",
   "metadata": {},
   "outputs": [],
   "source": [
    "flattener = nn.Flatten(1,2)"
   ]
  },
  {
   "cell_type": "code",
   "execution_count": null,
   "id": "116ccd60-ee2a-46e7-b23f-92c5c82ce9f7",
   "metadata": {},
   "outputs": [],
   "source": [
    "output2 = flattener(output)"
   ]
  },
  {
   "cell_type": "code",
   "execution_count": null,
   "id": "66108809-6411-4812-94df-ae15921f14ed",
   "metadata": {},
   "outputs": [],
   "source": [
    "output2.size()"
   ]
  },
  {
   "cell_type": "code",
   "execution_count": null,
   "id": "52d7e298-b901-478d-afb3-d38420bbdbf2",
   "metadata": {},
   "outputs": [],
   "source": [
    "28*28"
   ]
  },
  {
   "cell_type": "code",
   "execution_count": null,
   "id": "7c0f6389-5130-46f0-81f7-75cac52c3008",
   "metadata": {},
   "outputs": [],
   "source": [
    "linear = nn.Linear(784, 2)"
   ]
  },
  {
   "cell_type": "code",
   "execution_count": null,
   "id": "3ae5d98a-bb79-4c70-b7f4-52c34ed4c238",
   "metadata": {},
   "outputs": [],
   "source": [
    "output3 = linear(output2)"
   ]
  },
  {
   "cell_type": "code",
   "execution_count": null,
   "id": "2a954240-9db3-4827-baeb-7b24f61b997c",
   "metadata": {},
   "outputs": [],
   "source": [
    "output3"
   ]
  },
  {
   "cell_type": "code",
   "execution_count": null,
   "id": "bc6c828e-6979-40d9-8b52-b2da70757751",
   "metadata": {},
   "outputs": [],
   "source": [
    "output3.size()"
   ]
  },
  {
   "cell_type": "code",
   "execution_count": null,
   "id": "c50bb415-89ea-457f-bb3d-d0b8b9354797",
   "metadata": {},
   "outputs": [],
   "source": [
    "from torch.utils.data import default_collate"
   ]
  },
  {
   "cell_type": "code",
   "execution_count": null,
   "id": "e83b435e-ef4d-4a7d-86a2-400d77352000",
   "metadata": {},
   "outputs": [],
   "source": [
    "default_collate([dataset[2000],dataset[10000]])"
   ]
  },
  {
   "cell_type": "code",
   "execution_count": null,
   "id": "af8e111c-9fb4-4153-ac24-26d4a5cb4da8",
   "metadata": {},
   "outputs": [],
   "source": [
    "blahtensor = torch.randint(10, (1,20,20))"
   ]
  },
  {
   "cell_type": "code",
   "execution_count": null,
   "id": "a7588f02-f9fd-42f4-9b8b-a26c90290bca",
   "metadata": {},
   "outputs": [],
   "source": [
    "blahtensor"
   ]
  },
  {
   "cell_type": "code",
   "execution_count": null,
   "id": "b04ea209-ec4e-4036-865f-af9360c88c3f",
   "metadata": {},
   "outputs": [],
   "source": [
    "import torch.nn as nn\n",
    "unflattener = nn.Unflatten(2, (4, 5))"
   ]
  },
  {
   "cell_type": "code",
   "execution_count": null,
   "id": "4c9f3464-c241-4af1-8032-48b1b65824e3",
   "metadata": {},
   "outputs": [],
   "source": [
    "unflattener(blahtensor)"
   ]
  },
  {
   "cell_type": "code",
   "execution_count": null,
   "id": "883b8d8a-3735-4bda-b050-e48691cf2c3a",
   "metadata": {},
   "outputs": [],
   "source": [
    "blahtensor[0]"
   ]
  },
  {
   "cell_type": "code",
   "execution_count": null,
   "id": "2480de16-a784-4b9f-9411-af218fbe5446",
   "metadata": {},
   "outputs": [],
   "source": []
  }
 ],
 "metadata": {
  "kernelspec": {
   "display_name": "Python 3 (ipykernel)",
   "language": "python",
   "name": "python3"
  },
  "language_info": {
   "codemirror_mode": {
    "name": "ipython",
    "version": 3
   },
   "file_extension": ".py",
   "mimetype": "text/x-python",
   "name": "python",
   "nbconvert_exporter": "python",
   "pygments_lexer": "ipython3",
   "version": "3.12.11"
  }
 },
 "nbformat": 4,
 "nbformat_minor": 5
}

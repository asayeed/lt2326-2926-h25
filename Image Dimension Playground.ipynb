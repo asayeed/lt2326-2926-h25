{
 "cells": [
  {
   "cell_type": "code",
   "execution_count": 1,
   "id": "71385ec1-e664-4938-a36f-1f949abbeef7",
   "metadata": {},
   "outputs": [],
   "source": [
    "import torch\n",
    "import torch.nn as nn"
   ]
  },
  {
   "cell_type": "code",
   "execution_count": 2,
   "id": "750b9678-cc62-45e5-bedb-c130a2036b29",
   "metadata": {},
   "outputs": [],
   "source": [
    "randomimage = torch.rand((3, 100, 150))"
   ]
  },
  {
   "cell_type": "code",
   "execution_count": 3,
   "id": "88c4b98d-a841-4fb4-988b-0de68311969c",
   "metadata": {},
   "outputs": [
    {
     "data": {
      "text/plain": [
       "tensor([[[0.2580, 0.7481, 0.5735,  ..., 0.8887, 0.9089, 0.6511],\n",
       "         [0.9633, 0.7706, 0.3409,  ..., 0.1863, 0.6161, 0.2153],\n",
       "         [0.2609, 0.5669, 0.6159,  ..., 0.0488, 0.0340, 0.4791],\n",
       "         ...,\n",
       "         [0.2877, 0.8229, 0.9152,  ..., 0.9684, 0.9354, 0.1222],\n",
       "         [0.1916, 0.5251, 0.8942,  ..., 0.1941, 0.6207, 0.4966],\n",
       "         [0.1748, 0.7617, 0.5933,  ..., 0.3307, 0.8909, 0.7600]],\n",
       "\n",
       "        [[0.8299, 0.4437, 0.9840,  ..., 0.2183, 0.7729, 0.9232],\n",
       "         [0.7445, 0.8798, 0.9952,  ..., 0.4516, 0.3758, 0.3491],\n",
       "         [0.4537, 0.2647, 0.1802,  ..., 0.6581, 0.7005, 0.9242],\n",
       "         ...,\n",
       "         [0.6107, 0.1237, 0.9462,  ..., 0.7119, 0.1873, 0.2384],\n",
       "         [0.2552, 0.7997, 0.1605,  ..., 0.3587, 0.4156, 0.6832],\n",
       "         [0.1657, 0.0436, 0.5725,  ..., 0.3944, 0.9709, 0.9789]],\n",
       "\n",
       "        [[0.5477, 0.2925, 0.8286,  ..., 0.0825, 0.7374, 0.9807],\n",
       "         [0.0622, 0.4022, 0.6170,  ..., 0.4563, 0.0986, 0.3629],\n",
       "         [0.7891, 0.3931, 0.4362,  ..., 0.4295, 0.6597, 0.3703],\n",
       "         ...,\n",
       "         [0.0702, 0.4637, 0.9324,  ..., 0.1523, 0.2159, 0.0429],\n",
       "         [0.6978, 0.0187, 0.9839,  ..., 0.1617, 0.3435, 0.6325],\n",
       "         [0.4591, 0.5118, 0.5767,  ..., 0.1748, 0.7406, 0.6045]]])"
      ]
     },
     "execution_count": 3,
     "metadata": {},
     "output_type": "execute_result"
    }
   ],
   "source": [
    "randomimage"
   ]
  },
  {
   "cell_type": "code",
   "execution_count": 4,
   "id": "4fd65416-a170-4a17-8d1a-eb3ef970ad18",
   "metadata": {},
   "outputs": [
    {
     "data": {
      "text/plain": [
       "torch.Size([3, 100, 150])"
      ]
     },
     "execution_count": 4,
     "metadata": {},
     "output_type": "execute_result"
    }
   ],
   "source": [
    "randomimage.size()"
   ]
  },
  {
   "cell_type": "code",
   "execution_count": 5,
   "id": "45386479-a11e-47c2-bf24-426ef067a63e",
   "metadata": {},
   "outputs": [],
   "source": [
    "conv2d = nn.Conv2d(3, 1, (3,3), padding=\"same\")"
   ]
  },
  {
   "cell_type": "code",
   "execution_count": 9,
   "id": "c64b70a8-c696-4776-a504-bb2298a57e86",
   "metadata": {},
   "outputs": [],
   "source": [
    "output = conv2d(randomimage.unsqueeze(0))"
   ]
  },
  {
   "cell_type": "code",
   "execution_count": 10,
   "id": "b856cac0-6876-41e6-8b47-f2ed7d8bd0a1",
   "metadata": {},
   "outputs": [
    {
     "data": {
      "text/plain": [
       "tensor([[[[ 0.0247, -0.3376, -0.3023,  ..., -0.0899, -0.0764,  0.2151],\n",
       "          [-0.4841, -0.6529, -0.7425,  ..., -0.5821, -0.8505, -0.3410],\n",
       "          [-0.2463, -0.4760, -0.8349,  ..., -0.5313, -0.4612, -0.2159],\n",
       "          ...,\n",
       "          [-0.3464, -0.4520, -0.1392,  ..., -0.5409, -0.4208, -0.2646],\n",
       "          [-0.1394, -0.4963, -0.3122,  ..., -0.3240, -0.4546, -0.1702],\n",
       "          [ 0.0627, -0.1421, -0.0869,  ..., -0.3635, -0.2450,  0.0121]]]],\n",
       "       grad_fn=<ConvolutionBackward0>)"
      ]
     },
     "execution_count": 10,
     "metadata": {},
     "output_type": "execute_result"
    }
   ],
   "source": [
    "output"
   ]
  },
  {
   "cell_type": "code",
   "execution_count": 11,
   "id": "5941fbfd-d7fe-49c6-a9c5-60026539ab8a",
   "metadata": {},
   "outputs": [
    {
     "data": {
      "text/plain": [
       "torch.Size([1, 1, 100, 150])"
      ]
     },
     "execution_count": 11,
     "metadata": {},
     "output_type": "execute_result"
    }
   ],
   "source": [
    "output.size()"
   ]
  },
  {
   "cell_type": "code",
   "execution_count": 25,
   "id": "52d84a4f-486a-481d-8534-048fecea3cdc",
   "metadata": {},
   "outputs": [],
   "source": [
    "maxpool2d = nn.MaxPool2d((100,3))"
   ]
  },
  {
   "cell_type": "code",
   "execution_count": 26,
   "id": "baa796e1-b4bd-48a3-9034-7f524ff0ab27",
   "metadata": {},
   "outputs": [],
   "source": [
    "output2 = maxpool2d(output)"
   ]
  },
  {
   "cell_type": "code",
   "execution_count": 27,
   "id": "aa4ff324-5d45-4180-b798-5225f477d0fa",
   "metadata": {},
   "outputs": [
    {
     "data": {
      "text/plain": [
       "torch.Size([1, 1, 1, 50])"
      ]
     },
     "execution_count": 27,
     "metadata": {},
     "output_type": "execute_result"
    }
   ],
   "source": [
    "output2.size()"
   ]
  },
  {
   "cell_type": "code",
   "execution_count": 28,
   "id": "10d43d7b-41f4-481b-a356-9377d68a7aaa",
   "metadata": {},
   "outputs": [
    {
     "data": {
      "text/plain": [
       "tensor([[[[ 0.1053, -0.0099,  0.0009,  0.0936,  0.0917,  0.1361,  0.1175,\n",
       "            0.0570,  0.1652,  0.0485,  0.0616, -0.1439,  0.0034,  0.0906,\n",
       "            0.0977,  0.1577,  0.1692, -0.0375,  0.1737,  0.2130,  0.1218,\n",
       "            0.0681,  0.1301, -0.0025,  0.0187,  0.1317, -0.0115, -0.0958,\n",
       "            0.2136,  0.1716,  0.1397,  0.1516, -0.0007,  0.0176, -0.0179,\n",
       "            0.0188,  0.1014,  0.1359,  0.0297,  0.2032,  0.2257,  0.0412,\n",
       "            0.0379, -0.0026,  0.0449,  0.1375, -0.0769,  0.0621, -0.0976,\n",
       "            0.2440]]]], grad_fn=<MaxPool2DWithIndicesBackward0>)"
      ]
     },
     "execution_count": 28,
     "metadata": {},
     "output_type": "execute_result"
    }
   ],
   "source": [
    "output2"
   ]
  },
  {
   "cell_type": "code",
   "execution_count": 29,
   "id": "89550ce1-f18a-4fc6-a2f9-7a7c21d29015",
   "metadata": {},
   "outputs": [
    {
     "data": {
      "text/plain": [
       "tensor([ 0.1053, -0.0099,  0.0009,  0.0936,  0.0917,  0.1361,  0.1175,  0.0570,\n",
       "         0.1652,  0.0485,  0.0616, -0.1439,  0.0034,  0.0906,  0.0977,  0.1577,\n",
       "         0.1692, -0.0375,  0.1737,  0.2130,  0.1218,  0.0681,  0.1301, -0.0025,\n",
       "         0.0187,  0.1317, -0.0115, -0.0958,  0.2136,  0.1716,  0.1397,  0.1516,\n",
       "        -0.0007,  0.0176, -0.0179,  0.0188,  0.1014,  0.1359,  0.0297,  0.2032,\n",
       "         0.2257,  0.0412,  0.0379, -0.0026,  0.0449,  0.1375, -0.0769,  0.0621,\n",
       "        -0.0976,  0.2440], grad_fn=<SqueezeBackward0>)"
      ]
     },
     "execution_count": 29,
     "metadata": {},
     "output_type": "execute_result"
    }
   ],
   "source": [
    "torch.squeeze(output2)"
   ]
  },
  {
   "cell_type": "code",
   "execution_count": 30,
   "id": "f304b06d-13b7-4847-a437-48f424a224dd",
   "metadata": {},
   "outputs": [
    {
     "data": {
      "text/plain": [
       "torch.Size([3, 100, 150])"
      ]
     },
     "execution_count": 30,
     "metadata": {},
     "output_type": "execute_result"
    }
   ],
   "source": [
    "randomimage.size()"
   ]
  },
  {
   "cell_type": "code",
   "execution_count": 32,
   "id": "7c5057b1-8b2c-493a-a35b-c97322b74b81",
   "metadata": {},
   "outputs": [],
   "source": [
    "randomimage2 = randomimage.unsqueeze(0)"
   ]
  },
  {
   "cell_type": "code",
   "execution_count": 33,
   "id": "40e5108f-03c0-40fb-91fe-d0f68c8b747a",
   "metadata": {},
   "outputs": [
    {
     "data": {
      "text/plain": [
       "torch.Size([1, 3, 100, 150])"
      ]
     },
     "execution_count": 33,
     "metadata": {},
     "output_type": "execute_result"
    }
   ],
   "source": [
    "randomimage2.size()"
   ]
  },
  {
   "cell_type": "code",
   "execution_count": 34,
   "id": "8fffd1e9-9f59-4ec5-9539-e028348d251b",
   "metadata": {},
   "outputs": [],
   "source": [
    "randomimage3 = torch.permute(randomimage2, (0,2,3,1))"
   ]
  },
  {
   "cell_type": "code",
   "execution_count": 35,
   "id": "48f85797-ccb6-4fdc-8fbb-c6fe5008fbb8",
   "metadata": {},
   "outputs": [
    {
     "data": {
      "text/plain": [
       "tensor([[[[0.2580, 0.8299, 0.5477],\n",
       "          [0.7481, 0.4437, 0.2925],\n",
       "          [0.5735, 0.9840, 0.8286],\n",
       "          ...,\n",
       "          [0.8887, 0.2183, 0.0825],\n",
       "          [0.9089, 0.7729, 0.7374],\n",
       "          [0.6511, 0.9232, 0.9807]],\n",
       "\n",
       "         [[0.9633, 0.7445, 0.0622],\n",
       "          [0.7706, 0.8798, 0.4022],\n",
       "          [0.3409, 0.9952, 0.6170],\n",
       "          ...,\n",
       "          [0.1863, 0.4516, 0.4563],\n",
       "          [0.6161, 0.3758, 0.0986],\n",
       "          [0.2153, 0.3491, 0.3629]],\n",
       "\n",
       "         [[0.2609, 0.4537, 0.7891],\n",
       "          [0.5669, 0.2647, 0.3931],\n",
       "          [0.6159, 0.1802, 0.4362],\n",
       "          ...,\n",
       "          [0.0488, 0.6581, 0.4295],\n",
       "          [0.0340, 0.7005, 0.6597],\n",
       "          [0.4791, 0.9242, 0.3703]],\n",
       "\n",
       "         ...,\n",
       "\n",
       "         [[0.2877, 0.6107, 0.0702],\n",
       "          [0.8229, 0.1237, 0.4637],\n",
       "          [0.9152, 0.9462, 0.9324],\n",
       "          ...,\n",
       "          [0.9684, 0.7119, 0.1523],\n",
       "          [0.9354, 0.1873, 0.2159],\n",
       "          [0.1222, 0.2384, 0.0429]],\n",
       "\n",
       "         [[0.1916, 0.2552, 0.6978],\n",
       "          [0.5251, 0.7997, 0.0187],\n",
       "          [0.8942, 0.1605, 0.9839],\n",
       "          ...,\n",
       "          [0.1941, 0.3587, 0.1617],\n",
       "          [0.6207, 0.4156, 0.3435],\n",
       "          [0.4966, 0.6832, 0.6325]],\n",
       "\n",
       "         [[0.1748, 0.1657, 0.4591],\n",
       "          [0.7617, 0.0436, 0.5118],\n",
       "          [0.5933, 0.5725, 0.5767],\n",
       "          ...,\n",
       "          [0.3307, 0.3944, 0.1748],\n",
       "          [0.8909, 0.9709, 0.7406],\n",
       "          [0.7600, 0.9789, 0.6045]]]])"
      ]
     },
     "execution_count": 35,
     "metadata": {},
     "output_type": "execute_result"
    }
   ],
   "source": [
    "randomimage3"
   ]
  },
  {
   "cell_type": "code",
   "execution_count": 36,
   "id": "ba256aab-0445-44f1-afa3-8f5241811d70",
   "metadata": {},
   "outputs": [
    {
     "data": {
      "text/plain": [
       "torch.Size([1, 100, 150, 3])"
      ]
     },
     "execution_count": 36,
     "metadata": {},
     "output_type": "execute_result"
    }
   ],
   "source": [
    "randomimage3.size()"
   ]
  },
  {
   "cell_type": "code",
   "execution_count": null,
   "id": "c7b53439-acc0-4c46-bae3-82352547538d",
   "metadata": {},
   "outputs": [],
   "source": []
  }
 ],
 "metadata": {
  "kernelspec": {
   "display_name": "Python 3 (ipykernel)",
   "language": "python",
   "name": "python3"
  },
  "language_info": {
   "codemirror_mode": {
    "name": "ipython",
    "version": 3
   },
   "file_extension": ".py",
   "mimetype": "text/x-python",
   "name": "python",
   "nbconvert_exporter": "python",
   "pygments_lexer": "ipython3",
   "version": "3.12.11"
  }
 },
 "nbformat": 4,
 "nbformat_minor": 5
}
